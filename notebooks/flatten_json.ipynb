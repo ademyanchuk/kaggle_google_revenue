{
 "cells": [
  {
   "cell_type": "markdown",
   "metadata": {},
   "source": [
    "### Imports"
   ]
  },
  {
   "cell_type": "code",
   "execution_count": 3,
   "metadata": {},
   "outputs": [],
   "source": [
    "%load_ext autoreload\n",
    "%autoreload 2"
   ]
  },
  {
   "cell_type": "code",
   "execution_count": 4,
   "metadata": {},
   "outputs": [],
   "source": [
    "import sys"
   ]
  },
  {
   "cell_type": "code",
   "execution_count": 1,
   "metadata": {},
   "outputs": [],
   "source": [
    "import numpy as np\n",
    "import pandas as pd"
   ]
  },
  {
   "cell_type": "code",
   "execution_count": 34,
   "metadata": {},
   "outputs": [],
   "source": [
    "pd.set_option('display.max_columns', 500)"
   ]
  },
  {
   "cell_type": "code",
   "execution_count": 11,
   "metadata": {},
   "outputs": [],
   "source": [
    "import json"
   ]
  },
  {
   "cell_type": "code",
   "execution_count": 12,
   "metadata": {},
   "outputs": [],
   "source": [
    "from pandas.io.json import json_normalize"
   ]
  },
  {
   "cell_type": "code",
   "execution_count": 6,
   "metadata": {},
   "outputs": [],
   "source": [
    "sys.path.append('../src/')"
   ]
  },
  {
   "cell_type": "code",
   "execution_count": 13,
   "metadata": {},
   "outputs": [],
   "source": [
    "from data_utils import load_file"
   ]
  },
  {
   "cell_type": "markdown",
   "metadata": {},
   "source": [
    "### Load data "
   ]
  },
  {
   "cell_type": "code",
   "execution_count": 14,
   "metadata": {},
   "outputs": [],
   "source": [
    "JSON_COLUMNS = ['device', 'geoNetwork', 'totals', 'trafficSource']"
   ]
  },
  {
   "cell_type": "code",
   "execution_count": 15,
   "metadata": {},
   "outputs": [],
   "source": [
    "train_df = load_file('../data/train.csv',\n",
    "                     nrows=10000,\n",
    "                     converters={column: json.loads for column in JSON_COLUMNS})"
   ]
  },
  {
   "cell_type": "code",
   "execution_count": 26,
   "metadata": {},
   "outputs": [
    {
     "name": "stdout",
     "output_type": "stream",
     "text": [
      "CPU times: user 2.03 s, sys: 243 ms, total: 2.28 s\n",
      "Wall time: 2.57 s\n"
     ]
    }
   ],
   "source": [
    "%%time\n",
    "for column in JSON_COLUMNS:\n",
    "    tmp_df = json_normalize(train_df[column])\n",
    "    tmp_df.columns = [f'{train_df[column].name}_{name}' for name in tmp_df.columns]\n",
    "    train_df = train_df.drop(column, axis=1).merge(tmp_df, left_index=True, right_index=True)"
   ]
  },
  {
   "cell_type": "code",
   "execution_count": 38,
   "metadata": {},
   "outputs": [],
   "source": [
    "def flatten_jsons_in_df(path_to_df, nrows=None):\n",
    "    df = load_file(path_to_df,\n",
    "                   nrows=nrows,\n",
    "                   converters={column: json.loads for column in JSON_COLUMNS})\n",
    "    for column in JSON_COLUMNS:\n",
    "        tmp_df = json_normalize(df[column])\n",
    "        tmp_df.columns = [\n",
    "            f'{df[column].name}_{name}' for name in tmp_df.columns]\n",
    "        df = df.drop(column, axis=1).merge(\n",
    "            tmp_df, left_index=True, right_index=True)\n",
    "        \n",
    "    return df"
   ]
  },
  {
   "cell_type": "code",
   "execution_count": 39,
   "metadata": {},
   "outputs": [],
   "source": [
    "train_df = flatten_jsons_in_df('../data/train.csv',\n",
    "                               nrows=10000)"
   ]
  },
  {
   "cell_type": "code",
   "execution_count": 41,
   "metadata": {
    "scrolled": true
   },
   "outputs": [
    {
     "name": "stdout",
     "output_type": "stream",
     "text": [
      "<class 'pandas.core.frame.DataFrame'>\n",
      "RangeIndex: 10000 entries, 0 to 9999\n",
      "Data columns (total 54 columns):\n",
      "channelGrouping                                      10000 non-null object\n",
      "date                                                 10000 non-null int64\n",
      "fullVisitorId                                        10000 non-null object\n",
      "sessionId                                            10000 non-null object\n",
      "socialEngagementType                                 10000 non-null object\n",
      "visitId                                              10000 non-null int64\n",
      "visitNumber                                          10000 non-null int64\n",
      "visitStartTime                                       10000 non-null int64\n",
      "device_browser                                       10000 non-null object\n",
      "device_browserSize                                   10000 non-null object\n",
      "device_browserVersion                                10000 non-null object\n",
      "device_deviceCategory                                10000 non-null object\n",
      "device_flashVersion                                  10000 non-null object\n",
      "device_isMobile                                      10000 non-null bool\n",
      "device_language                                      10000 non-null object\n",
      "device_mobileDeviceBranding                          10000 non-null object\n",
      "device_mobileDeviceInfo                              10000 non-null object\n",
      "device_mobileDeviceMarketingName                     10000 non-null object\n",
      "device_mobileDeviceModel                             10000 non-null object\n",
      "device_mobileInputSelector                           10000 non-null object\n",
      "device_operatingSystem                               10000 non-null object\n",
      "device_operatingSystemVersion                        10000 non-null object\n",
      "device_screenColors                                  10000 non-null object\n",
      "device_screenResolution                              10000 non-null object\n",
      "geoNetwork_city                                      10000 non-null object\n",
      "geoNetwork_cityId                                    10000 non-null object\n",
      "geoNetwork_continent                                 10000 non-null object\n",
      "geoNetwork_country                                   10000 non-null object\n",
      "geoNetwork_latitude                                  10000 non-null object\n",
      "geoNetwork_longitude                                 10000 non-null object\n",
      "geoNetwork_metro                                     10000 non-null object\n",
      "geoNetwork_networkDomain                             10000 non-null object\n",
      "geoNetwork_networkLocation                           10000 non-null object\n",
      "geoNetwork_region                                    10000 non-null object\n",
      "geoNetwork_subContinent                              10000 non-null object\n",
      "totals_bounces                                       5318 non-null object\n",
      "totals_hits                                          10000 non-null object\n",
      "totals_newVisits                                     7701 non-null object\n",
      "totals_pageviews                                     10000 non-null object\n",
      "totals_transactionRevenue                            91 non-null object\n",
      "totals_visits                                        10000 non-null object\n",
      "trafficSource_adContent                              151 non-null object\n",
      "trafficSource_adwordsClickInfo.adNetworkType         250 non-null object\n",
      "trafficSource_adwordsClickInfo.criteriaParameters    10000 non-null object\n",
      "trafficSource_adwordsClickInfo.gclId                 253 non-null object\n",
      "trafficSource_adwordsClickInfo.isVideoAd             250 non-null object\n",
      "trafficSource_adwordsClickInfo.page                  250 non-null object\n",
      "trafficSource_adwordsClickInfo.slot                  250 non-null object\n",
      "trafficSource_campaign                               10000 non-null object\n",
      "trafficSource_isTrueDirect                           3179 non-null object\n",
      "trafficSource_keyword                                5004 non-null object\n",
      "trafficSource_medium                                 10000 non-null object\n",
      "trafficSource_referralPath                           3041 non-null object\n",
      "trafficSource_source                                 10000 non-null object\n",
      "dtypes: bool(1), int64(4), object(49)\n",
      "memory usage: 4.1+ MB\n"
     ]
    }
   ],
   "source": [
    "train_df.info()"
   ]
  },
  {
   "cell_type": "code",
   "execution_count": 42,
   "metadata": {},
   "outputs": [],
   "source": [
    "test_df = flatten_jsons_in_df('../data/test.csv',\n",
    "                               nrows=10000)"
   ]
  },
  {
   "cell_type": "code",
   "execution_count": 43,
   "metadata": {},
   "outputs": [
    {
     "name": "stdout",
     "output_type": "stream",
     "text": [
      "<class 'pandas.core.frame.DataFrame'>\n",
      "RangeIndex: 10000 entries, 0 to 9999\n",
      "Data columns (total 53 columns):\n",
      "channelGrouping                                      10000 non-null object\n",
      "date                                                 10000 non-null int64\n",
      "fullVisitorId                                        10000 non-null object\n",
      "sessionId                                            10000 non-null object\n",
      "socialEngagementType                                 10000 non-null object\n",
      "visitId                                              10000 non-null int64\n",
      "visitNumber                                          10000 non-null int64\n",
      "visitStartTime                                       10000 non-null int64\n",
      "device_browser                                       10000 non-null object\n",
      "device_browserSize                                   10000 non-null object\n",
      "device_browserVersion                                10000 non-null object\n",
      "device_deviceCategory                                10000 non-null object\n",
      "device_flashVersion                                  10000 non-null object\n",
      "device_isMobile                                      10000 non-null bool\n",
      "device_language                                      10000 non-null object\n",
      "device_mobileDeviceBranding                          10000 non-null object\n",
      "device_mobileDeviceInfo                              10000 non-null object\n",
      "device_mobileDeviceMarketingName                     10000 non-null object\n",
      "device_mobileDeviceModel                             10000 non-null object\n",
      "device_mobileInputSelector                           10000 non-null object\n",
      "device_operatingSystem                               10000 non-null object\n",
      "device_operatingSystemVersion                        10000 non-null object\n",
      "device_screenColors                                  10000 non-null object\n",
      "device_screenResolution                              10000 non-null object\n",
      "geoNetwork_city                                      10000 non-null object\n",
      "geoNetwork_cityId                                    10000 non-null object\n",
      "geoNetwork_continent                                 10000 non-null object\n",
      "geoNetwork_country                                   10000 non-null object\n",
      "geoNetwork_latitude                                  10000 non-null object\n",
      "geoNetwork_longitude                                 10000 non-null object\n",
      "geoNetwork_metro                                     10000 non-null object\n",
      "geoNetwork_networkDomain                             10000 non-null object\n",
      "geoNetwork_networkLocation                           10000 non-null object\n",
      "geoNetwork_region                                    10000 non-null object\n",
      "geoNetwork_subContinent                              10000 non-null object\n",
      "totals_bounces                                       5025 non-null object\n",
      "totals_hits                                          10000 non-null object\n",
      "totals_newVisits                                     7301 non-null object\n",
      "totals_pageviews                                     9999 non-null object\n",
      "totals_visits                                        10000 non-null object\n",
      "trafficSource_adContent                              495 non-null object\n",
      "trafficSource_adwordsClickInfo.adNetworkType         515 non-null object\n",
      "trafficSource_adwordsClickInfo.criteriaParameters    10000 non-null object\n",
      "trafficSource_adwordsClickInfo.gclId                 515 non-null object\n",
      "trafficSource_adwordsClickInfo.isVideoAd             515 non-null object\n",
      "trafficSource_adwordsClickInfo.page                  515 non-null object\n",
      "trafficSource_adwordsClickInfo.slot                  515 non-null object\n",
      "trafficSource_campaign                               10000 non-null object\n",
      "trafficSource_isTrueDirect                           3320 non-null object\n",
      "trafficSource_keyword                                5413 non-null object\n",
      "trafficSource_medium                                 10000 non-null object\n",
      "trafficSource_referralPath                           2720 non-null object\n",
      "trafficSource_source                                 10000 non-null object\n",
      "dtypes: bool(1), int64(4), object(48)\n",
      "memory usage: 4.0+ MB\n"
     ]
    }
   ],
   "source": [
    "test_df.info()"
   ]
  },
  {
   "cell_type": "code",
   "execution_count": 44,
   "metadata": {},
   "outputs": [
    {
     "data": {
      "text/plain": [
       "{'totals_transactionRevenue'}"
      ]
     },
     "execution_count": 44,
     "metadata": {},
     "output_type": "execute_result"
    }
   ],
   "source": [
    "test_cols = set(test_df.columns)\n",
    "train_cols = set(train_df.columns)\n",
    "train_cols - test_cols"
   ]
  },
  {
   "cell_type": "code",
   "execution_count": null,
   "metadata": {},
   "outputs": [],
   "source": []
  }
 ],
 "metadata": {
  "kernelspec": {
   "display_name": "Python 3",
   "language": "python",
   "name": "python3"
  },
  "language_info": {
   "codemirror_mode": {
    "name": "ipython",
    "version": 3
   },
   "file_extension": ".py",
   "mimetype": "text/x-python",
   "name": "python",
   "nbconvert_exporter": "python",
   "pygments_lexer": "ipython3",
   "version": "3.6.6"
  },
  "toc": {
   "base_numbering": 1,
   "nav_menu": {},
   "number_sections": true,
   "sideBar": true,
   "skip_h1_title": false,
   "title_cell": "Table of Contents",
   "title_sidebar": "Contents",
   "toc_cell": false,
   "toc_position": {},
   "toc_section_display": true,
   "toc_window_display": false
  }
 },
 "nbformat": 4,
 "nbformat_minor": 2
}
