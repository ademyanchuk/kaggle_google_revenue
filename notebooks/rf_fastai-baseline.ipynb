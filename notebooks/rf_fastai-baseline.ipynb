{
 "cells": [
  {
   "cell_type": "markdown",
   "metadata": {},
   "source": [
    "### Imports"
   ]
  },
  {
   "cell_type": "code",
   "execution_count": 1,
   "metadata": {},
   "outputs": [],
   "source": [
    "%load_ext autoreload\n",
    "%autoreload 2\n",
    "\n",
    "%matplotlib inline"
   ]
  },
  {
   "cell_type": "code",
   "execution_count": 2,
   "metadata": {},
   "outputs": [],
   "source": [
    "import os\n",
    "import math"
   ]
  },
  {
   "cell_type": "code",
   "execution_count": 3,
   "metadata": {},
   "outputs": [],
   "source": [
    "import pandas as pd\n",
    "import numpy as np"
   ]
  },
  {
   "cell_type": "code",
   "execution_count": 4,
   "metadata": {},
   "outputs": [],
   "source": [
    "from pandas.api.types import is_string_dtype, is_numeric_dtype"
   ]
  },
  {
   "cell_type": "code",
   "execution_count": 5,
   "metadata": {},
   "outputs": [
    {
     "data": {
      "text/plain": [
       "'0.23.4'"
      ]
     },
     "execution_count": 5,
     "metadata": {},
     "output_type": "execute_result"
    }
   ],
   "source": [
    "pd.__version__"
   ]
  },
  {
   "cell_type": "code",
   "execution_count": 6,
   "metadata": {
    "scrolled": true
   },
   "outputs": [],
   "source": [
    "from sklearn.ensemble import RandomForestRegressor\n",
    "from IPython.display import display\n",
    "\n",
    "from sklearn import metrics\n",
    "from sklearn.model_selection import TimeSeriesSplit"
   ]
  },
  {
   "cell_type": "code",
   "execution_count": 7,
   "metadata": {},
   "outputs": [],
   "source": [
    "import sys\n",
    "sys.path.append('../src')"
   ]
  },
  {
   "cell_type": "code",
   "execution_count": 8,
   "metadata": {},
   "outputs": [],
   "source": [
    "from workflow.data_utils import load_csv"
   ]
  },
  {
   "cell_type": "code",
   "execution_count": 29,
   "metadata": {},
   "outputs": [],
   "source": [
    "from workflow.log_utils import get_logger"
   ]
  },
  {
   "cell_type": "code",
   "execution_count": 9,
   "metadata": {},
   "outputs": [],
   "source": [
    "# from workflow.structured import add_datepart, train_cats, proc_df, apply_cats"
   ]
  },
  {
   "cell_type": "code",
   "execution_count": 10,
   "metadata": {},
   "outputs": [],
   "source": [
    "from fastai.structured import add_datepart, train_cats, proc_df, apply_cats"
   ]
  },
  {
   "cell_type": "markdown",
   "metadata": {},
   "source": [
    "### Constants"
   ]
  },
  {
   "cell_type": "code",
   "execution_count": 11,
   "metadata": {},
   "outputs": [],
   "source": [
    "def display_all(df):\n",
    "    with pd.option_context(\"display.max_rows\", 1000, \"display.max_columns\", 1000): \n",
    "        display(df)"
   ]
  },
  {
   "cell_type": "code",
   "execution_count": 12,
   "metadata": {},
   "outputs": [],
   "source": [
    "def half_bool_columns_to_float_type(df):\n",
    "    for col in df.columns:\n",
    "        if is_string_dtype(df[col]):\n",
    "            unqs = df[col].unique()\n",
    "            if len(unqs) == 2 and (False in unqs or True in unqs):\n",
    "                print(col)\n",
    "                df[col] = df[col].astype(float)"
   ]
  },
  {
   "cell_type": "code",
   "execution_count": 38,
   "metadata": {},
   "outputs": [],
   "source": [
    "def check_columns_and_types_same_in(a,b):\n",
    "    same_names = all(a.columns == b.columns)\n",
    "    same_types = [a[col].dtype == b[col].dtype for col in a.columns]\n",
    "    return same_names, all(same_types)"
   ]
  },
  {
   "cell_type": "code",
   "execution_count": 46,
   "metadata": {},
   "outputs": [],
   "source": [
    "# some duplicated info\n",
    "drop_columns = ['date', 'sessionId', 'visitId']\n",
    "LN_SPLITTER ='\\n====\\n'"
   ]
  },
  {
   "cell_type": "markdown",
   "metadata": {},
   "source": [
    "### Loads "
   ]
  },
  {
   "cell_type": "code",
   "execution_count": 20,
   "metadata": {},
   "outputs": [
    {
     "name": "stdout",
     "output_type": "stream",
     "text": [
      "CPU times: user 6.09 s, sys: 529 ms, total: 6.62 s\n",
      "Wall time: 7.92 s\n"
     ]
    }
   ],
   "source": [
    "%%time\n",
    "full_train = load_csv('../data/processed_data/processed_train.csv',\n",
    "                      low_memory=False, nrows=None)"
   ]
  },
  {
   "cell_type": "code",
   "execution_count": 21,
   "metadata": {},
   "outputs": [],
   "source": [
    "full_train.drop(columns=drop_columns, inplace=True)"
   ]
  },
  {
   "cell_type": "code",
   "execution_count": 22,
   "metadata": {},
   "outputs": [
    {
     "name": "stdout",
     "output_type": "stream",
     "text": [
      "trafficSource_adwordsClickInfo.isVideoAd\n",
      "trafficSource_isTrueDirect\n"
     ]
    }
   ],
   "source": [
    "half_bool_columns_to_float_type(full_train)"
   ]
  },
  {
   "cell_type": "code",
   "execution_count": 53,
   "metadata": {
    "scrolled": true
   },
   "outputs": [
    {
     "name": "stdout",
     "output_type": "stream",
     "text": [
      "<class 'pandas.core.frame.DataFrame'>\n",
      "Int64Index: 903653 entries, 538675 to 64223\n",
      "Data columns (total 48 columns):\n",
      "channelGrouping                                 903653 non-null category\n",
      "visitNumber                                     903653 non-null int64\n",
      "visitStartTime                                  903653 non-null datetime64[ns]\n",
      "device_browser                                  903653 non-null category\n",
      "device_deviceCategory                           903653 non-null category\n",
      "device_isMobile                                 903653 non-null bool\n",
      "device_operatingSystem                          903653 non-null category\n",
      "geoNetwork_city                                 903653 non-null category\n",
      "geoNetwork_continent                            903653 non-null category\n",
      "geoNetwork_country                              903653 non-null category\n",
      "geoNetwork_metro                                903653 non-null category\n",
      "geoNetwork_networkDomain                        903653 non-null category\n",
      "geoNetwork_region                               903653 non-null category\n",
      "geoNetwork_subContinent                         903653 non-null category\n",
      "totals_bounces                                  450630 non-null float64\n",
      "totals_hits                                     903653 non-null int64\n",
      "totals_newVisits                                703060 non-null float64\n",
      "totals_pageviews                                903553 non-null float64\n",
      "trafficSource_adContent                         10946 non-null category\n",
      "trafficSource_adwordsClickInfo.adNetworkType    21460 non-null category\n",
      "trafficSource_adwordsClickInfo.gclId            21561 non-null category\n",
      "trafficSource_adwordsClickInfo.isVideoAd        21460 non-null float64\n",
      "trafficSource_adwordsClickInfo.page             21460 non-null float64\n",
      "trafficSource_adwordsClickInfo.slot             21460 non-null category\n",
      "trafficSource_campaign                          903653 non-null category\n",
      "trafficSource_isTrueDirect                      274005 non-null float64\n",
      "trafficSource_keyword                           400724 non-null category\n",
      "trafficSource_medium                            903653 non-null category\n",
      "trafficSource_referralPath                      330941 non-null category\n",
      "trafficSource_source                            903653 non-null category\n",
      "totals_transactionRevenue                       903653 non-null float64\n",
      "visitStartTimeYear                              903653 non-null int64\n",
      "visitStartTimeMonth                             903653 non-null int64\n",
      "visitStartTimeWeek                              903653 non-null int64\n",
      "visitStartTimeDay                               903653 non-null int64\n",
      "visitStartTimeDayofweek                         903653 non-null int64\n",
      "visitStartTimeDayofyear                         903653 non-null int64\n",
      "visitStartTimeIs_month_end                      903653 non-null bool\n",
      "visitStartTimeIs_month_start                    903653 non-null bool\n",
      "visitStartTimeIs_quarter_end                    903653 non-null bool\n",
      "visitStartTimeIs_quarter_start                  903653 non-null bool\n",
      "visitStartTimeIs_year_end                       903653 non-null bool\n",
      "visitStartTimeIs_year_start                     903653 non-null bool\n",
      "visitStartTimeHour                              903653 non-null int64\n",
      "visitStartTimeMinute                            903653 non-null int64\n",
      "visitStartTimeSecond                            903653 non-null int64\n",
      "visitStartTimeElapsed                           903653 non-null int64\n",
      "fullVisitorId                                   903653 non-null object\n",
      "dtypes: bool(7), category(20), datetime64[ns](1), float64(7), int64(12), object(1)\n",
      "memory usage: 184.4+ MB\n"
     ]
    }
   ],
   "source": [
    "full_train.info()"
   ]
  },
  {
   "cell_type": "code",
   "execution_count": 21,
   "metadata": {},
   "outputs": [
    {
     "data": {
      "text/html": [
       "<div>\n",
       "<style scoped>\n",
       "    .dataframe tbody tr th:only-of-type {\n",
       "        vertical-align: middle;\n",
       "    }\n",
       "\n",
       "    .dataframe tbody tr th {\n",
       "        vertical-align: top;\n",
       "    }\n",
       "\n",
       "    .dataframe thead th {\n",
       "        text-align: right;\n",
       "    }\n",
       "</style>\n",
       "<table border=\"1\" class=\"dataframe\">\n",
       "  <thead>\n",
       "    <tr style=\"text-align: right;\">\n",
       "      <th></th>\n",
       "      <th>channelGrouping</th>\n",
       "      <th>fullVisitorId</th>\n",
       "      <th>visitNumber</th>\n",
       "      <th>visitStartTime</th>\n",
       "      <th>device_browser</th>\n",
       "      <th>device_deviceCategory</th>\n",
       "      <th>device_isMobile</th>\n",
       "      <th>device_operatingSystem</th>\n",
       "      <th>geoNetwork_city</th>\n",
       "      <th>geoNetwork_continent</th>\n",
       "      <th>geoNetwork_country</th>\n",
       "      <th>geoNetwork_metro</th>\n",
       "      <th>geoNetwork_networkDomain</th>\n",
       "      <th>geoNetwork_region</th>\n",
       "      <th>geoNetwork_subContinent</th>\n",
       "      <th>totals_bounces</th>\n",
       "      <th>totals_hits</th>\n",
       "      <th>totals_newVisits</th>\n",
       "      <th>totals_pageviews</th>\n",
       "      <th>trafficSource_adContent</th>\n",
       "      <th>trafficSource_adwordsClickInfo.adNetworkType</th>\n",
       "      <th>trafficSource_adwordsClickInfo.gclId</th>\n",
       "      <th>trafficSource_adwordsClickInfo.isVideoAd</th>\n",
       "      <th>trafficSource_adwordsClickInfo.page</th>\n",
       "      <th>trafficSource_adwordsClickInfo.slot</th>\n",
       "      <th>trafficSource_campaign</th>\n",
       "      <th>trafficSource_isTrueDirect</th>\n",
       "      <th>trafficSource_keyword</th>\n",
       "      <th>trafficSource_medium</th>\n",
       "      <th>trafficSource_referralPath</th>\n",
       "      <th>trafficSource_source</th>\n",
       "      <th>totals_transactionRevenue</th>\n",
       "    </tr>\n",
       "  </thead>\n",
       "  <tbody>\n",
       "    <tr>\n",
       "      <th>0</th>\n",
       "      <td>Organic Search</td>\n",
       "      <td>1131660440785968503</td>\n",
       "      <td>1</td>\n",
       "      <td>1472830385</td>\n",
       "      <td>Chrome</td>\n",
       "      <td>desktop</td>\n",
       "      <td>False</td>\n",
       "      <td>Windows</td>\n",
       "      <td>Izmir</td>\n",
       "      <td>Asia</td>\n",
       "      <td>Turkey</td>\n",
       "      <td>(not set)</td>\n",
       "      <td>ttnet.com.tr</td>\n",
       "      <td>Izmir</td>\n",
       "      <td>Western Asia</td>\n",
       "      <td>1.0</td>\n",
       "      <td>1</td>\n",
       "      <td>1.0</td>\n",
       "      <td>1.0</td>\n",
       "      <td>NaN</td>\n",
       "      <td>NaN</td>\n",
       "      <td>NaN</td>\n",
       "      <td>NaN</td>\n",
       "      <td>NaN</td>\n",
       "      <td>NaN</td>\n",
       "      <td>(not set)</td>\n",
       "      <td>NaN</td>\n",
       "      <td>(not provided)</td>\n",
       "      <td>organic</td>\n",
       "      <td>NaN</td>\n",
       "      <td>google</td>\n",
       "      <td>NaN</td>\n",
       "    </tr>\n",
       "    <tr>\n",
       "      <th>1</th>\n",
       "      <td>Organic Search</td>\n",
       "      <td>377306020877927890</td>\n",
       "      <td>1</td>\n",
       "      <td>1472880147</td>\n",
       "      <td>Firefox</td>\n",
       "      <td>desktop</td>\n",
       "      <td>False</td>\n",
       "      <td>Macintosh</td>\n",
       "      <td>not available in demo dataset</td>\n",
       "      <td>Oceania</td>\n",
       "      <td>Australia</td>\n",
       "      <td>not available in demo dataset</td>\n",
       "      <td>dodo.net.au</td>\n",
       "      <td>not available in demo dataset</td>\n",
       "      <td>Australasia</td>\n",
       "      <td>1.0</td>\n",
       "      <td>1</td>\n",
       "      <td>1.0</td>\n",
       "      <td>1.0</td>\n",
       "      <td>NaN</td>\n",
       "      <td>NaN</td>\n",
       "      <td>NaN</td>\n",
       "      <td>NaN</td>\n",
       "      <td>NaN</td>\n",
       "      <td>NaN</td>\n",
       "      <td>(not set)</td>\n",
       "      <td>NaN</td>\n",
       "      <td>(not provided)</td>\n",
       "      <td>organic</td>\n",
       "      <td>NaN</td>\n",
       "      <td>google</td>\n",
       "      <td>NaN</td>\n",
       "    </tr>\n",
       "    <tr>\n",
       "      <th>2</th>\n",
       "      <td>Organic Search</td>\n",
       "      <td>3895546263509774583</td>\n",
       "      <td>1</td>\n",
       "      <td>1472865386</td>\n",
       "      <td>Chrome</td>\n",
       "      <td>desktop</td>\n",
       "      <td>False</td>\n",
       "      <td>Windows</td>\n",
       "      <td>Madrid</td>\n",
       "      <td>Europe</td>\n",
       "      <td>Spain</td>\n",
       "      <td>(not set)</td>\n",
       "      <td>unknown.unknown</td>\n",
       "      <td>Community of Madrid</td>\n",
       "      <td>Southern Europe</td>\n",
       "      <td>1.0</td>\n",
       "      <td>1</td>\n",
       "      <td>1.0</td>\n",
       "      <td>1.0</td>\n",
       "      <td>NaN</td>\n",
       "      <td>NaN</td>\n",
       "      <td>NaN</td>\n",
       "      <td>NaN</td>\n",
       "      <td>NaN</td>\n",
       "      <td>NaN</td>\n",
       "      <td>(not set)</td>\n",
       "      <td>NaN</td>\n",
       "      <td>(not provided)</td>\n",
       "      <td>organic</td>\n",
       "      <td>NaN</td>\n",
       "      <td>google</td>\n",
       "      <td>NaN</td>\n",
       "    </tr>\n",
       "    <tr>\n",
       "      <th>3</th>\n",
       "      <td>Organic Search</td>\n",
       "      <td>4763447161404445595</td>\n",
       "      <td>1</td>\n",
       "      <td>1472881213</td>\n",
       "      <td>UC Browser</td>\n",
       "      <td>desktop</td>\n",
       "      <td>False</td>\n",
       "      <td>Linux</td>\n",
       "      <td>not available in demo dataset</td>\n",
       "      <td>Asia</td>\n",
       "      <td>Indonesia</td>\n",
       "      <td>not available in demo dataset</td>\n",
       "      <td>unknown.unknown</td>\n",
       "      <td>not available in demo dataset</td>\n",
       "      <td>Southeast Asia</td>\n",
       "      <td>1.0</td>\n",
       "      <td>1</td>\n",
       "      <td>1.0</td>\n",
       "      <td>1.0</td>\n",
       "      <td>NaN</td>\n",
       "      <td>NaN</td>\n",
       "      <td>NaN</td>\n",
       "      <td>NaN</td>\n",
       "      <td>NaN</td>\n",
       "      <td>NaN</td>\n",
       "      <td>(not set)</td>\n",
       "      <td>NaN</td>\n",
       "      <td>google + online</td>\n",
       "      <td>organic</td>\n",
       "      <td>NaN</td>\n",
       "      <td>google</td>\n",
       "      <td>NaN</td>\n",
       "    </tr>\n",
       "    <tr>\n",
       "      <th>4</th>\n",
       "      <td>Organic Search</td>\n",
       "      <td>27294437909732085</td>\n",
       "      <td>2</td>\n",
       "      <td>1472822600</td>\n",
       "      <td>Chrome</td>\n",
       "      <td>mobile</td>\n",
       "      <td>True</td>\n",
       "      <td>Android</td>\n",
       "      <td>not available in demo dataset</td>\n",
       "      <td>Europe</td>\n",
       "      <td>United Kingdom</td>\n",
       "      <td>not available in demo dataset</td>\n",
       "      <td>unknown.unknown</td>\n",
       "      <td>not available in demo dataset</td>\n",
       "      <td>Northern Europe</td>\n",
       "      <td>1.0</td>\n",
       "      <td>1</td>\n",
       "      <td>NaN</td>\n",
       "      <td>1.0</td>\n",
       "      <td>NaN</td>\n",
       "      <td>NaN</td>\n",
       "      <td>NaN</td>\n",
       "      <td>NaN</td>\n",
       "      <td>NaN</td>\n",
       "      <td>NaN</td>\n",
       "      <td>(not set)</td>\n",
       "      <td>1.0</td>\n",
       "      <td>(not provided)</td>\n",
       "      <td>organic</td>\n",
       "      <td>NaN</td>\n",
       "      <td>google</td>\n",
       "      <td>NaN</td>\n",
       "    </tr>\n",
       "  </tbody>\n",
       "</table>\n",
       "</div>"
      ],
      "text/plain": [
       "  channelGrouping        fullVisitorId  visitNumber  visitStartTime  \\\n",
       "0  Organic Search  1131660440785968503            1      1472830385   \n",
       "1  Organic Search   377306020877927890            1      1472880147   \n",
       "2  Organic Search  3895546263509774583            1      1472865386   \n",
       "3  Organic Search  4763447161404445595            1      1472881213   \n",
       "4  Organic Search    27294437909732085            2      1472822600   \n",
       "\n",
       "  device_browser device_deviceCategory  device_isMobile  \\\n",
       "0         Chrome               desktop            False   \n",
       "1        Firefox               desktop            False   \n",
       "2         Chrome               desktop            False   \n",
       "3     UC Browser               desktop            False   \n",
       "4         Chrome                mobile             True   \n",
       "\n",
       "  device_operatingSystem                geoNetwork_city geoNetwork_continent  \\\n",
       "0                Windows                          Izmir                 Asia   \n",
       "1              Macintosh  not available in demo dataset              Oceania   \n",
       "2                Windows                         Madrid               Europe   \n",
       "3                  Linux  not available in demo dataset                 Asia   \n",
       "4                Android  not available in demo dataset               Europe   \n",
       "\n",
       "  geoNetwork_country               geoNetwork_metro geoNetwork_networkDomain  \\\n",
       "0             Turkey                      (not set)             ttnet.com.tr   \n",
       "1          Australia  not available in demo dataset              dodo.net.au   \n",
       "2              Spain                      (not set)          unknown.unknown   \n",
       "3          Indonesia  not available in demo dataset          unknown.unknown   \n",
       "4     United Kingdom  not available in demo dataset          unknown.unknown   \n",
       "\n",
       "               geoNetwork_region geoNetwork_subContinent  totals_bounces  \\\n",
       "0                          Izmir            Western Asia             1.0   \n",
       "1  not available in demo dataset             Australasia             1.0   \n",
       "2            Community of Madrid         Southern Europe             1.0   \n",
       "3  not available in demo dataset          Southeast Asia             1.0   \n",
       "4  not available in demo dataset         Northern Europe             1.0   \n",
       "\n",
       "   totals_hits  totals_newVisits  totals_pageviews trafficSource_adContent  \\\n",
       "0            1               1.0               1.0                     NaN   \n",
       "1            1               1.0               1.0                     NaN   \n",
       "2            1               1.0               1.0                     NaN   \n",
       "3            1               1.0               1.0                     NaN   \n",
       "4            1               NaN               1.0                     NaN   \n",
       "\n",
       "  trafficSource_adwordsClickInfo.adNetworkType  \\\n",
       "0                                          NaN   \n",
       "1                                          NaN   \n",
       "2                                          NaN   \n",
       "3                                          NaN   \n",
       "4                                          NaN   \n",
       "\n",
       "  trafficSource_adwordsClickInfo.gclId  \\\n",
       "0                                  NaN   \n",
       "1                                  NaN   \n",
       "2                                  NaN   \n",
       "3                                  NaN   \n",
       "4                                  NaN   \n",
       "\n",
       "   trafficSource_adwordsClickInfo.isVideoAd  \\\n",
       "0                                       NaN   \n",
       "1                                       NaN   \n",
       "2                                       NaN   \n",
       "3                                       NaN   \n",
       "4                                       NaN   \n",
       "\n",
       "   trafficSource_adwordsClickInfo.page trafficSource_adwordsClickInfo.slot  \\\n",
       "0                                  NaN                                 NaN   \n",
       "1                                  NaN                                 NaN   \n",
       "2                                  NaN                                 NaN   \n",
       "3                                  NaN                                 NaN   \n",
       "4                                  NaN                                 NaN   \n",
       "\n",
       "  trafficSource_campaign  trafficSource_isTrueDirect trafficSource_keyword  \\\n",
       "0              (not set)                         NaN        (not provided)   \n",
       "1              (not set)                         NaN        (not provided)   \n",
       "2              (not set)                         NaN        (not provided)   \n",
       "3              (not set)                         NaN       google + online   \n",
       "4              (not set)                         1.0        (not provided)   \n",
       "\n",
       "  trafficSource_medium trafficSource_referralPath trafficSource_source  \\\n",
       "0              organic                        NaN               google   \n",
       "1              organic                        NaN               google   \n",
       "2              organic                        NaN               google   \n",
       "3              organic                        NaN               google   \n",
       "4              organic                        NaN               google   \n",
       "\n",
       "   totals_transactionRevenue  \n",
       "0                        NaN  \n",
       "1                        NaN  \n",
       "2                        NaN  \n",
       "3                        NaN  \n",
       "4                        NaN  "
      ]
     },
     "metadata": {},
     "output_type": "display_data"
    }
   ],
   "source": [
    "display_all(full_train.head())"
   ]
  },
  {
   "cell_type": "code",
   "execution_count": 24,
   "metadata": {},
   "outputs": [
    {
     "name": "stdout",
     "output_type": "stream",
     "text": [
      "CPU times: user 5.43 s, sys: 404 ms, total: 5.83 s\n",
      "Wall time: 6.51 s\n"
     ]
    }
   ],
   "source": [
    "%%time\n",
    "test_df = load_csv('../data/processed_data/processed_test.csv', low_memory=False, nrows=None)"
   ]
  },
  {
   "cell_type": "code",
   "execution_count": 25,
   "metadata": {},
   "outputs": [],
   "source": [
    "test_df.drop(columns=drop_columns, inplace=True)"
   ]
  },
  {
   "cell_type": "code",
   "execution_count": 26,
   "metadata": {},
   "outputs": [
    {
     "name": "stdout",
     "output_type": "stream",
     "text": [
      "trafficSource_adwordsClickInfo.isVideoAd\n",
      "trafficSource_isTrueDirect\n"
     ]
    }
   ],
   "source": [
    "half_bool_columns_to_float_type(test_df)"
   ]
  },
  {
   "cell_type": "code",
   "execution_count": 27,
   "metadata": {
    "scrolled": true
   },
   "outputs": [
    {
     "name": "stdout",
     "output_type": "stream",
     "text": [
      "<class 'pandas.core.frame.DataFrame'>\n",
      "RangeIndex: 804684 entries, 0 to 804683\n",
      "Data columns (total 31 columns):\n",
      "channelGrouping                                 804684 non-null object\n",
      "fullVisitorId                                   804684 non-null object\n",
      "visitNumber                                     804684 non-null int64\n",
      "visitStartTime                                  804684 non-null int64\n",
      "device_browser                                  804684 non-null object\n",
      "device_deviceCategory                           804684 non-null object\n",
      "device_isMobile                                 804684 non-null bool\n",
      "device_operatingSystem                          804684 non-null object\n",
      "geoNetwork_city                                 804684 non-null object\n",
      "geoNetwork_continent                            804684 non-null object\n",
      "geoNetwork_country                              804684 non-null object\n",
      "geoNetwork_metro                                804684 non-null object\n",
      "geoNetwork_networkDomain                        804684 non-null object\n",
      "geoNetwork_region                               804684 non-null object\n",
      "geoNetwork_subContinent                         804684 non-null object\n",
      "totals_bounces                                  420948 non-null float64\n",
      "totals_hits                                     804684 non-null int64\n",
      "totals_newVisits                                604370 non-null float64\n",
      "totals_pageviews                                804545 non-null float64\n",
      "trafficSource_adContent                         53791 non-null object\n",
      "trafficSource_adwordsClickInfo.adNetworkType    53814 non-null object\n",
      "trafficSource_adwordsClickInfo.gclId            53862 non-null object\n",
      "trafficSource_adwordsClickInfo.isVideoAd        53814 non-null float64\n",
      "trafficSource_adwordsClickInfo.page             53814 non-null float64\n",
      "trafficSource_adwordsClickInfo.slot             53814 non-null object\n",
      "trafficSource_campaign                          804684 non-null object\n",
      "trafficSource_isTrueDirect                      260513 non-null float64\n",
      "trafficSource_keyword                           413652 non-null object\n",
      "trafficSource_medium                            804684 non-null object\n",
      "trafficSource_referralPath                      235323 non-null object\n",
      "trafficSource_source                            804684 non-null object\n",
      "dtypes: bool(1), float64(6), int64(3), object(21)\n",
      "memory usage: 184.9+ MB\n"
     ]
    }
   ],
   "source": [
    "test_df.info()"
   ]
  },
  {
   "cell_type": "markdown",
   "metadata": {},
   "source": [
    "#### Check column names and types are == for train and test"
   ]
  },
  {
   "cell_type": "code",
   "execution_count": 58,
   "metadata": {},
   "outputs": [
    {
     "data": {
      "text/plain": [
       "True"
      ]
     },
     "execution_count": 58,
     "metadata": {},
     "output_type": "execute_result"
    }
   ],
   "source": [
    "all(full_train.drop('totals_transactionRevenue', axis=1).columns == test_df.columns)"
   ]
  },
  {
   "cell_type": "code",
   "execution_count": 59,
   "metadata": {},
   "outputs": [
    {
     "data": {
      "text/plain": [
       "True"
      ]
     },
     "execution_count": 59,
     "metadata": {},
     "output_type": "execute_result"
    }
   ],
   "source": [
    "types_equal = []\n",
    "for col_name in test_df.columns:\n",
    "    types_equal.append(full_train[col_name].dtype == test_df[col_name].dtype)\n",
    "\n",
    "all(types_equal)"
   ]
  },
  {
   "cell_type": "code",
   "execution_count": 37,
   "metadata": {},
   "outputs": [
    {
     "data": {
      "text/plain": [
       "(True, True)"
      ]
     },
     "execution_count": 37,
     "metadata": {},
     "output_type": "execute_result"
    }
   ],
   "source": [
    "check_columns_and_types_same_in(full_train.drop('totals_transactionRevenue', axis=1), test_df)"
   ]
  },
  {
   "cell_type": "code",
   "execution_count": 23,
   "metadata": {
    "scrolled": true
   },
   "outputs": [
    {
     "data": {
      "text/html": [
       "<div>\n",
       "<style scoped>\n",
       "    .dataframe tbody tr th:only-of-type {\n",
       "        vertical-align: middle;\n",
       "    }\n",
       "\n",
       "    .dataframe tbody tr th {\n",
       "        vertical-align: top;\n",
       "    }\n",
       "\n",
       "    .dataframe thead th {\n",
       "        text-align: right;\n",
       "    }\n",
       "</style>\n",
       "<table border=\"1\" class=\"dataframe\">\n",
       "  <thead>\n",
       "    <tr style=\"text-align: right;\">\n",
       "      <th></th>\n",
       "      <th>count</th>\n",
       "      <th>unique</th>\n",
       "      <th>top</th>\n",
       "      <th>freq</th>\n",
       "      <th>mean</th>\n",
       "      <th>std</th>\n",
       "      <th>min</th>\n",
       "      <th>25%</th>\n",
       "      <th>50%</th>\n",
       "      <th>75%</th>\n",
       "      <th>max</th>\n",
       "    </tr>\n",
       "  </thead>\n",
       "  <tbody>\n",
       "    <tr>\n",
       "      <th>channelGrouping</th>\n",
       "      <td>903653</td>\n",
       "      <td>8</td>\n",
       "      <td>Organic Search</td>\n",
       "      <td>381561</td>\n",
       "      <td>NaN</td>\n",
       "      <td>NaN</td>\n",
       "      <td>NaN</td>\n",
       "      <td>NaN</td>\n",
       "      <td>NaN</td>\n",
       "      <td>NaN</td>\n",
       "      <td>NaN</td>\n",
       "    </tr>\n",
       "    <tr>\n",
       "      <th>fullVisitorId</th>\n",
       "      <td>903653</td>\n",
       "      <td>714167</td>\n",
       "      <td>1957458976293878100</td>\n",
       "      <td>278</td>\n",
       "      <td>NaN</td>\n",
       "      <td>NaN</td>\n",
       "      <td>NaN</td>\n",
       "      <td>NaN</td>\n",
       "      <td>NaN</td>\n",
       "      <td>NaN</td>\n",
       "      <td>NaN</td>\n",
       "    </tr>\n",
       "    <tr>\n",
       "      <th>visitNumber</th>\n",
       "      <td>903653</td>\n",
       "      <td>NaN</td>\n",
       "      <td>NaN</td>\n",
       "      <td>NaN</td>\n",
       "      <td>2.2649</td>\n",
       "      <td>9.28373</td>\n",
       "      <td>1</td>\n",
       "      <td>1</td>\n",
       "      <td>1</td>\n",
       "      <td>1</td>\n",
       "      <td>395</td>\n",
       "    </tr>\n",
       "    <tr>\n",
       "      <th>visitStartTime</th>\n",
       "      <td>903653</td>\n",
       "      <td>NaN</td>\n",
       "      <td>NaN</td>\n",
       "      <td>NaN</td>\n",
       "      <td>1.48501e+09</td>\n",
       "      <td>9.02212e+06</td>\n",
       "      <td>1.47003e+09</td>\n",
       "      <td>1.47756e+09</td>\n",
       "      <td>1.48395e+09</td>\n",
       "      <td>1.49276e+09</td>\n",
       "      <td>1.50166e+09</td>\n",
       "    </tr>\n",
       "    <tr>\n",
       "      <th>device_browser</th>\n",
       "      <td>903653</td>\n",
       "      <td>54</td>\n",
       "      <td>Chrome</td>\n",
       "      <td>620364</td>\n",
       "      <td>NaN</td>\n",
       "      <td>NaN</td>\n",
       "      <td>NaN</td>\n",
       "      <td>NaN</td>\n",
       "      <td>NaN</td>\n",
       "      <td>NaN</td>\n",
       "      <td>NaN</td>\n",
       "    </tr>\n",
       "    <tr>\n",
       "      <th>device_deviceCategory</th>\n",
       "      <td>903653</td>\n",
       "      <td>3</td>\n",
       "      <td>desktop</td>\n",
       "      <td>664479</td>\n",
       "      <td>NaN</td>\n",
       "      <td>NaN</td>\n",
       "      <td>NaN</td>\n",
       "      <td>NaN</td>\n",
       "      <td>NaN</td>\n",
       "      <td>NaN</td>\n",
       "      <td>NaN</td>\n",
       "    </tr>\n",
       "    <tr>\n",
       "      <th>device_isMobile</th>\n",
       "      <td>903653</td>\n",
       "      <td>2</td>\n",
       "      <td>False</td>\n",
       "      <td>664530</td>\n",
       "      <td>NaN</td>\n",
       "      <td>NaN</td>\n",
       "      <td>NaN</td>\n",
       "      <td>NaN</td>\n",
       "      <td>NaN</td>\n",
       "      <td>NaN</td>\n",
       "      <td>NaN</td>\n",
       "    </tr>\n",
       "    <tr>\n",
       "      <th>device_operatingSystem</th>\n",
       "      <td>903653</td>\n",
       "      <td>20</td>\n",
       "      <td>Windows</td>\n",
       "      <td>350072</td>\n",
       "      <td>NaN</td>\n",
       "      <td>NaN</td>\n",
       "      <td>NaN</td>\n",
       "      <td>NaN</td>\n",
       "      <td>NaN</td>\n",
       "      <td>NaN</td>\n",
       "      <td>NaN</td>\n",
       "    </tr>\n",
       "    <tr>\n",
       "      <th>geoNetwork_city</th>\n",
       "      <td>903653</td>\n",
       "      <td>649</td>\n",
       "      <td>not available in demo dataset</td>\n",
       "      <td>508229</td>\n",
       "      <td>NaN</td>\n",
       "      <td>NaN</td>\n",
       "      <td>NaN</td>\n",
       "      <td>NaN</td>\n",
       "      <td>NaN</td>\n",
       "      <td>NaN</td>\n",
       "      <td>NaN</td>\n",
       "    </tr>\n",
       "    <tr>\n",
       "      <th>geoNetwork_continent</th>\n",
       "      <td>903653</td>\n",
       "      <td>6</td>\n",
       "      <td>Americas</td>\n",
       "      <td>450377</td>\n",
       "      <td>NaN</td>\n",
       "      <td>NaN</td>\n",
       "      <td>NaN</td>\n",
       "      <td>NaN</td>\n",
       "      <td>NaN</td>\n",
       "      <td>NaN</td>\n",
       "      <td>NaN</td>\n",
       "    </tr>\n",
       "    <tr>\n",
       "      <th>geoNetwork_country</th>\n",
       "      <td>903653</td>\n",
       "      <td>222</td>\n",
       "      <td>United States</td>\n",
       "      <td>364744</td>\n",
       "      <td>NaN</td>\n",
       "      <td>NaN</td>\n",
       "      <td>NaN</td>\n",
       "      <td>NaN</td>\n",
       "      <td>NaN</td>\n",
       "      <td>NaN</td>\n",
       "      <td>NaN</td>\n",
       "    </tr>\n",
       "    <tr>\n",
       "      <th>geoNetwork_metro</th>\n",
       "      <td>903653</td>\n",
       "      <td>94</td>\n",
       "      <td>not available in demo dataset</td>\n",
       "      <td>508229</td>\n",
       "      <td>NaN</td>\n",
       "      <td>NaN</td>\n",
       "      <td>NaN</td>\n",
       "      <td>NaN</td>\n",
       "      <td>NaN</td>\n",
       "      <td>NaN</td>\n",
       "      <td>NaN</td>\n",
       "    </tr>\n",
       "    <tr>\n",
       "      <th>geoNetwork_networkDomain</th>\n",
       "      <td>903653</td>\n",
       "      <td>28064</td>\n",
       "      <td>(not set)</td>\n",
       "      <td>244881</td>\n",
       "      <td>NaN</td>\n",
       "      <td>NaN</td>\n",
       "      <td>NaN</td>\n",
       "      <td>NaN</td>\n",
       "      <td>NaN</td>\n",
       "      <td>NaN</td>\n",
       "      <td>NaN</td>\n",
       "    </tr>\n",
       "    <tr>\n",
       "      <th>geoNetwork_region</th>\n",
       "      <td>903653</td>\n",
       "      <td>376</td>\n",
       "      <td>not available in demo dataset</td>\n",
       "      <td>508229</td>\n",
       "      <td>NaN</td>\n",
       "      <td>NaN</td>\n",
       "      <td>NaN</td>\n",
       "      <td>NaN</td>\n",
       "      <td>NaN</td>\n",
       "      <td>NaN</td>\n",
       "      <td>NaN</td>\n",
       "    </tr>\n",
       "    <tr>\n",
       "      <th>geoNetwork_subContinent</th>\n",
       "      <td>903653</td>\n",
       "      <td>23</td>\n",
       "      <td>Northern America</td>\n",
       "      <td>390657</td>\n",
       "      <td>NaN</td>\n",
       "      <td>NaN</td>\n",
       "      <td>NaN</td>\n",
       "      <td>NaN</td>\n",
       "      <td>NaN</td>\n",
       "      <td>NaN</td>\n",
       "      <td>NaN</td>\n",
       "    </tr>\n",
       "    <tr>\n",
       "      <th>totals_bounces</th>\n",
       "      <td>450630</td>\n",
       "      <td>NaN</td>\n",
       "      <td>NaN</td>\n",
       "      <td>NaN</td>\n",
       "      <td>1</td>\n",
       "      <td>0</td>\n",
       "      <td>1</td>\n",
       "      <td>1</td>\n",
       "      <td>1</td>\n",
       "      <td>1</td>\n",
       "      <td>1</td>\n",
       "    </tr>\n",
       "    <tr>\n",
       "      <th>totals_hits</th>\n",
       "      <td>903653</td>\n",
       "      <td>NaN</td>\n",
       "      <td>NaN</td>\n",
       "      <td>NaN</td>\n",
       "      <td>4.59654</td>\n",
       "      <td>9.64144</td>\n",
       "      <td>1</td>\n",
       "      <td>1</td>\n",
       "      <td>2</td>\n",
       "      <td>4</td>\n",
       "      <td>500</td>\n",
       "    </tr>\n",
       "    <tr>\n",
       "      <th>totals_newVisits</th>\n",
       "      <td>703060</td>\n",
       "      <td>NaN</td>\n",
       "      <td>NaN</td>\n",
       "      <td>NaN</td>\n",
       "      <td>1</td>\n",
       "      <td>0</td>\n",
       "      <td>1</td>\n",
       "      <td>1</td>\n",
       "      <td>1</td>\n",
       "      <td>1</td>\n",
       "      <td>1</td>\n",
       "    </tr>\n",
       "    <tr>\n",
       "      <th>totals_pageviews</th>\n",
       "      <td>903553</td>\n",
       "      <td>NaN</td>\n",
       "      <td>NaN</td>\n",
       "      <td>NaN</td>\n",
       "      <td>3.84976</td>\n",
       "      <td>7.02527</td>\n",
       "      <td>1</td>\n",
       "      <td>1</td>\n",
       "      <td>1</td>\n",
       "      <td>4</td>\n",
       "      <td>469</td>\n",
       "    </tr>\n",
       "    <tr>\n",
       "      <th>trafficSource_adContent</th>\n",
       "      <td>10946</td>\n",
       "      <td>44</td>\n",
       "      <td>Google Merchandise Collection</td>\n",
       "      <td>5122</td>\n",
       "      <td>NaN</td>\n",
       "      <td>NaN</td>\n",
       "      <td>NaN</td>\n",
       "      <td>NaN</td>\n",
       "      <td>NaN</td>\n",
       "      <td>NaN</td>\n",
       "      <td>NaN</td>\n",
       "    </tr>\n",
       "    <tr>\n",
       "      <th>trafficSource_adwordsClickInfo.adNetworkType</th>\n",
       "      <td>21460</td>\n",
       "      <td>2</td>\n",
       "      <td>Google Search</td>\n",
       "      <td>21453</td>\n",
       "      <td>NaN</td>\n",
       "      <td>NaN</td>\n",
       "      <td>NaN</td>\n",
       "      <td>NaN</td>\n",
       "      <td>NaN</td>\n",
       "      <td>NaN</td>\n",
       "      <td>NaN</td>\n",
       "    </tr>\n",
       "    <tr>\n",
       "      <th>trafficSource_adwordsClickInfo.gclId</th>\n",
       "      <td>21561</td>\n",
       "      <td>17774</td>\n",
       "      <td>Cj0KEQjwmIrJBRCRmJ_x7KDo-9oBEiQAuUPKMufMpuG3Zd...</td>\n",
       "      <td>70</td>\n",
       "      <td>NaN</td>\n",
       "      <td>NaN</td>\n",
       "      <td>NaN</td>\n",
       "      <td>NaN</td>\n",
       "      <td>NaN</td>\n",
       "      <td>NaN</td>\n",
       "      <td>NaN</td>\n",
       "    </tr>\n",
       "    <tr>\n",
       "      <th>trafficSource_adwordsClickInfo.isVideoAd</th>\n",
       "      <td>21460</td>\n",
       "      <td>NaN</td>\n",
       "      <td>NaN</td>\n",
       "      <td>NaN</td>\n",
       "      <td>0</td>\n",
       "      <td>0</td>\n",
       "      <td>0</td>\n",
       "      <td>0</td>\n",
       "      <td>0</td>\n",
       "      <td>0</td>\n",
       "      <td>0</td>\n",
       "    </tr>\n",
       "    <tr>\n",
       "      <th>trafficSource_adwordsClickInfo.page</th>\n",
       "      <td>21460</td>\n",
       "      <td>NaN</td>\n",
       "      <td>NaN</td>\n",
       "      <td>NaN</td>\n",
       "      <td>1.00811</td>\n",
       "      <td>0.173584</td>\n",
       "      <td>1</td>\n",
       "      <td>1</td>\n",
       "      <td>1</td>\n",
       "      <td>1</td>\n",
       "      <td>14</td>\n",
       "    </tr>\n",
       "    <tr>\n",
       "      <th>trafficSource_adwordsClickInfo.slot</th>\n",
       "      <td>21460</td>\n",
       "      <td>2</td>\n",
       "      <td>Top</td>\n",
       "      <td>20956</td>\n",
       "      <td>NaN</td>\n",
       "      <td>NaN</td>\n",
       "      <td>NaN</td>\n",
       "      <td>NaN</td>\n",
       "      <td>NaN</td>\n",
       "      <td>NaN</td>\n",
       "      <td>NaN</td>\n",
       "    </tr>\n",
       "    <tr>\n",
       "      <th>trafficSource_campaign</th>\n",
       "      <td>903653</td>\n",
       "      <td>10</td>\n",
       "      <td>(not set)</td>\n",
       "      <td>865347</td>\n",
       "      <td>NaN</td>\n",
       "      <td>NaN</td>\n",
       "      <td>NaN</td>\n",
       "      <td>NaN</td>\n",
       "      <td>NaN</td>\n",
       "      <td>NaN</td>\n",
       "      <td>NaN</td>\n",
       "    </tr>\n",
       "    <tr>\n",
       "      <th>trafficSource_isTrueDirect</th>\n",
       "      <td>274005</td>\n",
       "      <td>NaN</td>\n",
       "      <td>NaN</td>\n",
       "      <td>NaN</td>\n",
       "      <td>1</td>\n",
       "      <td>0</td>\n",
       "      <td>1</td>\n",
       "      <td>1</td>\n",
       "      <td>1</td>\n",
       "      <td>1</td>\n",
       "      <td>1</td>\n",
       "    </tr>\n",
       "    <tr>\n",
       "      <th>trafficSource_keyword</th>\n",
       "      <td>400724</td>\n",
       "      <td>3659</td>\n",
       "      <td>(not provided)</td>\n",
       "      <td>366363</td>\n",
       "      <td>NaN</td>\n",
       "      <td>NaN</td>\n",
       "      <td>NaN</td>\n",
       "      <td>NaN</td>\n",
       "      <td>NaN</td>\n",
       "      <td>NaN</td>\n",
       "      <td>NaN</td>\n",
       "    </tr>\n",
       "    <tr>\n",
       "      <th>trafficSource_medium</th>\n",
       "      <td>903653</td>\n",
       "      <td>7</td>\n",
       "      <td>organic</td>\n",
       "      <td>381561</td>\n",
       "      <td>NaN</td>\n",
       "      <td>NaN</td>\n",
       "      <td>NaN</td>\n",
       "      <td>NaN</td>\n",
       "      <td>NaN</td>\n",
       "      <td>NaN</td>\n",
       "      <td>NaN</td>\n",
       "    </tr>\n",
       "    <tr>\n",
       "      <th>trafficSource_referralPath</th>\n",
       "      <td>330941</td>\n",
       "      <td>1475</td>\n",
       "      <td>/</td>\n",
       "      <td>75523</td>\n",
       "      <td>NaN</td>\n",
       "      <td>NaN</td>\n",
       "      <td>NaN</td>\n",
       "      <td>NaN</td>\n",
       "      <td>NaN</td>\n",
       "      <td>NaN</td>\n",
       "      <td>NaN</td>\n",
       "    </tr>\n",
       "    <tr>\n",
       "      <th>trafficSource_source</th>\n",
       "      <td>903653</td>\n",
       "      <td>380</td>\n",
       "      <td>google</td>\n",
       "      <td>400788</td>\n",
       "      <td>NaN</td>\n",
       "      <td>NaN</td>\n",
       "      <td>NaN</td>\n",
       "      <td>NaN</td>\n",
       "      <td>NaN</td>\n",
       "      <td>NaN</td>\n",
       "      <td>NaN</td>\n",
       "    </tr>\n",
       "    <tr>\n",
       "      <th>totals_transactionRevenue</th>\n",
       "      <td>11515</td>\n",
       "      <td>NaN</td>\n",
       "      <td>NaN</td>\n",
       "      <td>NaN</td>\n",
       "      <td>1.33745e+08</td>\n",
       "      <td>4.48285e+08</td>\n",
       "      <td>10000</td>\n",
       "      <td>2.493e+07</td>\n",
       "      <td>4.945e+07</td>\n",
       "      <td>1.07655e+08</td>\n",
       "      <td>2.31295e+10</td>\n",
       "    </tr>\n",
       "  </tbody>\n",
       "</table>\n",
       "</div>"
      ],
      "text/plain": [
       "                                               count  unique  \\\n",
       "channelGrouping                               903653       8   \n",
       "fullVisitorId                                 903653  714167   \n",
       "visitNumber                                   903653     NaN   \n",
       "visitStartTime                                903653     NaN   \n",
       "device_browser                                903653      54   \n",
       "device_deviceCategory                         903653       3   \n",
       "device_isMobile                               903653       2   \n",
       "device_operatingSystem                        903653      20   \n",
       "geoNetwork_city                               903653     649   \n",
       "geoNetwork_continent                          903653       6   \n",
       "geoNetwork_country                            903653     222   \n",
       "geoNetwork_metro                              903653      94   \n",
       "geoNetwork_networkDomain                      903653   28064   \n",
       "geoNetwork_region                             903653     376   \n",
       "geoNetwork_subContinent                       903653      23   \n",
       "totals_bounces                                450630     NaN   \n",
       "totals_hits                                   903653     NaN   \n",
       "totals_newVisits                              703060     NaN   \n",
       "totals_pageviews                              903553     NaN   \n",
       "trafficSource_adContent                        10946      44   \n",
       "trafficSource_adwordsClickInfo.adNetworkType   21460       2   \n",
       "trafficSource_adwordsClickInfo.gclId           21561   17774   \n",
       "trafficSource_adwordsClickInfo.isVideoAd       21460     NaN   \n",
       "trafficSource_adwordsClickInfo.page            21460     NaN   \n",
       "trafficSource_adwordsClickInfo.slot            21460       2   \n",
       "trafficSource_campaign                        903653      10   \n",
       "trafficSource_isTrueDirect                    274005     NaN   \n",
       "trafficSource_keyword                         400724    3659   \n",
       "trafficSource_medium                          903653       7   \n",
       "trafficSource_referralPath                    330941    1475   \n",
       "trafficSource_source                          903653     380   \n",
       "totals_transactionRevenue                      11515     NaN   \n",
       "\n",
       "                                                                                            top  \\\n",
       "channelGrouping                                                                  Organic Search   \n",
       "fullVisitorId                                                               1957458976293878100   \n",
       "visitNumber                                                                                 NaN   \n",
       "visitStartTime                                                                              NaN   \n",
       "device_browser                                                                           Chrome   \n",
       "device_deviceCategory                                                                   desktop   \n",
       "device_isMobile                                                                           False   \n",
       "device_operatingSystem                                                                  Windows   \n",
       "geoNetwork_city                                                   not available in demo dataset   \n",
       "geoNetwork_continent                                                                   Americas   \n",
       "geoNetwork_country                                                                United States   \n",
       "geoNetwork_metro                                                  not available in demo dataset   \n",
       "geoNetwork_networkDomain                                                              (not set)   \n",
       "geoNetwork_region                                                 not available in demo dataset   \n",
       "geoNetwork_subContinent                                                        Northern America   \n",
       "totals_bounces                                                                              NaN   \n",
       "totals_hits                                                                                 NaN   \n",
       "totals_newVisits                                                                            NaN   \n",
       "totals_pageviews                                                                            NaN   \n",
       "trafficSource_adContent                                           Google Merchandise Collection   \n",
       "trafficSource_adwordsClickInfo.adNetworkType                                      Google Search   \n",
       "trafficSource_adwordsClickInfo.gclId          Cj0KEQjwmIrJBRCRmJ_x7KDo-9oBEiQAuUPKMufMpuG3Zd...   \n",
       "trafficSource_adwordsClickInfo.isVideoAd                                                    NaN   \n",
       "trafficSource_adwordsClickInfo.page                                                         NaN   \n",
       "trafficSource_adwordsClickInfo.slot                                                         Top   \n",
       "trafficSource_campaign                                                                (not set)   \n",
       "trafficSource_isTrueDirect                                                                  NaN   \n",
       "trafficSource_keyword                                                            (not provided)   \n",
       "trafficSource_medium                                                                    organic   \n",
       "trafficSource_referralPath                                                                    /   \n",
       "trafficSource_source                                                                     google   \n",
       "totals_transactionRevenue                                                                   NaN   \n",
       "\n",
       "                                                freq         mean  \\\n",
       "channelGrouping                               381561          NaN   \n",
       "fullVisitorId                                    278          NaN   \n",
       "visitNumber                                      NaN       2.2649   \n",
       "visitStartTime                                   NaN  1.48501e+09   \n",
       "device_browser                                620364          NaN   \n",
       "device_deviceCategory                         664479          NaN   \n",
       "device_isMobile                               664530          NaN   \n",
       "device_operatingSystem                        350072          NaN   \n",
       "geoNetwork_city                               508229          NaN   \n",
       "geoNetwork_continent                          450377          NaN   \n",
       "geoNetwork_country                            364744          NaN   \n",
       "geoNetwork_metro                              508229          NaN   \n",
       "geoNetwork_networkDomain                      244881          NaN   \n",
       "geoNetwork_region                             508229          NaN   \n",
       "geoNetwork_subContinent                       390657          NaN   \n",
       "totals_bounces                                   NaN            1   \n",
       "totals_hits                                      NaN      4.59654   \n",
       "totals_newVisits                                 NaN            1   \n",
       "totals_pageviews                                 NaN      3.84976   \n",
       "trafficSource_adContent                         5122          NaN   \n",
       "trafficSource_adwordsClickInfo.adNetworkType   21453          NaN   \n",
       "trafficSource_adwordsClickInfo.gclId              70          NaN   \n",
       "trafficSource_adwordsClickInfo.isVideoAd         NaN            0   \n",
       "trafficSource_adwordsClickInfo.page              NaN      1.00811   \n",
       "trafficSource_adwordsClickInfo.slot            20956          NaN   \n",
       "trafficSource_campaign                        865347          NaN   \n",
       "trafficSource_isTrueDirect                       NaN            1   \n",
       "trafficSource_keyword                         366363          NaN   \n",
       "trafficSource_medium                          381561          NaN   \n",
       "trafficSource_referralPath                     75523          NaN   \n",
       "trafficSource_source                          400788          NaN   \n",
       "totals_transactionRevenue                        NaN  1.33745e+08   \n",
       "\n",
       "                                                      std          min  \\\n",
       "channelGrouping                                       NaN          NaN   \n",
       "fullVisitorId                                         NaN          NaN   \n",
       "visitNumber                                       9.28373            1   \n",
       "visitStartTime                                9.02212e+06  1.47003e+09   \n",
       "device_browser                                        NaN          NaN   \n",
       "device_deviceCategory                                 NaN          NaN   \n",
       "device_isMobile                                       NaN          NaN   \n",
       "device_operatingSystem                                NaN          NaN   \n",
       "geoNetwork_city                                       NaN          NaN   \n",
       "geoNetwork_continent                                  NaN          NaN   \n",
       "geoNetwork_country                                    NaN          NaN   \n",
       "geoNetwork_metro                                      NaN          NaN   \n",
       "geoNetwork_networkDomain                              NaN          NaN   \n",
       "geoNetwork_region                                     NaN          NaN   \n",
       "geoNetwork_subContinent                               NaN          NaN   \n",
       "totals_bounces                                          0            1   \n",
       "totals_hits                                       9.64144            1   \n",
       "totals_newVisits                                        0            1   \n",
       "totals_pageviews                                  7.02527            1   \n",
       "trafficSource_adContent                               NaN          NaN   \n",
       "trafficSource_adwordsClickInfo.adNetworkType          NaN          NaN   \n",
       "trafficSource_adwordsClickInfo.gclId                  NaN          NaN   \n",
       "trafficSource_adwordsClickInfo.isVideoAd                0            0   \n",
       "trafficSource_adwordsClickInfo.page              0.173584            1   \n",
       "trafficSource_adwordsClickInfo.slot                   NaN          NaN   \n",
       "trafficSource_campaign                                NaN          NaN   \n",
       "trafficSource_isTrueDirect                              0            1   \n",
       "trafficSource_keyword                                 NaN          NaN   \n",
       "trafficSource_medium                                  NaN          NaN   \n",
       "trafficSource_referralPath                            NaN          NaN   \n",
       "trafficSource_source                                  NaN          NaN   \n",
       "totals_transactionRevenue                     4.48285e+08        10000   \n",
       "\n",
       "                                                      25%          50%  \\\n",
       "channelGrouping                                       NaN          NaN   \n",
       "fullVisitorId                                         NaN          NaN   \n",
       "visitNumber                                             1            1   \n",
       "visitStartTime                                1.47756e+09  1.48395e+09   \n",
       "device_browser                                        NaN          NaN   \n",
       "device_deviceCategory                                 NaN          NaN   \n",
       "device_isMobile                                       NaN          NaN   \n",
       "device_operatingSystem                                NaN          NaN   \n",
       "geoNetwork_city                                       NaN          NaN   \n",
       "geoNetwork_continent                                  NaN          NaN   \n",
       "geoNetwork_country                                    NaN          NaN   \n",
       "geoNetwork_metro                                      NaN          NaN   \n",
       "geoNetwork_networkDomain                              NaN          NaN   \n",
       "geoNetwork_region                                     NaN          NaN   \n",
       "geoNetwork_subContinent                               NaN          NaN   \n",
       "totals_bounces                                          1            1   \n",
       "totals_hits                                             1            2   \n",
       "totals_newVisits                                        1            1   \n",
       "totals_pageviews                                        1            1   \n",
       "trafficSource_adContent                               NaN          NaN   \n",
       "trafficSource_adwordsClickInfo.adNetworkType          NaN          NaN   \n",
       "trafficSource_adwordsClickInfo.gclId                  NaN          NaN   \n",
       "trafficSource_adwordsClickInfo.isVideoAd                0            0   \n",
       "trafficSource_adwordsClickInfo.page                     1            1   \n",
       "trafficSource_adwordsClickInfo.slot                   NaN          NaN   \n",
       "trafficSource_campaign                                NaN          NaN   \n",
       "trafficSource_isTrueDirect                              1            1   \n",
       "trafficSource_keyword                                 NaN          NaN   \n",
       "trafficSource_medium                                  NaN          NaN   \n",
       "trafficSource_referralPath                            NaN          NaN   \n",
       "trafficSource_source                                  NaN          NaN   \n",
       "totals_transactionRevenue                       2.493e+07    4.945e+07   \n",
       "\n",
       "                                                      75%          max  \n",
       "channelGrouping                                       NaN          NaN  \n",
       "fullVisitorId                                         NaN          NaN  \n",
       "visitNumber                                             1          395  \n",
       "visitStartTime                                1.49276e+09  1.50166e+09  \n",
       "device_browser                                        NaN          NaN  \n",
       "device_deviceCategory                                 NaN          NaN  \n",
       "device_isMobile                                       NaN          NaN  \n",
       "device_operatingSystem                                NaN          NaN  \n",
       "geoNetwork_city                                       NaN          NaN  \n",
       "geoNetwork_continent                                  NaN          NaN  \n",
       "geoNetwork_country                                    NaN          NaN  \n",
       "geoNetwork_metro                                      NaN          NaN  \n",
       "geoNetwork_networkDomain                              NaN          NaN  \n",
       "geoNetwork_region                                     NaN          NaN  \n",
       "geoNetwork_subContinent                               NaN          NaN  \n",
       "totals_bounces                                          1            1  \n",
       "totals_hits                                             4          500  \n",
       "totals_newVisits                                        1            1  \n",
       "totals_pageviews                                        4          469  \n",
       "trafficSource_adContent                               NaN          NaN  \n",
       "trafficSource_adwordsClickInfo.adNetworkType          NaN          NaN  \n",
       "trafficSource_adwordsClickInfo.gclId                  NaN          NaN  \n",
       "trafficSource_adwordsClickInfo.isVideoAd                0            0  \n",
       "trafficSource_adwordsClickInfo.page                     1           14  \n",
       "trafficSource_adwordsClickInfo.slot                   NaN          NaN  \n",
       "trafficSource_campaign                                NaN          NaN  \n",
       "trafficSource_isTrueDirect                              1            1  \n",
       "trafficSource_keyword                                 NaN          NaN  \n",
       "trafficSource_medium                                  NaN          NaN  \n",
       "trafficSource_referralPath                            NaN          NaN  \n",
       "trafficSource_source                                  NaN          NaN  \n",
       "totals_transactionRevenue                     1.07655e+08  2.31295e+10  "
      ]
     },
     "metadata": {},
     "output_type": "display_data"
    }
   ],
   "source": [
    "display_all(full_train.describe(include='all').T)"
   ]
  },
  {
   "cell_type": "markdown",
   "metadata": {},
   "source": [
    "### Workflow"
   ]
  },
  {
   "cell_type": "code",
   "execution_count": 30,
   "metadata": {},
   "outputs": [],
   "source": [
    "full_train['totals_transactionRevenue'] = full_train['totals_transactionRevenue'].fillna(value=0)"
   ]
  },
  {
   "cell_type": "code",
   "execution_count": 31,
   "metadata": {},
   "outputs": [],
   "source": [
    "# posix seconds to datetime\n",
    "full_train['visitStartTime'] = pd.to_datetime(full_train.visitStartTime, unit='s')"
   ]
  },
  {
   "cell_type": "code",
   "execution_count": 32,
   "metadata": {},
   "outputs": [],
   "source": [
    "test_df['visitStartTime'] = pd.to_datetime(test_df.visitStartTime, unit='s')"
   ]
  },
  {
   "cell_type": "markdown",
   "metadata": {},
   "source": [
    "#### Take fullVisitorId -> validation ids, if it has transaction after 2017-04-30 "
   ]
  },
  {
   "cell_type": "code",
   "execution_count": 28,
   "metadata": {},
   "outputs": [],
   "source": [
    "validationIds = full_train[full_train.visitStartTime > '2017-04-30'].fullVisitorId.unique()"
   ]
  },
  {
   "cell_type": "code",
   "execution_count": 29,
   "metadata": {},
   "outputs": [
    {
     "data": {
      "text/plain": [
       "(161118,)"
      ]
     },
     "execution_count": 29,
     "metadata": {},
     "output_type": "execute_result"
    }
   ],
   "source": [
    "validationIds.shape"
   ]
  },
  {
   "cell_type": "code",
   "execution_count": 30,
   "metadata": {},
   "outputs": [],
   "source": [
    "# save for later use\n",
    "np.save('../data/tmp/validIds.npy',validationIds)"
   ]
  },
  {
   "cell_type": "markdown",
   "metadata": {},
   "source": [
    "#### Continue workflow: make time feature columns"
   ]
  },
  {
   "cell_type": "code",
   "execution_count": 34,
   "metadata": {},
   "outputs": [],
   "source": [
    "# make time features\n",
    "add_datepart(full_train, 'visitStartTime', time=True, drop=False)"
   ]
  },
  {
   "cell_type": "code",
   "execution_count": 36,
   "metadata": {},
   "outputs": [],
   "source": [
    "# make time features\n",
    "add_datepart(test_df, 'visitStartTime', time=True, drop=False)"
   ]
  },
  {
   "cell_type": "code",
   "execution_count": 37,
   "metadata": {},
   "outputs": [
    {
     "data": {
      "text/plain": [
       "set()"
      ]
     },
     "execution_count": 37,
     "metadata": {},
     "output_type": "execute_result"
    }
   ],
   "source": [
    "set(full_train.drop('totals_transactionRevenue', axis=1).columns) - set(test_df.columns)"
   ]
  },
  {
   "cell_type": "markdown",
   "metadata": {},
   "source": [
    "#### Drop fullVisitorId columns to not categorize them"
   ]
  },
  {
   "cell_type": "code",
   "execution_count": 40,
   "metadata": {},
   "outputs": [],
   "source": [
    "train_visitorIds = full_train.fullVisitorId\n",
    "test_visitorIds = test_df.fullVisitorId"
   ]
  },
  {
   "cell_type": "code",
   "execution_count": 41,
   "metadata": {},
   "outputs": [],
   "source": [
    "full_train.drop(columns=['fullVisitorId'], inplace=True)\n",
    "test_df.drop(columns=['fullVisitorId'], inplace=True)"
   ]
  },
  {
   "cell_type": "code",
   "execution_count": 42,
   "metadata": {},
   "outputs": [],
   "source": [
    "# make categorical data\n",
    "train_cats(full_train)"
   ]
  },
  {
   "cell_type": "code",
   "execution_count": 43,
   "metadata": {},
   "outputs": [],
   "source": [
    "apply_cats(test_df, full_train)"
   ]
  },
  {
   "cell_type": "code",
   "execution_count": 36,
   "metadata": {
    "scrolled": true
   },
   "outputs": [
    {
     "data": {
      "text/plain": [
       "channelGrouping                                 0.000000\n",
       "device_browser                                  0.000000\n",
       "device_deviceCategory                           0.000000\n",
       "device_isMobile                                 0.000000\n",
       "device_operatingSystem                          0.000000\n",
       "geoNetwork_city                                 0.000000\n",
       "geoNetwork_continent                            0.000000\n",
       "geoNetwork_country                              0.000000\n",
       "geoNetwork_metro                                0.000000\n",
       "geoNetwork_networkDomain                        0.000000\n",
       "geoNetwork_region                               0.000000\n",
       "geoNetwork_subContinent                         0.000000\n",
       "totals_bounces                                  0.501324\n",
       "totals_hits                                     0.000000\n",
       "totals_newVisits                                0.221980\n",
       "totals_pageviews                                0.000111\n",
       "totals_transactionRevenue                       0.000000\n",
       "trafficSource_adContent                         0.987887\n",
       "trafficSource_adwordsClickInfo.adNetworkType    0.976252\n",
       "trafficSource_adwordsClickInfo.gclId            0.976140\n",
       "trafficSource_adwordsClickInfo.isVideoAd        0.976252\n",
       "trafficSource_adwordsClickInfo.page             0.976252\n",
       "trafficSource_adwordsClickInfo.slot             0.976252\n",
       "trafficSource_campaign                          0.000000\n",
       "trafficSource_isTrueDirect                      0.696781\n",
       "trafficSource_keyword                           0.556551\n",
       "trafficSource_medium                            0.000000\n",
       "trafficSource_referralPath                      0.633774\n",
       "trafficSource_source                            0.000000\n",
       "visitNumber                                     0.000000\n",
       "visitStartTime                                  0.000000\n",
       "visitStartTime_dtDay                            0.000000\n",
       "visitStartTime_dtDayofweek                      0.000000\n",
       "visitStartTime_dtDayofyear                      0.000000\n",
       "visitStartTime_dtElapsed                        0.000000\n",
       "visitStartTime_dtHour                           0.000000\n",
       "visitStartTime_dtIs_month_end                   0.000000\n",
       "visitStartTime_dtIs_month_start                 0.000000\n",
       "visitStartTime_dtIs_quarter_end                 0.000000\n",
       "visitStartTime_dtIs_quarter_start               0.000000\n",
       "visitStartTime_dtIs_year_end                    0.000000\n",
       "visitStartTime_dtIs_year_start                  0.000000\n",
       "visitStartTime_dtMinute                         0.000000\n",
       "visitStartTime_dtMonth                          0.000000\n",
       "visitStartTime_dtSecond                         0.000000\n",
       "visitStartTime_dtWeek                           0.000000\n",
       "visitStartTime_dtYear                           0.000000\n",
       "dtype: float64"
      ]
     },
     "metadata": {},
     "output_type": "display_data"
    }
   ],
   "source": [
    "display_all(full_train.isnull().sum().sort_index()/len(full_train))"
   ]
  },
  {
   "cell_type": "code",
   "execution_count": 37,
   "metadata": {
    "scrolled": true
   },
   "outputs": [
    {
     "data": {
      "text/plain": [
       "channelGrouping                                 0.000000\n",
       "device_browser                                  0.019764\n",
       "device_deviceCategory                           0.000000\n",
       "device_isMobile                                 0.000000\n",
       "device_operatingSystem                          0.001150\n",
       "geoNetwork_city                                 0.009569\n",
       "geoNetwork_continent                            0.000000\n",
       "geoNetwork_country                              0.000034\n",
       "geoNetwork_metro                                0.001099\n",
       "geoNetwork_networkDomain                        0.031993\n",
       "geoNetwork_region                               0.007047\n",
       "geoNetwork_subContinent                         0.000000\n",
       "totals_bounces                                  0.476878\n",
       "totals_hits                                     0.000000\n",
       "totals_newVisits                                0.248935\n",
       "totals_pageviews                                0.000173\n",
       "trafficSource_adContent                         0.994974\n",
       "trafficSource_adwordsClickInfo.adNetworkType    0.985596\n",
       "trafficSource_adwordsClickInfo.gclId            0.999805\n",
       "trafficSource_adwordsClickInfo.isVideoAd        0.933124\n",
       "trafficSource_adwordsClickInfo.page             0.933124\n",
       "trafficSource_adwordsClickInfo.slot             0.933220\n",
       "trafficSource_campaign                          0.059222\n",
       "trafficSource_isTrueDirect                      0.676254\n",
       "trafficSource_keyword                           0.490421\n",
       "trafficSource_medium                            0.000000\n",
       "trafficSource_referralPath                      0.786297\n",
       "trafficSource_source                            0.000476\n",
       "visitNumber                                     0.000000\n",
       "visitStartTime                                  0.000000\n",
       "visitStartTime_dtDay                            0.000000\n",
       "visitStartTime_dtDayofweek                      0.000000\n",
       "visitStartTime_dtDayofyear                      0.000000\n",
       "visitStartTime_dtElapsed                        0.000000\n",
       "visitStartTime_dtHour                           0.000000\n",
       "visitStartTime_dtIs_month_end                   0.000000\n",
       "visitStartTime_dtIs_month_start                 0.000000\n",
       "visitStartTime_dtIs_quarter_end                 0.000000\n",
       "visitStartTime_dtIs_quarter_start               0.000000\n",
       "visitStartTime_dtIs_year_end                    0.000000\n",
       "visitStartTime_dtIs_year_start                  0.000000\n",
       "visitStartTime_dtMinute                         0.000000\n",
       "visitStartTime_dtMonth                          0.000000\n",
       "visitStartTime_dtSecond                         0.000000\n",
       "visitStartTime_dtWeek                           0.000000\n",
       "visitStartTime_dtYear                           0.000000\n",
       "dtype: float64"
      ]
     },
     "metadata": {},
     "output_type": "display_data"
    }
   ],
   "source": [
    "display_all(test_df.isnull().sum().sort_index()/len(test_df))"
   ]
  },
  {
   "cell_type": "code",
   "execution_count": 46,
   "metadata": {},
   "outputs": [],
   "source": [
    "# add back fullVisitosIds\n",
    "full_train['fullVisitorId'] = train_visitorIds\n",
    "test_df['fullVisitorId'] = test_visitorIds"
   ]
  },
  {
   "cell_type": "code",
   "execution_count": 50,
   "metadata": {},
   "outputs": [],
   "source": [
    "# sort train dataframe by time\n",
    "full_train.sort_values(by='visitStartTime', inplace=True)"
   ]
  },
  {
   "cell_type": "code",
   "execution_count": 54,
   "metadata": {},
   "outputs": [],
   "source": [
    "full_train.reset_index(drop=True, inplace=True)"
   ]
  },
  {
   "cell_type": "code",
   "execution_count": 55,
   "metadata": {},
   "outputs": [
    {
     "data": {
      "text/html": [
       "<div>\n",
       "<style scoped>\n",
       "    .dataframe tbody tr th:only-of-type {\n",
       "        vertical-align: middle;\n",
       "    }\n",
       "\n",
       "    .dataframe tbody tr th {\n",
       "        vertical-align: top;\n",
       "    }\n",
       "\n",
       "    .dataframe thead th {\n",
       "        text-align: right;\n",
       "    }\n",
       "</style>\n",
       "<table border=\"1\" class=\"dataframe\">\n",
       "  <thead>\n",
       "    <tr style=\"text-align: right;\">\n",
       "      <th></th>\n",
       "      <th>channelGrouping</th>\n",
       "      <th>visitNumber</th>\n",
       "      <th>visitStartTime</th>\n",
       "      <th>device_browser</th>\n",
       "      <th>device_deviceCategory</th>\n",
       "      <th>device_isMobile</th>\n",
       "      <th>device_operatingSystem</th>\n",
       "      <th>geoNetwork_city</th>\n",
       "      <th>geoNetwork_continent</th>\n",
       "      <th>geoNetwork_country</th>\n",
       "      <th>...</th>\n",
       "      <th>visitStartTimeIs_month_start</th>\n",
       "      <th>visitStartTimeIs_quarter_end</th>\n",
       "      <th>visitStartTimeIs_quarter_start</th>\n",
       "      <th>visitStartTimeIs_year_end</th>\n",
       "      <th>visitStartTimeIs_year_start</th>\n",
       "      <th>visitStartTimeHour</th>\n",
       "      <th>visitStartTimeMinute</th>\n",
       "      <th>visitStartTimeSecond</th>\n",
       "      <th>visitStartTimeElapsed</th>\n",
       "      <th>fullVisitorId</th>\n",
       "    </tr>\n",
       "  </thead>\n",
       "  <tbody>\n",
       "    <tr>\n",
       "      <th>0</th>\n",
       "      <td>Direct</td>\n",
       "      <td>3</td>\n",
       "      <td>2016-08-01 07:00:12</td>\n",
       "      <td>Safari</td>\n",
       "      <td>mobile</td>\n",
       "      <td>True</td>\n",
       "      <td>iOS</td>\n",
       "      <td>not available in demo dataset</td>\n",
       "      <td>Americas</td>\n",
       "      <td>United States</td>\n",
       "      <td>...</td>\n",
       "      <td>True</td>\n",
       "      <td>False</td>\n",
       "      <td>False</td>\n",
       "      <td>False</td>\n",
       "      <td>False</td>\n",
       "      <td>7</td>\n",
       "      <td>0</td>\n",
       "      <td>12</td>\n",
       "      <td>1470034812</td>\n",
       "      <td>0423043652415339154</td>\n",
       "    </tr>\n",
       "    <tr>\n",
       "      <th>1</th>\n",
       "      <td>Social</td>\n",
       "      <td>1</td>\n",
       "      <td>2016-08-01 07:04:26</td>\n",
       "      <td>Chrome</td>\n",
       "      <td>desktop</td>\n",
       "      <td>False</td>\n",
       "      <td>Windows</td>\n",
       "      <td>not available in demo dataset</td>\n",
       "      <td>Asia</td>\n",
       "      <td>Thailand</td>\n",
       "      <td>...</td>\n",
       "      <td>True</td>\n",
       "      <td>False</td>\n",
       "      <td>False</td>\n",
       "      <td>False</td>\n",
       "      <td>False</td>\n",
       "      <td>7</td>\n",
       "      <td>4</td>\n",
       "      <td>26</td>\n",
       "      <td>1470035066</td>\n",
       "      <td>8294721032567046680</td>\n",
       "    </tr>\n",
       "    <tr>\n",
       "      <th>2</th>\n",
       "      <td>Organic Search</td>\n",
       "      <td>1</td>\n",
       "      <td>2016-08-01 07:04:41</td>\n",
       "      <td>Amazon Silk</td>\n",
       "      <td>tablet</td>\n",
       "      <td>True</td>\n",
       "      <td>Android</td>\n",
       "      <td>not available in demo dataset</td>\n",
       "      <td>Americas</td>\n",
       "      <td>United States</td>\n",
       "      <td>...</td>\n",
       "      <td>True</td>\n",
       "      <td>False</td>\n",
       "      <td>False</td>\n",
       "      <td>False</td>\n",
       "      <td>False</td>\n",
       "      <td>7</td>\n",
       "      <td>4</td>\n",
       "      <td>41</td>\n",
       "      <td>1470035081</td>\n",
       "      <td>7718623669497357235</td>\n",
       "    </tr>\n",
       "    <tr>\n",
       "      <th>3</th>\n",
       "      <td>Organic Search</td>\n",
       "      <td>1</td>\n",
       "      <td>2016-08-01 07:06:01</td>\n",
       "      <td>Chrome</td>\n",
       "      <td>desktop</td>\n",
       "      <td>False</td>\n",
       "      <td>Windows</td>\n",
       "      <td>not available in demo dataset</td>\n",
       "      <td>Americas</td>\n",
       "      <td>Canada</td>\n",
       "      <td>...</td>\n",
       "      <td>True</td>\n",
       "      <td>False</td>\n",
       "      <td>False</td>\n",
       "      <td>False</td>\n",
       "      <td>False</td>\n",
       "      <td>7</td>\n",
       "      <td>6</td>\n",
       "      <td>1</td>\n",
       "      <td>1470035161</td>\n",
       "      <td>4798058133221713505</td>\n",
       "    </tr>\n",
       "    <tr>\n",
       "      <th>4</th>\n",
       "      <td>Direct</td>\n",
       "      <td>1</td>\n",
       "      <td>2016-08-01 07:06:10</td>\n",
       "      <td>Chrome</td>\n",
       "      <td>desktop</td>\n",
       "      <td>False</td>\n",
       "      <td>Windows</td>\n",
       "      <td>Quezon City</td>\n",
       "      <td>Asia</td>\n",
       "      <td>Philippines</td>\n",
       "      <td>...</td>\n",
       "      <td>True</td>\n",
       "      <td>False</td>\n",
       "      <td>False</td>\n",
       "      <td>False</td>\n",
       "      <td>False</td>\n",
       "      <td>7</td>\n",
       "      <td>6</td>\n",
       "      <td>10</td>\n",
       "      <td>1470035170</td>\n",
       "      <td>5076747981380011349</td>\n",
       "    </tr>\n",
       "  </tbody>\n",
       "</table>\n",
       "<p>5 rows × 48 columns</p>\n",
       "</div>"
      ],
      "text/plain": [
       "  channelGrouping  visitNumber      visitStartTime device_browser  \\\n",
       "0          Direct            3 2016-08-01 07:00:12         Safari   \n",
       "1          Social            1 2016-08-01 07:04:26         Chrome   \n",
       "2  Organic Search            1 2016-08-01 07:04:41    Amazon Silk   \n",
       "3  Organic Search            1 2016-08-01 07:06:01         Chrome   \n",
       "4          Direct            1 2016-08-01 07:06:10         Chrome   \n",
       "\n",
       "  device_deviceCategory  device_isMobile device_operatingSystem  \\\n",
       "0                mobile             True                    iOS   \n",
       "1               desktop            False                Windows   \n",
       "2                tablet             True                Android   \n",
       "3               desktop            False                Windows   \n",
       "4               desktop            False                Windows   \n",
       "\n",
       "                 geoNetwork_city geoNetwork_continent geoNetwork_country  \\\n",
       "0  not available in demo dataset             Americas      United States   \n",
       "1  not available in demo dataset                 Asia           Thailand   \n",
       "2  not available in demo dataset             Americas      United States   \n",
       "3  not available in demo dataset             Americas             Canada   \n",
       "4                    Quezon City                 Asia        Philippines   \n",
       "\n",
       "          ...          visitStartTimeIs_month_start  \\\n",
       "0         ...                                  True   \n",
       "1         ...                                  True   \n",
       "2         ...                                  True   \n",
       "3         ...                                  True   \n",
       "4         ...                                  True   \n",
       "\n",
       "  visitStartTimeIs_quarter_end visitStartTimeIs_quarter_start  \\\n",
       "0                        False                          False   \n",
       "1                        False                          False   \n",
       "2                        False                          False   \n",
       "3                        False                          False   \n",
       "4                        False                          False   \n",
       "\n",
       "  visitStartTimeIs_year_end  visitStartTimeIs_year_start  visitStartTimeHour  \\\n",
       "0                     False                        False                   7   \n",
       "1                     False                        False                   7   \n",
       "2                     False                        False                   7   \n",
       "3                     False                        False                   7   \n",
       "4                     False                        False                   7   \n",
       "\n",
       "   visitStartTimeMinute  visitStartTimeSecond visitStartTimeElapsed  \\\n",
       "0                     0                    12            1470034812   \n",
       "1                     4                    26            1470035066   \n",
       "2                     4                    41            1470035081   \n",
       "3                     6                     1            1470035161   \n",
       "4                     6                    10            1470035170   \n",
       "\n",
       "         fullVisitorId  \n",
       "0  0423043652415339154  \n",
       "1  8294721032567046680  \n",
       "2  7718623669497357235  \n",
       "3  4798058133221713505  \n",
       "4  5076747981380011349  \n",
       "\n",
       "[5 rows x 48 columns]"
      ]
     },
     "execution_count": 55,
     "metadata": {},
     "output_type": "execute_result"
    }
   ],
   "source": [
    "full_train.head()"
   ]
  },
  {
   "cell_type": "code",
   "execution_count": 56,
   "metadata": {},
   "outputs": [
    {
     "name": "stdout",
     "output_type": "stream",
     "text": [
      "CPU times: user 313 ms, sys: 169 ms, total: 482 ms\n",
      "Wall time: 927 ms\n"
     ]
    }
   ],
   "source": [
    "%%time\n",
    "os.makedirs('../data/tmp', exist_ok=True)\n",
    "full_train.to_feather('../data/tmp/raw_train')"
   ]
  },
  {
   "cell_type": "code",
   "execution_count": 57,
   "metadata": {},
   "outputs": [
    {
     "name": "stdout",
     "output_type": "stream",
     "text": [
      "CPU times: user 249 ms, sys: 119 ms, total: 368 ms\n",
      "Wall time: 206 ms\n"
     ]
    }
   ],
   "source": [
    "%%time\n",
    "os.makedirs('../data/tmp', exist_ok=True)\n",
    "test_df.to_feather('../data/tmp/raw_test')"
   ]
  },
  {
   "cell_type": "markdown",
   "metadata": {},
   "source": [
    "#### Preprocess"
   ]
  },
  {
   "cell_type": "code",
   "execution_count": 16,
   "metadata": {
    "scrolled": true
   },
   "outputs": [
    {
     "name": "stderr",
     "output_type": "stream",
     "text": [
      "/home/ademyanchuk/.virtualenvs/kaggle_env/lib/python3.6/site-packages/pandas/io/feather_format.py:112: FutureWarning: `nthreads` argument is deprecated, pass `use_threads` instead\n",
      "  return feather.read_dataframe(path, nthreads=nthreads)\n"
     ]
    },
    {
     "name": "stdout",
     "output_type": "stream",
     "text": [
      "CPU times: user 207 ms, sys: 63.7 ms, total: 271 ms\n",
      "Wall time: 270 ms\n"
     ]
    }
   ],
   "source": [
    "%time full_train = pd.read_feather('../data/tmp/raw_train', nthreads=-1)"
   ]
  },
  {
   "cell_type": "code",
   "execution_count": 36,
   "metadata": {},
   "outputs": [
    {
     "name": "stderr",
     "output_type": "stream",
     "text": [
      "/home/ademyanchuk/.virtualenvs/kaggle_env/lib/python3.6/site-packages/pandas/io/feather_format.py:112: FutureWarning: `nthreads` argument is deprecated, pass `use_threads` instead\n",
      "  return feather.read_dataframe(path, nthreads=nthreads)\n"
     ]
    },
    {
     "name": "stdout",
     "output_type": "stream",
     "text": [
      "CPU times: user 184 ms, sys: 34 ms, total: 218 ms\n",
      "Wall time: 216 ms\n"
     ]
    }
   ],
   "source": [
    "%time test_df = pd.read_feather('../data/tmp/raw_test', nthreads=-1)"
   ]
  },
  {
   "cell_type": "markdown",
   "metadata": {},
   "source": [
    "#####  TimeSeries Split way to make Validation dataset"
   ]
  },
  {
   "cell_type": "code",
   "execution_count": 31,
   "metadata": {},
   "outputs": [],
   "source": [
    "tscv = TimeSeriesSplit(n_splits=5)"
   ]
  },
  {
   "cell_type": "code",
   "execution_count": 32,
   "metadata": {},
   "outputs": [],
   "source": [
    "logger = get_logger('test')"
   ]
  },
  {
   "cell_type": "code",
   "execution_count": 34,
   "metadata": {},
   "outputs": [
    {
     "name": "stdout",
     "output_type": "stream",
     "text": [
      "2018-10-05 12:24:37,581 - test - DEBUG - Working with fold 0\n",
      "===========\n",
      "\n",
      "2018-10-05 12:24:37,581 - test - DEBUG - Working with fold 0\n",
      "===========\n",
      "\n",
      "Train max time: 2016-10-03 21:24:49, Valid max time: 2016-10-03 21:25:22\n",
      "train_set length: 150613, valid_set length: 150608\n",
      "2018-10-05 12:24:37,629 - test - DEBUG - Working with fold 1\n",
      "===========\n",
      "\n",
      "2018-10-05 12:24:37,629 - test - DEBUG - Working with fold 1\n",
      "===========\n",
      "\n",
      "Train max time: 2016-11-16 16:56:29, Valid max time: 2016-11-16 16:56:35\n",
      "train_set length: 301221, valid_set length: 150608\n",
      "2018-10-05 12:24:37,698 - test - DEBUG - Working with fold 2\n",
      "===========\n",
      "\n",
      "2018-10-05 12:24:37,698 - test - DEBUG - Working with fold 2\n",
      "===========\n",
      "\n",
      "Train max time: 2017-01-09 08:03:25, Valid max time: 2017-01-09 08:03:30\n",
      "train_set length: 451829, valid_set length: 150608\n",
      "2018-10-05 12:24:37,798 - test - DEBUG - Working with fold 3\n",
      "===========\n",
      "\n",
      "2018-10-05 12:24:37,798 - test - DEBUG - Working with fold 3\n",
      "===========\n",
      "\n",
      "Train max time: 2017-03-19 05:10:52, Valid max time: 2017-03-19 05:13:08\n",
      "train_set length: 602437, valid_set length: 150608\n",
      "2018-10-05 12:24:37,930 - test - DEBUG - Working with fold 4\n",
      "===========\n",
      "\n",
      "2018-10-05 12:24:37,930 - test - DEBUG - Working with fold 4\n",
      "===========\n",
      "\n",
      "Train max time: 2017-05-25 16:53:03, Valid max time: 2017-05-25 16:53:20\n",
      "train_set length: 753045, valid_set length: 150608\n"
     ]
    }
   ],
   "source": [
    "# sanity check\n",
    "for i, (tr_index, val_index) in enumerate(tscv.split(full_train.visitStartTime)):\n",
    "    logger.debug(f'Working with fold {i}\\n===========\\n')\n",
    "    print(f'Train max time: {full_train.iloc[tr_index].visitStartTime.max()}, Valid max time: {full_train.iloc[val_index].visitStartTime.min()}')\n",
    "    print(f'train_set length: {len(tr_index)}, valid_set length: {len(val_index)}')"
   ]
  },
  {
   "cell_type": "markdown",
   "metadata": {},
   "source": [
    "##### Working on validation pipeline"
   ]
  },
  {
   "cell_type": "code",
   "execution_count": 41,
   "metadata": {},
   "outputs": [],
   "source": [
    "sample_sz = 100000\n",
    "# sample_sz = len(full_train)\n",
    "tscv = TimeSeriesSplit(n_splits=5)"
   ]
  },
  {
   "cell_type": "code",
   "execution_count": 42,
   "metadata": {},
   "outputs": [],
   "source": [
    "def rmse(x, y):\n",
    "    return math.sqrt(((x-y)**2).mean())"
   ]
  },
  {
   "cell_type": "code",
   "execution_count": 43,
   "metadata": {},
   "outputs": [],
   "source": [
    "def print_score(m):\n",
    "    res = [rmse(m.predict(X_train), y_train), rmse(m.predict(X_valid), y_valid),\n",
    "           m.score(X_train, y_train), m.score(X_valid, y_valid)]\n",
    "    if hasattr(m, 'oob_score_'):\n",
    "        res.append(m.oob_score_)\n",
    "    print(res)"
   ]
  },
  {
   "cell_type": "code",
   "execution_count": 44,
   "metadata": {},
   "outputs": [],
   "source": [
    "full_train_smpl = full_train.iloc[:sample_sz].copy()"
   ]
  },
  {
   "cell_type": "code",
   "execution_count": 48,
   "metadata": {},
   "outputs": [
    {
     "name": "stdout",
     "output_type": "stream",
     "text": [
      "2018-10-05 13:00:20,406 - test - DEBUG - Process train split on fold 0\n",
      "====\n",
      "\n",
      "2018-10-05 13:00:20,406 - test - DEBUG - Process train split on fold 0\n",
      "====\n",
      "\n",
      "2018-10-05 13:00:20,497 - test - DEBUG - Process valid split on fold 0\n",
      "====\n",
      "\n",
      "2018-10-05 13:00:20,497 - test - DEBUG - Process valid split on fold 0\n",
      "====\n",
      "\n",
      "Sanity check for column names and types\n",
      "(True, True)\n",
      "2018-10-05 13:00:21,090 - test - DEBUG - Printing score for fold 0\n",
      "====\n",
      "\n",
      "2018-10-05 13:00:21,090 - test - DEBUG - Printing score for fold 0\n",
      "====\n",
      "\n",
      "[0.6791501715578174, 2.7063404431660802, 0.8260798154562069, -0.3844965301278176]\n",
      "2018-10-05 13:00:22,437 - test - DEBUG - Process train split on fold 1\n",
      "====\n",
      "\n",
      "2018-10-05 13:00:22,437 - test - DEBUG - Process train split on fold 1\n",
      "====\n",
      "\n",
      "2018-10-05 13:00:22,555 - test - DEBUG - Process valid split on fold 1\n",
      "====\n",
      "\n",
      "2018-10-05 13:00:22,555 - test - DEBUG - Process valid split on fold 1\n",
      "====\n",
      "\n",
      "Sanity check for column names and types\n",
      "(True, True)\n",
      "2018-10-05 13:00:23,545 - test - DEBUG - Printing score for fold 1\n",
      "====\n",
      "\n",
      "2018-10-05 13:00:23,545 - test - DEBUG - Printing score for fold 1\n",
      "====\n",
      "\n",
      "[0.7836936511672061, 2.30703192416947, 0.8455473947011822, 0.052688718645294674]\n",
      "2018-10-05 13:00:25,357 - test - DEBUG - Process train split on fold 2\n",
      "====\n",
      "\n",
      "2018-10-05 13:00:25,357 - test - DEBUG - Process train split on fold 2\n",
      "====\n",
      "\n",
      "2018-10-05 13:00:25,510 - test - DEBUG - Process valid split on fold 2\n",
      "====\n",
      "\n",
      "2018-10-05 13:00:25,510 - test - DEBUG - Process valid split on fold 2\n",
      "====\n",
      "\n",
      "Sanity check for column names and types\n",
      "(True, True)\n",
      "2018-10-05 13:00:27,131 - test - DEBUG - Printing score for fold 2\n",
      "====\n",
      "\n",
      "2018-10-05 13:00:27,131 - test - DEBUG - Printing score for fold 2\n",
      "====\n",
      "\n",
      "[0.8197065209527864, 2.2186746801435535, 0.8515326090714823, 0.16507800983904164]\n",
      "2018-10-05 13:00:29,414 - test - DEBUG - Process train split on fold 3\n",
      "====\n",
      "\n",
      "2018-10-05 13:00:29,414 - test - DEBUG - Process train split on fold 3\n",
      "====\n",
      "\n",
      "2018-10-05 13:00:29,605 - test - DEBUG - Process valid split on fold 3\n",
      "====\n",
      "\n",
      "2018-10-05 13:00:29,605 - test - DEBUG - Process valid split on fold 3\n",
      "====\n",
      "\n",
      "Sanity check for column names and types\n",
      "(True, True)\n",
      "2018-10-05 13:00:31,769 - test - DEBUG - Printing score for fold 3\n",
      "====\n",
      "\n",
      "2018-10-05 13:00:31,769 - test - DEBUG - Printing score for fold 3\n",
      "====\n",
      "\n",
      "[0.830805786401308, 2.044101644069522, 0.8582457753024045, -0.08591642713647807]\n",
      "2018-10-05 13:00:34,494 - test - DEBUG - Process train split on fold 4\n",
      "====\n",
      "\n",
      "2018-10-05 13:00:34,494 - test - DEBUG - Process train split on fold 4\n",
      "====\n",
      "\n",
      "2018-10-05 13:00:34,727 - test - DEBUG - Process valid split on fold 4\n",
      "====\n",
      "\n",
      "2018-10-05 13:00:34,727 - test - DEBUG - Process valid split on fold 4\n",
      "====\n",
      "\n",
      "Sanity check for column names and types\n",
      "(True, True)\n",
      "2018-10-05 13:00:37,611 - test - DEBUG - Printing score for fold 4\n",
      "====\n",
      "\n",
      "2018-10-05 13:00:37,611 - test - DEBUG - Printing score for fold 4\n",
      "====\n",
      "\n",
      "[0.8204816436870533, 1.80520143251087, 0.8557088969834485, 0.16690908991411713]\n",
      "CPU times: user 34.8 s, sys: 1.94 s, total: 36.7 s\n",
      "Wall time: 20.4 s\n"
     ]
    }
   ],
   "source": [
    "%%time\n",
    "for i, (tr_index, val_index) in enumerate(tscv.split(full_train_smpl.visitStartTime)):\n",
    "    \n",
    "    logger.debug(f'Process train split on fold {i}{LN_SPLITTER}')\n",
    "    X_train, y_train, nas = proc_df(full_train_smpl.iloc[tr_index], 'totals_transactionRevenue',\n",
    "                                    skip_flds=['fullVisitorId', 'visitStartTime'], max_n_cat=100)\n",
    "    \n",
    "    logger.debug(f'Process valid split on fold {i}{LN_SPLITTER}')\n",
    "    X_valid, y_valid, _ = proc_df(full_train_smpl.iloc[val_index], 'totals_transactionRevenue',\n",
    "                                  skip_flds=['fullVisitorId', 'visitStartTime'],\n",
    "                                  max_n_cat=100, na_dict=nas)\n",
    "    print('Sanity check for column names and types')\n",
    "    print(f'{check_columns_and_types_same_in(X_train, X_valid)}')\n",
    "    \n",
    "    y_train, y_valid = np.log1p(y_train), np.log1p(y_valid)\n",
    "    \n",
    "    m = RandomForestRegressor(n_jobs=-1, n_estimators=10)\n",
    "    m.fit(X_train, y_train)\n",
    "    \n",
    "    logger.debug(f'Printing score for fold {i}{LN_SPLITTER}')\n",
    "    print_score(m)"
   ]
  },
  {
   "cell_type": "code",
   "execution_count": 48,
   "metadata": {},
   "outputs": [],
   "source": [
    "test, _, _ = proc_df(test_df, skip_flds=['fullVisitorId'], max_n_cat=100, na_dict=nas)"
   ]
  },
  {
   "cell_type": "code",
   "execution_count": 51,
   "metadata": {
    "scrolled": true
   },
   "outputs": [
    {
     "data": {
      "text/plain": [
       "True"
      ]
     },
     "execution_count": 51,
     "metadata": {},
     "output_type": "execute_result"
    }
   ],
   "source": [
    "all(df.columns == test.columns)"
   ]
  },
  {
   "cell_type": "code",
   "execution_count": 46,
   "metadata": {},
   "outputs": [
    {
     "data": {
      "text/plain": [
       "0.2421829352036406"
      ]
     },
     "execution_count": 46,
     "metadata": {},
     "output_type": "execute_result"
    }
   ],
   "source": [
    "y.mean()"
   ]
  },
  {
   "cell_type": "code",
   "execution_count": 45,
   "metadata": {},
   "outputs": [],
   "source": [
    "y = np.log1p(y)"
   ]
  },
  {
   "cell_type": "code",
   "execution_count": 54,
   "metadata": {},
   "outputs": [
    {
     "data": {
      "text/plain": [
       "0.9029624185260904"
      ]
     },
     "execution_count": 54,
     "metadata": {},
     "output_type": "execute_result"
    }
   ],
   "source": [
    "m = RandomForestRegressor(n_jobs=-1, n_estimators=100)\n",
    "m.fit(df, y)\n",
    "m.score(df,y)"
   ]
  },
  {
   "cell_type": "markdown",
   "metadata": {},
   "source": [
    "#### Train valid split"
   ]
  },
  {
   "cell_type": "code",
   "execution_count": 49,
   "metadata": {
    "collapsed": true
   },
   "outputs": [
    {
     "ename": "ValueError",
     "evalue": "Lengths must match to compare",
     "output_type": "error",
     "traceback": [
      "\u001b[0;31m---------------------------------------------------------------------------\u001b[0m",
      "\u001b[0;31mValueError\u001b[0m                                Traceback (most recent call last)",
      "\u001b[0;32m<ipython-input-49-2772aa2bdfe7>\u001b[0m in \u001b[0;36m<module>\u001b[0;34m()\u001b[0m\n\u001b[0;32m----> 1\u001b[0;31m \u001b[0mall\u001b[0m\u001b[0;34m(\u001b[0m\u001b[0mfull_train\u001b[0m\u001b[0;34m.\u001b[0m\u001b[0mindex\u001b[0m \u001b[0;34m==\u001b[0m \u001b[0mdf\u001b[0m\u001b[0;34m.\u001b[0m\u001b[0mindex\u001b[0m\u001b[0;34m)\u001b[0m\u001b[0;34m\u001b[0m\u001b[0m\n\u001b[0m",
      "\u001b[0;32m~/.virtualenvs/kaggle_env/lib/python3.6/site-packages/pandas/core/indexes/base.py\u001b[0m in \u001b[0;36mcmp_method\u001b[0;34m(self, other)\u001b[0m\n\u001b[1;32m     91\u001b[0m         \u001b[0;32mif\u001b[0m \u001b[0misinstance\u001b[0m\u001b[0;34m(\u001b[0m\u001b[0mother\u001b[0m\u001b[0;34m,\u001b[0m \u001b[0;34m(\u001b[0m\u001b[0mnp\u001b[0m\u001b[0;34m.\u001b[0m\u001b[0mndarray\u001b[0m\u001b[0;34m,\u001b[0m \u001b[0mIndex\u001b[0m\u001b[0;34m,\u001b[0m \u001b[0mABCSeries\u001b[0m\u001b[0;34m)\u001b[0m\u001b[0;34m)\u001b[0m\u001b[0;34m:\u001b[0m\u001b[0;34m\u001b[0m\u001b[0m\n\u001b[1;32m     92\u001b[0m             \u001b[0;32mif\u001b[0m \u001b[0mother\u001b[0m\u001b[0;34m.\u001b[0m\u001b[0mndim\u001b[0m \u001b[0;34m>\u001b[0m \u001b[0;36m0\u001b[0m \u001b[0;32mand\u001b[0m \u001b[0mlen\u001b[0m\u001b[0;34m(\u001b[0m\u001b[0mself\u001b[0m\u001b[0;34m)\u001b[0m \u001b[0;34m!=\u001b[0m \u001b[0mlen\u001b[0m\u001b[0;34m(\u001b[0m\u001b[0mother\u001b[0m\u001b[0;34m)\u001b[0m\u001b[0;34m:\u001b[0m\u001b[0;34m\u001b[0m\u001b[0m\n\u001b[0;32m---> 93\u001b[0;31m                 \u001b[0;32mraise\u001b[0m \u001b[0mValueError\u001b[0m\u001b[0;34m(\u001b[0m\u001b[0;34m'Lengths must match to compare'\u001b[0m\u001b[0;34m)\u001b[0m\u001b[0;34m\u001b[0m\u001b[0m\n\u001b[0m\u001b[1;32m     94\u001b[0m \u001b[0;34m\u001b[0m\u001b[0m\n\u001b[1;32m     95\u001b[0m         \u001b[0;31m# we may need to directly compare underlying\u001b[0m\u001b[0;34m\u001b[0m\u001b[0;34m\u001b[0m\u001b[0m\n",
      "\u001b[0;31mValueError\u001b[0m: Lengths must match to compare"
     ]
    }
   ],
   "source": [
    "all(full_train.index == df.index)"
   ]
  },
  {
   "cell_type": "markdown",
   "metadata": {},
   "source": [
    "##### First simple way to make validation "
   ]
  },
  {
   "cell_type": "code",
   "execution_count": 56,
   "metadata": {},
   "outputs": [],
   "source": [
    "# valid_index = full_train[full_train.fullVisitorId.isin(validationIds)].index"
   ]
  },
  {
   "cell_type": "code",
   "execution_count": 57,
   "metadata": {},
   "outputs": [],
   "source": [
    "# train_index = full_train[~full_train.fullVisitorId.isin(validationIds)].index"
   ]
  },
  {
   "cell_type": "code",
   "execution_count": 58,
   "metadata": {},
   "outputs": [
    {
     "data": {
      "text/plain": [
       "((681849, 321), (681849,), (221804, 321))"
      ]
     },
     "execution_count": 58,
     "metadata": {},
     "output_type": "execute_result"
    }
   ],
   "source": [
    "# def split_vals_array(a, train_index, val_index):\n",
    "#     return a[train_index].copy(), a[val_index].copy()\n",
    "\n",
    "# def split_vals_df(a, train_index, val_index):\n",
    "#     return a.iloc[train_index].copy(), a.iloc[val_index].copy()\n",
    "\n",
    "\n",
    "# raw_train, raw_valid = split_vals_df(full_train, train_index, valid_index)\n",
    "# X_train, X_valid = split_vals_df(df, train_index, valid_index)\n",
    "# y_train, y_valid = split_vals_array(y, train_index, valid_index)\n",
    "\n",
    "# X_train.shape, y_train.shape, X_valid.shape"
   ]
  },
  {
   "cell_type": "code",
   "execution_count": 59,
   "metadata": {},
   "outputs": [
    {
     "data": {
      "text/plain": [
       "(0.20146147902692166, 0.3059895624328279)"
      ]
     },
     "execution_count": 59,
     "metadata": {},
     "output_type": "execute_result"
    }
   ],
   "source": [
    "# y_train.mean(), y_valid.mean()"
   ]
  },
  {
   "cell_type": "code",
   "execution_count": 60,
   "metadata": {},
   "outputs": [
    {
     "data": {
      "text/plain": [
       "(23.497337833653027, 23.86437469605166)"
      ]
     },
     "execution_count": 60,
     "metadata": {},
     "output_type": "execute_result"
    }
   ],
   "source": [
    "# y_train.max(), y_valid.max()"
   ]
  },
  {
   "cell_type": "markdown",
   "metadata": {},
   "source": [
    "#### Base Model "
   ]
  },
  {
   "cell_type": "code",
   "execution_count": 63,
   "metadata": {},
   "outputs": [
    {
     "name": "stdout",
     "output_type": "stream",
     "text": [
      "CPU times: user 46min 33s, sys: 50.6 s, total: 47min 24s\n",
      "Wall time: 6min 57s\n"
     ]
    },
    {
     "data": {
      "text/plain": [
       "RandomForestRegressor(bootstrap=True, criterion='mse', max_depth=None,\n",
       "           max_features='auto', max_leaf_nodes=None,\n",
       "           min_impurity_decrease=0.0, min_impurity_split=None,\n",
       "           min_samples_leaf=1, min_samples_split=2,\n",
       "           min_weight_fraction_leaf=0.0, n_estimators=100, n_jobs=-1,\n",
       "           oob_score=False, random_state=None, verbose=0, warm_start=False)"
      ]
     },
     "execution_count": 63,
     "metadata": {},
     "output_type": "execute_result"
    }
   ],
   "source": [
    "m_val = RandomForestRegressor(n_jobs=-1, n_estimators=100)\n",
    "%time m_val.fit(X_train, y_train)"
   ]
  },
  {
   "cell_type": "markdown",
   "metadata": {},
   "source": [
    "#### Visit Level"
   ]
  },
  {
   "cell_type": "code",
   "execution_count": 64,
   "metadata": {},
   "outputs": [
    {
     "name": "stdout",
     "output_type": "stream",
     "text": [
      "[0.5976430330813959, 2.1541521568709947, 0.8997188839647949, 0.14058583153614346]\n"
     ]
    }
   ],
   "source": [
    "print_score(m_val)"
   ]
  },
  {
   "cell_type": "markdown",
   "metadata": {},
   "source": [
    "#### Go to User Level"
   ]
  },
  {
   "cell_type": "code",
   "execution_count": 65,
   "metadata": {},
   "outputs": [],
   "source": [
    "val_preds = m_val.predict(X_valid)"
   ]
  },
  {
   "cell_type": "code",
   "execution_count": 66,
   "metadata": {},
   "outputs": [],
   "source": [
    "val_preds[val_preds < 0] = 0."
   ]
  },
  {
   "cell_type": "code",
   "execution_count": 67,
   "metadata": {},
   "outputs": [],
   "source": [
    "grouped = raw_valid[['fullVisitorId']].copy()"
   ]
  },
  {
   "cell_type": "code",
   "execution_count": 68,
   "metadata": {},
   "outputs": [],
   "source": [
    "grouped['y'] = np.expm1(y_valid)\n",
    "grouped['y_hat'] = np.expm1(val_preds)"
   ]
  },
  {
   "cell_type": "code",
   "execution_count": 69,
   "metadata": {},
   "outputs": [],
   "source": [
    "grouped = grouped.groupby('fullVisitorId', as_index=False).sum()"
   ]
  },
  {
   "cell_type": "code",
   "execution_count": 70,
   "metadata": {},
   "outputs": [],
   "source": [
    "grouped['y'] = np.log1p(grouped['y'])\n",
    "grouped['y_hat'] = np.log1p(grouped['y_hat'])"
   ]
  },
  {
   "cell_type": "code",
   "execution_count": 71,
   "metadata": {},
   "outputs": [
    {
     "data": {
      "text/plain": [
       "2.1447894992588807"
      ]
     },
     "execution_count": 71,
     "metadata": {},
     "output_type": "execute_result"
    }
   ],
   "source": [
    "rmse(grouped.y, grouped.y_hat)"
   ]
  },
  {
   "cell_type": "markdown",
   "metadata": {},
   "source": [
    "####  Test flow"
   ]
  },
  {
   "cell_type": "code",
   "execution_count": 72,
   "metadata": {},
   "outputs": [],
   "source": [
    "test_preds = m.predict(test)\n",
    "test_preds[test_preds < 0] = 0."
   ]
  },
  {
   "cell_type": "code",
   "execution_count": 76,
   "metadata": {},
   "outputs": [],
   "source": [
    "test_grouped = test_df[['fullVisitorId']].copy()\n",
    "test_grouped['y_hat'] = np.expm1(test_preds)"
   ]
  },
  {
   "cell_type": "code",
   "execution_count": 79,
   "metadata": {},
   "outputs": [],
   "source": [
    "test_grouped = test_grouped.groupby('fullVisitorId', as_index=False).sum()\n",
    "test_grouped['y_hat'] = np.log1p(test_grouped['y_hat'])"
   ]
  },
  {
   "cell_type": "code",
   "execution_count": 82,
   "metadata": {},
   "outputs": [],
   "source": [
    "submit = pd.read_csv('../data/sample_submission.csv')"
   ]
  },
  {
   "cell_type": "code",
   "execution_count": 83,
   "metadata": {},
   "outputs": [
    {
     "data": {
      "text/plain": [
       "True"
      ]
     },
     "execution_count": 83,
     "metadata": {},
     "output_type": "execute_result"
    }
   ],
   "source": [
    "test_grouped.fullVisitorId.tolist() == submit.fullVisitorId.tolist()"
   ]
  },
  {
   "cell_type": "code",
   "execution_count": 84,
   "metadata": {},
   "outputs": [],
   "source": [
    "submit['fullVisitorId'] = test_grouped['fullVisitorId']"
   ]
  },
  {
   "cell_type": "code",
   "execution_count": 85,
   "metadata": {},
   "outputs": [],
   "source": [
    "submit['PredictedLogRevenue'] = test_grouped['y_hat']"
   ]
  },
  {
   "cell_type": "code",
   "execution_count": 86,
   "metadata": {},
   "outputs": [],
   "source": [
    "os.makedirs('../submissions', exist_ok=True)"
   ]
  },
  {
   "cell_type": "code",
   "execution_count": 87,
   "metadata": {},
   "outputs": [],
   "source": [
    "submit.to_csv('../submissions/rf_baseline.csv', header=True, index=False)"
   ]
  },
  {
   "cell_type": "code",
   "execution_count": null,
   "metadata": {},
   "outputs": [],
   "source": []
  }
 ],
 "metadata": {
  "kernelspec": {
   "display_name": "Python 3",
   "language": "python",
   "name": "python3"
  },
  "language_info": {
   "codemirror_mode": {
    "name": "ipython",
    "version": 3
   },
   "file_extension": ".py",
   "mimetype": "text/x-python",
   "name": "python",
   "nbconvert_exporter": "python",
   "pygments_lexer": "ipython3",
   "version": "3.6.5"
  },
  "toc": {
   "base_numbering": 1,
   "nav_menu": {},
   "number_sections": true,
   "sideBar": true,
   "skip_h1_title": false,
   "title_cell": "Table of Contents",
   "title_sidebar": "Contents",
   "toc_cell": false,
   "toc_position": {},
   "toc_section_display": true,
   "toc_window_display": true
  }
 },
 "nbformat": 4,
 "nbformat_minor": 2
}
