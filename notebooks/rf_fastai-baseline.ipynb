{
 "cells": [
  {
   "cell_type": "markdown",
   "metadata": {},
   "source": [
    "### Imports"
   ]
  },
  {
   "cell_type": "code",
   "execution_count": 1,
   "metadata": {},
   "outputs": [],
   "source": [
    "%load_ext autoreload\n",
    "%autoreload 2\n",
    "\n",
    "%matplotlib inline"
   ]
  },
  {
   "cell_type": "code",
   "execution_count": 2,
   "metadata": {},
   "outputs": [],
   "source": [
    "import os\n",
    "import math"
   ]
  },
  {
   "cell_type": "code",
   "execution_count": 3,
   "metadata": {},
   "outputs": [],
   "source": [
    "import pandas as pd\n",
    "import numpy as np"
   ]
  },
  {
   "cell_type": "code",
   "execution_count": 4,
   "metadata": {},
   "outputs": [],
   "source": [
    "from pandas.api.types import is_string_dtype, is_numeric_dtype"
   ]
  },
  {
   "cell_type": "code",
   "execution_count": 5,
   "metadata": {},
   "outputs": [
    {
     "data": {
      "text/plain": [
       "'0.23.4'"
      ]
     },
     "execution_count": 5,
     "metadata": {},
     "output_type": "execute_result"
    }
   ],
   "source": [
    "pd.__version__"
   ]
  },
  {
   "cell_type": "code",
   "execution_count": 6,
   "metadata": {
    "scrolled": true
   },
   "outputs": [],
   "source": [
    "from sklearn.ensemble import RandomForestRegressor\n",
    "from IPython.display import display\n",
    "\n",
    "from sklearn import metrics"
   ]
  },
  {
   "cell_type": "code",
   "execution_count": 7,
   "metadata": {},
   "outputs": [],
   "source": [
    "import sys\n",
    "sys.path.append('../src')"
   ]
  },
  {
   "cell_type": "code",
   "execution_count": 8,
   "metadata": {},
   "outputs": [],
   "source": [
    "from workflow.data_utils import load_csv, train_valid_split"
   ]
  },
  {
   "cell_type": "code",
   "execution_count": 9,
   "metadata": {},
   "outputs": [],
   "source": [
    "from workflow.structured import add_datepart, train_cats, proc_df, apply_cats"
   ]
  },
  {
   "cell_type": "markdown",
   "metadata": {},
   "source": [
    "### Constants"
   ]
  },
  {
   "cell_type": "code",
   "execution_count": 10,
   "metadata": {},
   "outputs": [],
   "source": [
    "def display_all(df):\n",
    "    with pd.option_context(\"display.max_rows\", 1000, \"display.max_columns\", 1000): \n",
    "        display(df)"
   ]
  },
  {
   "cell_type": "code",
   "execution_count": 11,
   "metadata": {},
   "outputs": [],
   "source": [
    "def half_bool_columns_to_float_type(df):\n",
    "    for col in df.columns:\n",
    "        if is_string_dtype(df[col]):\n",
    "            unqs = df[col].unique()\n",
    "            if len(unqs) == 2 and (False in unqs or True in unqs):\n",
    "                print(col)\n",
    "                df[col] = df[col].astype(float)"
   ]
  },
  {
   "cell_type": "markdown",
   "metadata": {},
   "source": [
    "### Loads "
   ]
  },
  {
   "cell_type": "code",
   "execution_count": 12,
   "metadata": {},
   "outputs": [
    {
     "name": "stdout",
     "output_type": "stream",
     "text": [
      "CPU times: user 48.7 ms, sys: 11.2 ms, total: 59.9 ms\n",
      "Wall time: 242 ms\n"
     ]
    }
   ],
   "source": [
    "%%time\n",
    "full_train = load_csv('../data/processed_data/processed_train.csv',\n",
    "                      low_memory=False, nrows=10000)"
   ]
  },
  {
   "cell_type": "code",
   "execution_count": 13,
   "metadata": {},
   "outputs": [
    {
     "name": "stdout",
     "output_type": "stream",
     "text": [
      "<class 'pandas.core.frame.DataFrame'>\n",
      "RangeIndex: 10000 entries, 0 to 9999\n",
      "Data columns (total 35 columns):\n",
      "channelGrouping                                 10000 non-null object\n",
      "date                                            10000 non-null int64\n",
      "fullVisitorId                                   10000 non-null object\n",
      "sessionId                                       10000 non-null object\n",
      "visitId                                         10000 non-null int64\n",
      "visitNumber                                     10000 non-null int64\n",
      "visitStartTime                                  10000 non-null int64\n",
      "device_browser                                  10000 non-null object\n",
      "device_deviceCategory                           10000 non-null object\n",
      "device_isMobile                                 10000 non-null bool\n",
      "device_operatingSystem                          10000 non-null object\n",
      "geoNetwork_city                                 10000 non-null object\n",
      "geoNetwork_continent                            10000 non-null object\n",
      "geoNetwork_country                              10000 non-null object\n",
      "geoNetwork_metro                                10000 non-null object\n",
      "geoNetwork_networkDomain                        10000 non-null object\n",
      "geoNetwork_region                               10000 non-null object\n",
      "geoNetwork_subContinent                         10000 non-null object\n",
      "totals_bounces                                  5318 non-null float64\n",
      "totals_hits                                     10000 non-null int64\n",
      "totals_newVisits                                7701 non-null float64\n",
      "totals_pageviews                                10000 non-null float64\n",
      "trafficSource_adContent                         151 non-null object\n",
      "trafficSource_adwordsClickInfo.adNetworkType    250 non-null object\n",
      "trafficSource_adwordsClickInfo.gclId            253 non-null object\n",
      "trafficSource_adwordsClickInfo.isVideoAd        250 non-null object\n",
      "trafficSource_adwordsClickInfo.page             250 non-null float64\n",
      "trafficSource_adwordsClickInfo.slot             250 non-null object\n",
      "trafficSource_campaign                          10000 non-null object\n",
      "trafficSource_isTrueDirect                      3179 non-null object\n",
      "trafficSource_keyword                           5004 non-null object\n",
      "trafficSource_medium                            10000 non-null object\n",
      "trafficSource_referralPath                      3041 non-null object\n",
      "trafficSource_source                            10000 non-null object\n",
      "totals_transactionRevenue                       91 non-null float64\n",
      "dtypes: bool(1), float64(5), int64(5), object(24)\n",
      "memory usage: 2.6+ MB\n"
     ]
    }
   ],
   "source": [
    "full_train.info()"
   ]
  },
  {
   "cell_type": "code",
   "execution_count": 14,
   "metadata": {},
   "outputs": [
    {
     "name": "stdout",
     "output_type": "stream",
     "text": [
      "trafficSource_adwordsClickInfo.isVideoAd\n",
      "trafficSource_isTrueDirect\n"
     ]
    }
   ],
   "source": [
    "half_bool_columns_to_float_type(full_train)"
   ]
  },
  {
   "cell_type": "code",
   "execution_count": 15,
   "metadata": {},
   "outputs": [
    {
     "data": {
      "text/html": [
       "<div>\n",
       "<style scoped>\n",
       "    .dataframe tbody tr th:only-of-type {\n",
       "        vertical-align: middle;\n",
       "    }\n",
       "\n",
       "    .dataframe tbody tr th {\n",
       "        vertical-align: top;\n",
       "    }\n",
       "\n",
       "    .dataframe thead th {\n",
       "        text-align: right;\n",
       "    }\n",
       "</style>\n",
       "<table border=\"1\" class=\"dataframe\">\n",
       "  <thead>\n",
       "    <tr style=\"text-align: right;\">\n",
       "      <th></th>\n",
       "      <th>channelGrouping</th>\n",
       "      <th>date</th>\n",
       "      <th>fullVisitorId</th>\n",
       "      <th>sessionId</th>\n",
       "      <th>visitId</th>\n",
       "      <th>visitNumber</th>\n",
       "      <th>visitStartTime</th>\n",
       "      <th>device_browser</th>\n",
       "      <th>device_deviceCategory</th>\n",
       "      <th>device_isMobile</th>\n",
       "      <th>device_operatingSystem</th>\n",
       "      <th>geoNetwork_city</th>\n",
       "      <th>geoNetwork_continent</th>\n",
       "      <th>geoNetwork_country</th>\n",
       "      <th>geoNetwork_metro</th>\n",
       "      <th>geoNetwork_networkDomain</th>\n",
       "      <th>geoNetwork_region</th>\n",
       "      <th>geoNetwork_subContinent</th>\n",
       "      <th>totals_bounces</th>\n",
       "      <th>totals_hits</th>\n",
       "      <th>totals_newVisits</th>\n",
       "      <th>totals_pageviews</th>\n",
       "      <th>trafficSource_adContent</th>\n",
       "      <th>trafficSource_adwordsClickInfo.adNetworkType</th>\n",
       "      <th>trafficSource_adwordsClickInfo.gclId</th>\n",
       "      <th>trafficSource_adwordsClickInfo.isVideoAd</th>\n",
       "      <th>trafficSource_adwordsClickInfo.page</th>\n",
       "      <th>trafficSource_adwordsClickInfo.slot</th>\n",
       "      <th>trafficSource_campaign</th>\n",
       "      <th>trafficSource_isTrueDirect</th>\n",
       "      <th>trafficSource_keyword</th>\n",
       "      <th>trafficSource_medium</th>\n",
       "      <th>trafficSource_referralPath</th>\n",
       "      <th>trafficSource_source</th>\n",
       "      <th>totals_transactionRevenue</th>\n",
       "    </tr>\n",
       "  </thead>\n",
       "  <tbody>\n",
       "    <tr>\n",
       "      <th>0</th>\n",
       "      <td>Organic Search</td>\n",
       "      <td>20160902</td>\n",
       "      <td>1131660440785968503</td>\n",
       "      <td>1131660440785968503_1472830385</td>\n",
       "      <td>1472830385</td>\n",
       "      <td>1</td>\n",
       "      <td>1472830385</td>\n",
       "      <td>Chrome</td>\n",
       "      <td>desktop</td>\n",
       "      <td>False</td>\n",
       "      <td>Windows</td>\n",
       "      <td>Izmir</td>\n",
       "      <td>Asia</td>\n",
       "      <td>Turkey</td>\n",
       "      <td>(not set)</td>\n",
       "      <td>ttnet.com.tr</td>\n",
       "      <td>Izmir</td>\n",
       "      <td>Western Asia</td>\n",
       "      <td>1.0</td>\n",
       "      <td>1</td>\n",
       "      <td>1.0</td>\n",
       "      <td>1.0</td>\n",
       "      <td>NaN</td>\n",
       "      <td>NaN</td>\n",
       "      <td>NaN</td>\n",
       "      <td>NaN</td>\n",
       "      <td>NaN</td>\n",
       "      <td>NaN</td>\n",
       "      <td>(not set)</td>\n",
       "      <td>NaN</td>\n",
       "      <td>(not provided)</td>\n",
       "      <td>organic</td>\n",
       "      <td>NaN</td>\n",
       "      <td>google</td>\n",
       "      <td>NaN</td>\n",
       "    </tr>\n",
       "    <tr>\n",
       "      <th>1</th>\n",
       "      <td>Organic Search</td>\n",
       "      <td>20160902</td>\n",
       "      <td>377306020877927890</td>\n",
       "      <td>377306020877927890_1472880147</td>\n",
       "      <td>1472880147</td>\n",
       "      <td>1</td>\n",
       "      <td>1472880147</td>\n",
       "      <td>Firefox</td>\n",
       "      <td>desktop</td>\n",
       "      <td>False</td>\n",
       "      <td>Macintosh</td>\n",
       "      <td>not available in demo dataset</td>\n",
       "      <td>Oceania</td>\n",
       "      <td>Australia</td>\n",
       "      <td>not available in demo dataset</td>\n",
       "      <td>dodo.net.au</td>\n",
       "      <td>not available in demo dataset</td>\n",
       "      <td>Australasia</td>\n",
       "      <td>1.0</td>\n",
       "      <td>1</td>\n",
       "      <td>1.0</td>\n",
       "      <td>1.0</td>\n",
       "      <td>NaN</td>\n",
       "      <td>NaN</td>\n",
       "      <td>NaN</td>\n",
       "      <td>NaN</td>\n",
       "      <td>NaN</td>\n",
       "      <td>NaN</td>\n",
       "      <td>(not set)</td>\n",
       "      <td>NaN</td>\n",
       "      <td>(not provided)</td>\n",
       "      <td>organic</td>\n",
       "      <td>NaN</td>\n",
       "      <td>google</td>\n",
       "      <td>NaN</td>\n",
       "    </tr>\n",
       "    <tr>\n",
       "      <th>2</th>\n",
       "      <td>Organic Search</td>\n",
       "      <td>20160902</td>\n",
       "      <td>3895546263509774583</td>\n",
       "      <td>3895546263509774583_1472865386</td>\n",
       "      <td>1472865386</td>\n",
       "      <td>1</td>\n",
       "      <td>1472865386</td>\n",
       "      <td>Chrome</td>\n",
       "      <td>desktop</td>\n",
       "      <td>False</td>\n",
       "      <td>Windows</td>\n",
       "      <td>Madrid</td>\n",
       "      <td>Europe</td>\n",
       "      <td>Spain</td>\n",
       "      <td>(not set)</td>\n",
       "      <td>unknown.unknown</td>\n",
       "      <td>Community of Madrid</td>\n",
       "      <td>Southern Europe</td>\n",
       "      <td>1.0</td>\n",
       "      <td>1</td>\n",
       "      <td>1.0</td>\n",
       "      <td>1.0</td>\n",
       "      <td>NaN</td>\n",
       "      <td>NaN</td>\n",
       "      <td>NaN</td>\n",
       "      <td>NaN</td>\n",
       "      <td>NaN</td>\n",
       "      <td>NaN</td>\n",
       "      <td>(not set)</td>\n",
       "      <td>NaN</td>\n",
       "      <td>(not provided)</td>\n",
       "      <td>organic</td>\n",
       "      <td>NaN</td>\n",
       "      <td>google</td>\n",
       "      <td>NaN</td>\n",
       "    </tr>\n",
       "    <tr>\n",
       "      <th>3</th>\n",
       "      <td>Organic Search</td>\n",
       "      <td>20160902</td>\n",
       "      <td>4763447161404445595</td>\n",
       "      <td>4763447161404445595_1472881213</td>\n",
       "      <td>1472881213</td>\n",
       "      <td>1</td>\n",
       "      <td>1472881213</td>\n",
       "      <td>UC Browser</td>\n",
       "      <td>desktop</td>\n",
       "      <td>False</td>\n",
       "      <td>Linux</td>\n",
       "      <td>not available in demo dataset</td>\n",
       "      <td>Asia</td>\n",
       "      <td>Indonesia</td>\n",
       "      <td>not available in demo dataset</td>\n",
       "      <td>unknown.unknown</td>\n",
       "      <td>not available in demo dataset</td>\n",
       "      <td>Southeast Asia</td>\n",
       "      <td>1.0</td>\n",
       "      <td>1</td>\n",
       "      <td>1.0</td>\n",
       "      <td>1.0</td>\n",
       "      <td>NaN</td>\n",
       "      <td>NaN</td>\n",
       "      <td>NaN</td>\n",
       "      <td>NaN</td>\n",
       "      <td>NaN</td>\n",
       "      <td>NaN</td>\n",
       "      <td>(not set)</td>\n",
       "      <td>NaN</td>\n",
       "      <td>google + online</td>\n",
       "      <td>organic</td>\n",
       "      <td>NaN</td>\n",
       "      <td>google</td>\n",
       "      <td>NaN</td>\n",
       "    </tr>\n",
       "    <tr>\n",
       "      <th>4</th>\n",
       "      <td>Organic Search</td>\n",
       "      <td>20160902</td>\n",
       "      <td>27294437909732085</td>\n",
       "      <td>27294437909732085_1472822600</td>\n",
       "      <td>1472822600</td>\n",
       "      <td>2</td>\n",
       "      <td>1472822600</td>\n",
       "      <td>Chrome</td>\n",
       "      <td>mobile</td>\n",
       "      <td>True</td>\n",
       "      <td>Android</td>\n",
       "      <td>not available in demo dataset</td>\n",
       "      <td>Europe</td>\n",
       "      <td>United Kingdom</td>\n",
       "      <td>not available in demo dataset</td>\n",
       "      <td>unknown.unknown</td>\n",
       "      <td>not available in demo dataset</td>\n",
       "      <td>Northern Europe</td>\n",
       "      <td>1.0</td>\n",
       "      <td>1</td>\n",
       "      <td>NaN</td>\n",
       "      <td>1.0</td>\n",
       "      <td>NaN</td>\n",
       "      <td>NaN</td>\n",
       "      <td>NaN</td>\n",
       "      <td>NaN</td>\n",
       "      <td>NaN</td>\n",
       "      <td>NaN</td>\n",
       "      <td>(not set)</td>\n",
       "      <td>1.0</td>\n",
       "      <td>(not provided)</td>\n",
       "      <td>organic</td>\n",
       "      <td>NaN</td>\n",
       "      <td>google</td>\n",
       "      <td>NaN</td>\n",
       "    </tr>\n",
       "  </tbody>\n",
       "</table>\n",
       "</div>"
      ],
      "text/plain": [
       "  channelGrouping      date        fullVisitorId  \\\n",
       "0  Organic Search  20160902  1131660440785968503   \n",
       "1  Organic Search  20160902   377306020877927890   \n",
       "2  Organic Search  20160902  3895546263509774583   \n",
       "3  Organic Search  20160902  4763447161404445595   \n",
       "4  Organic Search  20160902    27294437909732085   \n",
       "\n",
       "                        sessionId     visitId  visitNumber  visitStartTime  \\\n",
       "0  1131660440785968503_1472830385  1472830385            1      1472830385   \n",
       "1   377306020877927890_1472880147  1472880147            1      1472880147   \n",
       "2  3895546263509774583_1472865386  1472865386            1      1472865386   \n",
       "3  4763447161404445595_1472881213  1472881213            1      1472881213   \n",
       "4    27294437909732085_1472822600  1472822600            2      1472822600   \n",
       "\n",
       "  device_browser device_deviceCategory  device_isMobile  \\\n",
       "0         Chrome               desktop            False   \n",
       "1        Firefox               desktop            False   \n",
       "2         Chrome               desktop            False   \n",
       "3     UC Browser               desktop            False   \n",
       "4         Chrome                mobile             True   \n",
       "\n",
       "  device_operatingSystem                geoNetwork_city geoNetwork_continent  \\\n",
       "0                Windows                          Izmir                 Asia   \n",
       "1              Macintosh  not available in demo dataset              Oceania   \n",
       "2                Windows                         Madrid               Europe   \n",
       "3                  Linux  not available in demo dataset                 Asia   \n",
       "4                Android  not available in demo dataset               Europe   \n",
       "\n",
       "  geoNetwork_country               geoNetwork_metro geoNetwork_networkDomain  \\\n",
       "0             Turkey                      (not set)             ttnet.com.tr   \n",
       "1          Australia  not available in demo dataset              dodo.net.au   \n",
       "2              Spain                      (not set)          unknown.unknown   \n",
       "3          Indonesia  not available in demo dataset          unknown.unknown   \n",
       "4     United Kingdom  not available in demo dataset          unknown.unknown   \n",
       "\n",
       "               geoNetwork_region geoNetwork_subContinent  totals_bounces  \\\n",
       "0                          Izmir            Western Asia             1.0   \n",
       "1  not available in demo dataset             Australasia             1.0   \n",
       "2            Community of Madrid         Southern Europe             1.0   \n",
       "3  not available in demo dataset          Southeast Asia             1.0   \n",
       "4  not available in demo dataset         Northern Europe             1.0   \n",
       "\n",
       "   totals_hits  totals_newVisits  totals_pageviews trafficSource_adContent  \\\n",
       "0            1               1.0               1.0                     NaN   \n",
       "1            1               1.0               1.0                     NaN   \n",
       "2            1               1.0               1.0                     NaN   \n",
       "3            1               1.0               1.0                     NaN   \n",
       "4            1               NaN               1.0                     NaN   \n",
       "\n",
       "  trafficSource_adwordsClickInfo.adNetworkType  \\\n",
       "0                                          NaN   \n",
       "1                                          NaN   \n",
       "2                                          NaN   \n",
       "3                                          NaN   \n",
       "4                                          NaN   \n",
       "\n",
       "  trafficSource_adwordsClickInfo.gclId  \\\n",
       "0                                  NaN   \n",
       "1                                  NaN   \n",
       "2                                  NaN   \n",
       "3                                  NaN   \n",
       "4                                  NaN   \n",
       "\n",
       "   trafficSource_adwordsClickInfo.isVideoAd  \\\n",
       "0                                       NaN   \n",
       "1                                       NaN   \n",
       "2                                       NaN   \n",
       "3                                       NaN   \n",
       "4                                       NaN   \n",
       "\n",
       "   trafficSource_adwordsClickInfo.page trafficSource_adwordsClickInfo.slot  \\\n",
       "0                                  NaN                                 NaN   \n",
       "1                                  NaN                                 NaN   \n",
       "2                                  NaN                                 NaN   \n",
       "3                                  NaN                                 NaN   \n",
       "4                                  NaN                                 NaN   \n",
       "\n",
       "  trafficSource_campaign  trafficSource_isTrueDirect trafficSource_keyword  \\\n",
       "0              (not set)                         NaN        (not provided)   \n",
       "1              (not set)                         NaN        (not provided)   \n",
       "2              (not set)                         NaN        (not provided)   \n",
       "3              (not set)                         NaN       google + online   \n",
       "4              (not set)                         1.0        (not provided)   \n",
       "\n",
       "  trafficSource_medium trafficSource_referralPath trafficSource_source  \\\n",
       "0              organic                        NaN               google   \n",
       "1              organic                        NaN               google   \n",
       "2              organic                        NaN               google   \n",
       "3              organic                        NaN               google   \n",
       "4              organic                        NaN               google   \n",
       "\n",
       "   totals_transactionRevenue  \n",
       "0                        NaN  \n",
       "1                        NaN  \n",
       "2                        NaN  \n",
       "3                        NaN  \n",
       "4                        NaN  "
      ]
     },
     "metadata": {},
     "output_type": "display_data"
    }
   ],
   "source": [
    "display_all(full_train.head())"
   ]
  },
  {
   "cell_type": "code",
   "execution_count": 15,
   "metadata": {},
   "outputs": [
    {
     "name": "stdout",
     "output_type": "stream",
     "text": [
      "CPU times: user 46.6 ms, sys: 9.58 ms, total: 56.1 ms\n",
      "Wall time: 125 ms\n"
     ]
    }
   ],
   "source": [
    "%%time\n",
    "test_df = load_csv('../data/processed_data/processed_test.csv', low_memory=False, nrows=10000)"
   ]
  },
  {
   "cell_type": "code",
   "execution_count": 16,
   "metadata": {},
   "outputs": [
    {
     "name": "stdout",
     "output_type": "stream",
     "text": [
      "<class 'pandas.core.frame.DataFrame'>\n",
      "RangeIndex: 10000 entries, 0 to 9999\n",
      "Data columns (total 34 columns):\n",
      "channelGrouping                                 10000 non-null object\n",
      "date                                            10000 non-null int64\n",
      "fullVisitorId                                   10000 non-null object\n",
      "sessionId                                       10000 non-null object\n",
      "visitId                                         10000 non-null int64\n",
      "visitNumber                                     10000 non-null int64\n",
      "visitStartTime                                  10000 non-null int64\n",
      "device_browser                                  10000 non-null object\n",
      "device_deviceCategory                           10000 non-null object\n",
      "device_isMobile                                 10000 non-null bool\n",
      "device_operatingSystem                          10000 non-null object\n",
      "geoNetwork_city                                 10000 non-null object\n",
      "geoNetwork_continent                            10000 non-null object\n",
      "geoNetwork_country                              10000 non-null object\n",
      "geoNetwork_metro                                10000 non-null object\n",
      "geoNetwork_networkDomain                        10000 non-null object\n",
      "geoNetwork_region                               10000 non-null object\n",
      "geoNetwork_subContinent                         10000 non-null object\n",
      "totals_bounces                                  5025 non-null float64\n",
      "totals_hits                                     10000 non-null int64\n",
      "totals_newVisits                                7301 non-null float64\n",
      "totals_pageviews                                9999 non-null float64\n",
      "trafficSource_adContent                         495 non-null object\n",
      "trafficSource_adwordsClickInfo.adNetworkType    515 non-null object\n",
      "trafficSource_adwordsClickInfo.gclId            515 non-null object\n",
      "trafficSource_adwordsClickInfo.isVideoAd        515 non-null object\n",
      "trafficSource_adwordsClickInfo.page             515 non-null float64\n",
      "trafficSource_adwordsClickInfo.slot             515 non-null object\n",
      "trafficSource_campaign                          10000 non-null object\n",
      "trafficSource_isTrueDirect                      3320 non-null object\n",
      "trafficSource_keyword                           5413 non-null object\n",
      "trafficSource_medium                            10000 non-null object\n",
      "trafficSource_referralPath                      2720 non-null object\n",
      "trafficSource_source                            10000 non-null object\n",
      "dtypes: bool(1), float64(4), int64(5), object(24)\n",
      "memory usage: 2.5+ MB\n"
     ]
    }
   ],
   "source": [
    "test_df.info()"
   ]
  },
  {
   "cell_type": "code",
   "execution_count": 17,
   "metadata": {},
   "outputs": [
    {
     "name": "stdout",
     "output_type": "stream",
     "text": [
      "trafficSource_adwordsClickInfo.isVideoAd\n",
      "trafficSource_isTrueDirect\n"
     ]
    }
   ],
   "source": [
    "half_bool_columns_to_float_type(test_df)"
   ]
  },
  {
   "cell_type": "code",
   "execution_count": 18,
   "metadata": {},
   "outputs": [
    {
     "data": {
      "text/plain": [
       "True"
      ]
     },
     "execution_count": 18,
     "metadata": {},
     "output_type": "execute_result"
    }
   ],
   "source": [
    "all(full_train.drop('totals_transactionRevenue', axis=1).columns == test_df.columns)"
   ]
  },
  {
   "cell_type": "markdown",
   "metadata": {},
   "source": [
    "### Workflow"
   ]
  },
  {
   "cell_type": "code",
   "execution_count": 19,
   "metadata": {},
   "outputs": [],
   "source": [
    "full_train['totals_transactionRevenue'] = full_train['totals_transactionRevenue'].fillna(value=0)"
   ]
  },
  {
   "cell_type": "code",
   "execution_count": 21,
   "metadata": {
    "scrolled": true
   },
   "outputs": [
    {
     "data": {
      "text/html": [
       "<div>\n",
       "<style scoped>\n",
       "    .dataframe tbody tr th:only-of-type {\n",
       "        vertical-align: middle;\n",
       "    }\n",
       "\n",
       "    .dataframe tbody tr th {\n",
       "        vertical-align: top;\n",
       "    }\n",
       "\n",
       "    .dataframe thead th {\n",
       "        text-align: right;\n",
       "    }\n",
       "</style>\n",
       "<table border=\"1\" class=\"dataframe\">\n",
       "  <thead>\n",
       "    <tr style=\"text-align: right;\">\n",
       "      <th></th>\n",
       "      <th>count</th>\n",
       "      <th>unique</th>\n",
       "      <th>top</th>\n",
       "      <th>freq</th>\n",
       "      <th>mean</th>\n",
       "      <th>std</th>\n",
       "      <th>min</th>\n",
       "      <th>25%</th>\n",
       "      <th>50%</th>\n",
       "      <th>75%</th>\n",
       "      <th>max</th>\n",
       "    </tr>\n",
       "  </thead>\n",
       "  <tbody>\n",
       "    <tr>\n",
       "      <th>channelGrouping</th>\n",
       "      <td>903653</td>\n",
       "      <td>8</td>\n",
       "      <td>Organic Search</td>\n",
       "      <td>381561</td>\n",
       "      <td>NaN</td>\n",
       "      <td>NaN</td>\n",
       "      <td>NaN</td>\n",
       "      <td>NaN</td>\n",
       "      <td>NaN</td>\n",
       "      <td>NaN</td>\n",
       "      <td>NaN</td>\n",
       "    </tr>\n",
       "    <tr>\n",
       "      <th>date</th>\n",
       "      <td>903653</td>\n",
       "      <td>NaN</td>\n",
       "      <td>NaN</td>\n",
       "      <td>NaN</td>\n",
       "      <td>2.01659e+07</td>\n",
       "      <td>4697.7</td>\n",
       "      <td>2.01608e+07</td>\n",
       "      <td>2.0161e+07</td>\n",
       "      <td>2.01701e+07</td>\n",
       "      <td>2.01704e+07</td>\n",
       "      <td>2.01708e+07</td>\n",
       "    </tr>\n",
       "    <tr>\n",
       "      <th>fullVisitorId</th>\n",
       "      <td>903653</td>\n",
       "      <td>714167</td>\n",
       "      <td>1957458976293878100</td>\n",
       "      <td>278</td>\n",
       "      <td>NaN</td>\n",
       "      <td>NaN</td>\n",
       "      <td>NaN</td>\n",
       "      <td>NaN</td>\n",
       "      <td>NaN</td>\n",
       "      <td>NaN</td>\n",
       "      <td>NaN</td>\n",
       "    </tr>\n",
       "    <tr>\n",
       "      <th>sessionId</th>\n",
       "      <td>903653</td>\n",
       "      <td>902755</td>\n",
       "      <td>1198068166576036308_1493621869</td>\n",
       "      <td>2</td>\n",
       "      <td>NaN</td>\n",
       "      <td>NaN</td>\n",
       "      <td>NaN</td>\n",
       "      <td>NaN</td>\n",
       "      <td>NaN</td>\n",
       "      <td>NaN</td>\n",
       "      <td>NaN</td>\n",
       "    </tr>\n",
       "    <tr>\n",
       "      <th>visitId</th>\n",
       "      <td>903653</td>\n",
       "      <td>NaN</td>\n",
       "      <td>NaN</td>\n",
       "      <td>NaN</td>\n",
       "      <td>1.48501e+09</td>\n",
       "      <td>9.02212e+06</td>\n",
       "      <td>1.47003e+09</td>\n",
       "      <td>1.47756e+09</td>\n",
       "      <td>1.48395e+09</td>\n",
       "      <td>1.49276e+09</td>\n",
       "      <td>1.50166e+09</td>\n",
       "    </tr>\n",
       "    <tr>\n",
       "      <th>visitNumber</th>\n",
       "      <td>903653</td>\n",
       "      <td>NaN</td>\n",
       "      <td>NaN</td>\n",
       "      <td>NaN</td>\n",
       "      <td>2.2649</td>\n",
       "      <td>9.28373</td>\n",
       "      <td>1</td>\n",
       "      <td>1</td>\n",
       "      <td>1</td>\n",
       "      <td>1</td>\n",
       "      <td>395</td>\n",
       "    </tr>\n",
       "    <tr>\n",
       "      <th>visitStartTime</th>\n",
       "      <td>903653</td>\n",
       "      <td>NaN</td>\n",
       "      <td>NaN</td>\n",
       "      <td>NaN</td>\n",
       "      <td>1.48501e+09</td>\n",
       "      <td>9.02212e+06</td>\n",
       "      <td>1.47003e+09</td>\n",
       "      <td>1.47756e+09</td>\n",
       "      <td>1.48395e+09</td>\n",
       "      <td>1.49276e+09</td>\n",
       "      <td>1.50166e+09</td>\n",
       "    </tr>\n",
       "    <tr>\n",
       "      <th>device_browser</th>\n",
       "      <td>903653</td>\n",
       "      <td>54</td>\n",
       "      <td>Chrome</td>\n",
       "      <td>620364</td>\n",
       "      <td>NaN</td>\n",
       "      <td>NaN</td>\n",
       "      <td>NaN</td>\n",
       "      <td>NaN</td>\n",
       "      <td>NaN</td>\n",
       "      <td>NaN</td>\n",
       "      <td>NaN</td>\n",
       "    </tr>\n",
       "    <tr>\n",
       "      <th>device_deviceCategory</th>\n",
       "      <td>903653</td>\n",
       "      <td>3</td>\n",
       "      <td>desktop</td>\n",
       "      <td>664479</td>\n",
       "      <td>NaN</td>\n",
       "      <td>NaN</td>\n",
       "      <td>NaN</td>\n",
       "      <td>NaN</td>\n",
       "      <td>NaN</td>\n",
       "      <td>NaN</td>\n",
       "      <td>NaN</td>\n",
       "    </tr>\n",
       "    <tr>\n",
       "      <th>device_isMobile</th>\n",
       "      <td>903653</td>\n",
       "      <td>2</td>\n",
       "      <td>False</td>\n",
       "      <td>664530</td>\n",
       "      <td>NaN</td>\n",
       "      <td>NaN</td>\n",
       "      <td>NaN</td>\n",
       "      <td>NaN</td>\n",
       "      <td>NaN</td>\n",
       "      <td>NaN</td>\n",
       "      <td>NaN</td>\n",
       "    </tr>\n",
       "    <tr>\n",
       "      <th>device_operatingSystem</th>\n",
       "      <td>903653</td>\n",
       "      <td>20</td>\n",
       "      <td>Windows</td>\n",
       "      <td>350072</td>\n",
       "      <td>NaN</td>\n",
       "      <td>NaN</td>\n",
       "      <td>NaN</td>\n",
       "      <td>NaN</td>\n",
       "      <td>NaN</td>\n",
       "      <td>NaN</td>\n",
       "      <td>NaN</td>\n",
       "    </tr>\n",
       "    <tr>\n",
       "      <th>geoNetwork_city</th>\n",
       "      <td>903653</td>\n",
       "      <td>649</td>\n",
       "      <td>not available in demo dataset</td>\n",
       "      <td>508229</td>\n",
       "      <td>NaN</td>\n",
       "      <td>NaN</td>\n",
       "      <td>NaN</td>\n",
       "      <td>NaN</td>\n",
       "      <td>NaN</td>\n",
       "      <td>NaN</td>\n",
       "      <td>NaN</td>\n",
       "    </tr>\n",
       "    <tr>\n",
       "      <th>geoNetwork_continent</th>\n",
       "      <td>903653</td>\n",
       "      <td>6</td>\n",
       "      <td>Americas</td>\n",
       "      <td>450377</td>\n",
       "      <td>NaN</td>\n",
       "      <td>NaN</td>\n",
       "      <td>NaN</td>\n",
       "      <td>NaN</td>\n",
       "      <td>NaN</td>\n",
       "      <td>NaN</td>\n",
       "      <td>NaN</td>\n",
       "    </tr>\n",
       "    <tr>\n",
       "      <th>geoNetwork_country</th>\n",
       "      <td>903653</td>\n",
       "      <td>222</td>\n",
       "      <td>United States</td>\n",
       "      <td>364744</td>\n",
       "      <td>NaN</td>\n",
       "      <td>NaN</td>\n",
       "      <td>NaN</td>\n",
       "      <td>NaN</td>\n",
       "      <td>NaN</td>\n",
       "      <td>NaN</td>\n",
       "      <td>NaN</td>\n",
       "    </tr>\n",
       "    <tr>\n",
       "      <th>geoNetwork_metro</th>\n",
       "      <td>903653</td>\n",
       "      <td>94</td>\n",
       "      <td>not available in demo dataset</td>\n",
       "      <td>508229</td>\n",
       "      <td>NaN</td>\n",
       "      <td>NaN</td>\n",
       "      <td>NaN</td>\n",
       "      <td>NaN</td>\n",
       "      <td>NaN</td>\n",
       "      <td>NaN</td>\n",
       "      <td>NaN</td>\n",
       "    </tr>\n",
       "    <tr>\n",
       "      <th>geoNetwork_networkDomain</th>\n",
       "      <td>903653</td>\n",
       "      <td>28064</td>\n",
       "      <td>(not set)</td>\n",
       "      <td>244881</td>\n",
       "      <td>NaN</td>\n",
       "      <td>NaN</td>\n",
       "      <td>NaN</td>\n",
       "      <td>NaN</td>\n",
       "      <td>NaN</td>\n",
       "      <td>NaN</td>\n",
       "      <td>NaN</td>\n",
       "    </tr>\n",
       "    <tr>\n",
       "      <th>geoNetwork_region</th>\n",
       "      <td>903653</td>\n",
       "      <td>376</td>\n",
       "      <td>not available in demo dataset</td>\n",
       "      <td>508229</td>\n",
       "      <td>NaN</td>\n",
       "      <td>NaN</td>\n",
       "      <td>NaN</td>\n",
       "      <td>NaN</td>\n",
       "      <td>NaN</td>\n",
       "      <td>NaN</td>\n",
       "      <td>NaN</td>\n",
       "    </tr>\n",
       "    <tr>\n",
       "      <th>geoNetwork_subContinent</th>\n",
       "      <td>903653</td>\n",
       "      <td>23</td>\n",
       "      <td>Northern America</td>\n",
       "      <td>390657</td>\n",
       "      <td>NaN</td>\n",
       "      <td>NaN</td>\n",
       "      <td>NaN</td>\n",
       "      <td>NaN</td>\n",
       "      <td>NaN</td>\n",
       "      <td>NaN</td>\n",
       "      <td>NaN</td>\n",
       "    </tr>\n",
       "    <tr>\n",
       "      <th>totals_bounces</th>\n",
       "      <td>450630</td>\n",
       "      <td>NaN</td>\n",
       "      <td>NaN</td>\n",
       "      <td>NaN</td>\n",
       "      <td>1</td>\n",
       "      <td>0</td>\n",
       "      <td>1</td>\n",
       "      <td>1</td>\n",
       "      <td>1</td>\n",
       "      <td>1</td>\n",
       "      <td>1</td>\n",
       "    </tr>\n",
       "    <tr>\n",
       "      <th>totals_hits</th>\n",
       "      <td>903653</td>\n",
       "      <td>NaN</td>\n",
       "      <td>NaN</td>\n",
       "      <td>NaN</td>\n",
       "      <td>4.59654</td>\n",
       "      <td>9.64144</td>\n",
       "      <td>1</td>\n",
       "      <td>1</td>\n",
       "      <td>2</td>\n",
       "      <td>4</td>\n",
       "      <td>500</td>\n",
       "    </tr>\n",
       "    <tr>\n",
       "      <th>totals_newVisits</th>\n",
       "      <td>703060</td>\n",
       "      <td>NaN</td>\n",
       "      <td>NaN</td>\n",
       "      <td>NaN</td>\n",
       "      <td>1</td>\n",
       "      <td>0</td>\n",
       "      <td>1</td>\n",
       "      <td>1</td>\n",
       "      <td>1</td>\n",
       "      <td>1</td>\n",
       "      <td>1</td>\n",
       "    </tr>\n",
       "    <tr>\n",
       "      <th>totals_pageviews</th>\n",
       "      <td>903553</td>\n",
       "      <td>NaN</td>\n",
       "      <td>NaN</td>\n",
       "      <td>NaN</td>\n",
       "      <td>3.84976</td>\n",
       "      <td>7.02527</td>\n",
       "      <td>1</td>\n",
       "      <td>1</td>\n",
       "      <td>1</td>\n",
       "      <td>4</td>\n",
       "      <td>469</td>\n",
       "    </tr>\n",
       "    <tr>\n",
       "      <th>trafficSource_adContent</th>\n",
       "      <td>10946</td>\n",
       "      <td>44</td>\n",
       "      <td>Google Merchandise Collection</td>\n",
       "      <td>5122</td>\n",
       "      <td>NaN</td>\n",
       "      <td>NaN</td>\n",
       "      <td>NaN</td>\n",
       "      <td>NaN</td>\n",
       "      <td>NaN</td>\n",
       "      <td>NaN</td>\n",
       "      <td>NaN</td>\n",
       "    </tr>\n",
       "    <tr>\n",
       "      <th>trafficSource_adwordsClickInfo.adNetworkType</th>\n",
       "      <td>21460</td>\n",
       "      <td>2</td>\n",
       "      <td>Google Search</td>\n",
       "      <td>21453</td>\n",
       "      <td>NaN</td>\n",
       "      <td>NaN</td>\n",
       "      <td>NaN</td>\n",
       "      <td>NaN</td>\n",
       "      <td>NaN</td>\n",
       "      <td>NaN</td>\n",
       "      <td>NaN</td>\n",
       "    </tr>\n",
       "    <tr>\n",
       "      <th>trafficSource_adwordsClickInfo.gclId</th>\n",
       "      <td>21561</td>\n",
       "      <td>17774</td>\n",
       "      <td>Cj0KEQjwmIrJBRCRmJ_x7KDo-9oBEiQAuUPKMufMpuG3Zd...</td>\n",
       "      <td>70</td>\n",
       "      <td>NaN</td>\n",
       "      <td>NaN</td>\n",
       "      <td>NaN</td>\n",
       "      <td>NaN</td>\n",
       "      <td>NaN</td>\n",
       "      <td>NaN</td>\n",
       "      <td>NaN</td>\n",
       "    </tr>\n",
       "    <tr>\n",
       "      <th>trafficSource_adwordsClickInfo.isVideoAd</th>\n",
       "      <td>21460</td>\n",
       "      <td>NaN</td>\n",
       "      <td>NaN</td>\n",
       "      <td>NaN</td>\n",
       "      <td>0</td>\n",
       "      <td>0</td>\n",
       "      <td>0</td>\n",
       "      <td>0</td>\n",
       "      <td>0</td>\n",
       "      <td>0</td>\n",
       "      <td>0</td>\n",
       "    </tr>\n",
       "    <tr>\n",
       "      <th>trafficSource_adwordsClickInfo.page</th>\n",
       "      <td>21460</td>\n",
       "      <td>NaN</td>\n",
       "      <td>NaN</td>\n",
       "      <td>NaN</td>\n",
       "      <td>1.00811</td>\n",
       "      <td>0.173584</td>\n",
       "      <td>1</td>\n",
       "      <td>1</td>\n",
       "      <td>1</td>\n",
       "      <td>1</td>\n",
       "      <td>14</td>\n",
       "    </tr>\n",
       "    <tr>\n",
       "      <th>trafficSource_adwordsClickInfo.slot</th>\n",
       "      <td>21460</td>\n",
       "      <td>2</td>\n",
       "      <td>Top</td>\n",
       "      <td>20956</td>\n",
       "      <td>NaN</td>\n",
       "      <td>NaN</td>\n",
       "      <td>NaN</td>\n",
       "      <td>NaN</td>\n",
       "      <td>NaN</td>\n",
       "      <td>NaN</td>\n",
       "      <td>NaN</td>\n",
       "    </tr>\n",
       "    <tr>\n",
       "      <th>trafficSource_campaign</th>\n",
       "      <td>903653</td>\n",
       "      <td>10</td>\n",
       "      <td>(not set)</td>\n",
       "      <td>865347</td>\n",
       "      <td>NaN</td>\n",
       "      <td>NaN</td>\n",
       "      <td>NaN</td>\n",
       "      <td>NaN</td>\n",
       "      <td>NaN</td>\n",
       "      <td>NaN</td>\n",
       "      <td>NaN</td>\n",
       "    </tr>\n",
       "    <tr>\n",
       "      <th>trafficSource_isTrueDirect</th>\n",
       "      <td>274005</td>\n",
       "      <td>NaN</td>\n",
       "      <td>NaN</td>\n",
       "      <td>NaN</td>\n",
       "      <td>1</td>\n",
       "      <td>0</td>\n",
       "      <td>1</td>\n",
       "      <td>1</td>\n",
       "      <td>1</td>\n",
       "      <td>1</td>\n",
       "      <td>1</td>\n",
       "    </tr>\n",
       "    <tr>\n",
       "      <th>trafficSource_keyword</th>\n",
       "      <td>400724</td>\n",
       "      <td>3659</td>\n",
       "      <td>(not provided)</td>\n",
       "      <td>366363</td>\n",
       "      <td>NaN</td>\n",
       "      <td>NaN</td>\n",
       "      <td>NaN</td>\n",
       "      <td>NaN</td>\n",
       "      <td>NaN</td>\n",
       "      <td>NaN</td>\n",
       "      <td>NaN</td>\n",
       "    </tr>\n",
       "    <tr>\n",
       "      <th>trafficSource_medium</th>\n",
       "      <td>903653</td>\n",
       "      <td>7</td>\n",
       "      <td>organic</td>\n",
       "      <td>381561</td>\n",
       "      <td>NaN</td>\n",
       "      <td>NaN</td>\n",
       "      <td>NaN</td>\n",
       "      <td>NaN</td>\n",
       "      <td>NaN</td>\n",
       "      <td>NaN</td>\n",
       "      <td>NaN</td>\n",
       "    </tr>\n",
       "    <tr>\n",
       "      <th>trafficSource_referralPath</th>\n",
       "      <td>330941</td>\n",
       "      <td>1475</td>\n",
       "      <td>/</td>\n",
       "      <td>75523</td>\n",
       "      <td>NaN</td>\n",
       "      <td>NaN</td>\n",
       "      <td>NaN</td>\n",
       "      <td>NaN</td>\n",
       "      <td>NaN</td>\n",
       "      <td>NaN</td>\n",
       "      <td>NaN</td>\n",
       "    </tr>\n",
       "    <tr>\n",
       "      <th>trafficSource_source</th>\n",
       "      <td>903653</td>\n",
       "      <td>380</td>\n",
       "      <td>google</td>\n",
       "      <td>400788</td>\n",
       "      <td>NaN</td>\n",
       "      <td>NaN</td>\n",
       "      <td>NaN</td>\n",
       "      <td>NaN</td>\n",
       "      <td>NaN</td>\n",
       "      <td>NaN</td>\n",
       "      <td>NaN</td>\n",
       "    </tr>\n",
       "    <tr>\n",
       "      <th>totals_transactionRevenue</th>\n",
       "      <td>903653</td>\n",
       "      <td>NaN</td>\n",
       "      <td>NaN</td>\n",
       "      <td>NaN</td>\n",
       "      <td>1.70427e+06</td>\n",
       "      <td>5.27787e+07</td>\n",
       "      <td>0</td>\n",
       "      <td>0</td>\n",
       "      <td>0</td>\n",
       "      <td>0</td>\n",
       "      <td>2.31295e+10</td>\n",
       "    </tr>\n",
       "  </tbody>\n",
       "</table>\n",
       "</div>"
      ],
      "text/plain": [
       "                                               count  unique  \\\n",
       "channelGrouping                               903653       8   \n",
       "date                                          903653     NaN   \n",
       "fullVisitorId                                 903653  714167   \n",
       "sessionId                                     903653  902755   \n",
       "visitId                                       903653     NaN   \n",
       "visitNumber                                   903653     NaN   \n",
       "visitStartTime                                903653     NaN   \n",
       "device_browser                                903653      54   \n",
       "device_deviceCategory                         903653       3   \n",
       "device_isMobile                               903653       2   \n",
       "device_operatingSystem                        903653      20   \n",
       "geoNetwork_city                               903653     649   \n",
       "geoNetwork_continent                          903653       6   \n",
       "geoNetwork_country                            903653     222   \n",
       "geoNetwork_metro                              903653      94   \n",
       "geoNetwork_networkDomain                      903653   28064   \n",
       "geoNetwork_region                             903653     376   \n",
       "geoNetwork_subContinent                       903653      23   \n",
       "totals_bounces                                450630     NaN   \n",
       "totals_hits                                   903653     NaN   \n",
       "totals_newVisits                              703060     NaN   \n",
       "totals_pageviews                              903553     NaN   \n",
       "trafficSource_adContent                        10946      44   \n",
       "trafficSource_adwordsClickInfo.adNetworkType   21460       2   \n",
       "trafficSource_adwordsClickInfo.gclId           21561   17774   \n",
       "trafficSource_adwordsClickInfo.isVideoAd       21460     NaN   \n",
       "trafficSource_adwordsClickInfo.page            21460     NaN   \n",
       "trafficSource_adwordsClickInfo.slot            21460       2   \n",
       "trafficSource_campaign                        903653      10   \n",
       "trafficSource_isTrueDirect                    274005     NaN   \n",
       "trafficSource_keyword                         400724    3659   \n",
       "trafficSource_medium                          903653       7   \n",
       "trafficSource_referralPath                    330941    1475   \n",
       "trafficSource_source                          903653     380   \n",
       "totals_transactionRevenue                     903653     NaN   \n",
       "\n",
       "                                                                                            top  \\\n",
       "channelGrouping                                                                  Organic Search   \n",
       "date                                                                                        NaN   \n",
       "fullVisitorId                                                               1957458976293878100   \n",
       "sessionId                                                        1198068166576036308_1493621869   \n",
       "visitId                                                                                     NaN   \n",
       "visitNumber                                                                                 NaN   \n",
       "visitStartTime                                                                              NaN   \n",
       "device_browser                                                                           Chrome   \n",
       "device_deviceCategory                                                                   desktop   \n",
       "device_isMobile                                                                           False   \n",
       "device_operatingSystem                                                                  Windows   \n",
       "geoNetwork_city                                                   not available in demo dataset   \n",
       "geoNetwork_continent                                                                   Americas   \n",
       "geoNetwork_country                                                                United States   \n",
       "geoNetwork_metro                                                  not available in demo dataset   \n",
       "geoNetwork_networkDomain                                                              (not set)   \n",
       "geoNetwork_region                                                 not available in demo dataset   \n",
       "geoNetwork_subContinent                                                        Northern America   \n",
       "totals_bounces                                                                              NaN   \n",
       "totals_hits                                                                                 NaN   \n",
       "totals_newVisits                                                                            NaN   \n",
       "totals_pageviews                                                                            NaN   \n",
       "trafficSource_adContent                                           Google Merchandise Collection   \n",
       "trafficSource_adwordsClickInfo.adNetworkType                                      Google Search   \n",
       "trafficSource_adwordsClickInfo.gclId          Cj0KEQjwmIrJBRCRmJ_x7KDo-9oBEiQAuUPKMufMpuG3Zd...   \n",
       "trafficSource_adwordsClickInfo.isVideoAd                                                    NaN   \n",
       "trafficSource_adwordsClickInfo.page                                                         NaN   \n",
       "trafficSource_adwordsClickInfo.slot                                                         Top   \n",
       "trafficSource_campaign                                                                (not set)   \n",
       "trafficSource_isTrueDirect                                                                  NaN   \n",
       "trafficSource_keyword                                                            (not provided)   \n",
       "trafficSource_medium                                                                    organic   \n",
       "trafficSource_referralPath                                                                    /   \n",
       "trafficSource_source                                                                     google   \n",
       "totals_transactionRevenue                                                                   NaN   \n",
       "\n",
       "                                                freq         mean  \\\n",
       "channelGrouping                               381561          NaN   \n",
       "date                                             NaN  2.01659e+07   \n",
       "fullVisitorId                                    278          NaN   \n",
       "sessionId                                          2          NaN   \n",
       "visitId                                          NaN  1.48501e+09   \n",
       "visitNumber                                      NaN       2.2649   \n",
       "visitStartTime                                   NaN  1.48501e+09   \n",
       "device_browser                                620364          NaN   \n",
       "device_deviceCategory                         664479          NaN   \n",
       "device_isMobile                               664530          NaN   \n",
       "device_operatingSystem                        350072          NaN   \n",
       "geoNetwork_city                               508229          NaN   \n",
       "geoNetwork_continent                          450377          NaN   \n",
       "geoNetwork_country                            364744          NaN   \n",
       "geoNetwork_metro                              508229          NaN   \n",
       "geoNetwork_networkDomain                      244881          NaN   \n",
       "geoNetwork_region                             508229          NaN   \n",
       "geoNetwork_subContinent                       390657          NaN   \n",
       "totals_bounces                                   NaN            1   \n",
       "totals_hits                                      NaN      4.59654   \n",
       "totals_newVisits                                 NaN            1   \n",
       "totals_pageviews                                 NaN      3.84976   \n",
       "trafficSource_adContent                         5122          NaN   \n",
       "trafficSource_adwordsClickInfo.adNetworkType   21453          NaN   \n",
       "trafficSource_adwordsClickInfo.gclId              70          NaN   \n",
       "trafficSource_adwordsClickInfo.isVideoAd         NaN            0   \n",
       "trafficSource_adwordsClickInfo.page              NaN      1.00811   \n",
       "trafficSource_adwordsClickInfo.slot            20956          NaN   \n",
       "trafficSource_campaign                        865347          NaN   \n",
       "trafficSource_isTrueDirect                       NaN            1   \n",
       "trafficSource_keyword                         366363          NaN   \n",
       "trafficSource_medium                          381561          NaN   \n",
       "trafficSource_referralPath                     75523          NaN   \n",
       "trafficSource_source                          400788          NaN   \n",
       "totals_transactionRevenue                        NaN  1.70427e+06   \n",
       "\n",
       "                                                      std          min  \\\n",
       "channelGrouping                                       NaN          NaN   \n",
       "date                                               4697.7  2.01608e+07   \n",
       "fullVisitorId                                         NaN          NaN   \n",
       "sessionId                                             NaN          NaN   \n",
       "visitId                                       9.02212e+06  1.47003e+09   \n",
       "visitNumber                                       9.28373            1   \n",
       "visitStartTime                                9.02212e+06  1.47003e+09   \n",
       "device_browser                                        NaN          NaN   \n",
       "device_deviceCategory                                 NaN          NaN   \n",
       "device_isMobile                                       NaN          NaN   \n",
       "device_operatingSystem                                NaN          NaN   \n",
       "geoNetwork_city                                       NaN          NaN   \n",
       "geoNetwork_continent                                  NaN          NaN   \n",
       "geoNetwork_country                                    NaN          NaN   \n",
       "geoNetwork_metro                                      NaN          NaN   \n",
       "geoNetwork_networkDomain                              NaN          NaN   \n",
       "geoNetwork_region                                     NaN          NaN   \n",
       "geoNetwork_subContinent                               NaN          NaN   \n",
       "totals_bounces                                          0            1   \n",
       "totals_hits                                       9.64144            1   \n",
       "totals_newVisits                                        0            1   \n",
       "totals_pageviews                                  7.02527            1   \n",
       "trafficSource_adContent                               NaN          NaN   \n",
       "trafficSource_adwordsClickInfo.adNetworkType          NaN          NaN   \n",
       "trafficSource_adwordsClickInfo.gclId                  NaN          NaN   \n",
       "trafficSource_adwordsClickInfo.isVideoAd                0            0   \n",
       "trafficSource_adwordsClickInfo.page              0.173584            1   \n",
       "trafficSource_adwordsClickInfo.slot                   NaN          NaN   \n",
       "trafficSource_campaign                                NaN          NaN   \n",
       "trafficSource_isTrueDirect                              0            1   \n",
       "trafficSource_keyword                                 NaN          NaN   \n",
       "trafficSource_medium                                  NaN          NaN   \n",
       "trafficSource_referralPath                            NaN          NaN   \n",
       "trafficSource_source                                  NaN          NaN   \n",
       "totals_transactionRevenue                     5.27787e+07            0   \n",
       "\n",
       "                                                      25%          50%  \\\n",
       "channelGrouping                                       NaN          NaN   \n",
       "date                                           2.0161e+07  2.01701e+07   \n",
       "fullVisitorId                                         NaN          NaN   \n",
       "sessionId                                             NaN          NaN   \n",
       "visitId                                       1.47756e+09  1.48395e+09   \n",
       "visitNumber                                             1            1   \n",
       "visitStartTime                                1.47756e+09  1.48395e+09   \n",
       "device_browser                                        NaN          NaN   \n",
       "device_deviceCategory                                 NaN          NaN   \n",
       "device_isMobile                                       NaN          NaN   \n",
       "device_operatingSystem                                NaN          NaN   \n",
       "geoNetwork_city                                       NaN          NaN   \n",
       "geoNetwork_continent                                  NaN          NaN   \n",
       "geoNetwork_country                                    NaN          NaN   \n",
       "geoNetwork_metro                                      NaN          NaN   \n",
       "geoNetwork_networkDomain                              NaN          NaN   \n",
       "geoNetwork_region                                     NaN          NaN   \n",
       "geoNetwork_subContinent                               NaN          NaN   \n",
       "totals_bounces                                          1            1   \n",
       "totals_hits                                             1            2   \n",
       "totals_newVisits                                        1            1   \n",
       "totals_pageviews                                        1            1   \n",
       "trafficSource_adContent                               NaN          NaN   \n",
       "trafficSource_adwordsClickInfo.adNetworkType          NaN          NaN   \n",
       "trafficSource_adwordsClickInfo.gclId                  NaN          NaN   \n",
       "trafficSource_adwordsClickInfo.isVideoAd                0            0   \n",
       "trafficSource_adwordsClickInfo.page                     1            1   \n",
       "trafficSource_adwordsClickInfo.slot                   NaN          NaN   \n",
       "trafficSource_campaign                                NaN          NaN   \n",
       "trafficSource_isTrueDirect                              1            1   \n",
       "trafficSource_keyword                                 NaN          NaN   \n",
       "trafficSource_medium                                  NaN          NaN   \n",
       "trafficSource_referralPath                            NaN          NaN   \n",
       "trafficSource_source                                  NaN          NaN   \n",
       "totals_transactionRevenue                               0            0   \n",
       "\n",
       "                                                      75%          max  \n",
       "channelGrouping                                       NaN          NaN  \n",
       "date                                          2.01704e+07  2.01708e+07  \n",
       "fullVisitorId                                         NaN          NaN  \n",
       "sessionId                                             NaN          NaN  \n",
       "visitId                                       1.49276e+09  1.50166e+09  \n",
       "visitNumber                                             1          395  \n",
       "visitStartTime                                1.49276e+09  1.50166e+09  \n",
       "device_browser                                        NaN          NaN  \n",
       "device_deviceCategory                                 NaN          NaN  \n",
       "device_isMobile                                       NaN          NaN  \n",
       "device_operatingSystem                                NaN          NaN  \n",
       "geoNetwork_city                                       NaN          NaN  \n",
       "geoNetwork_continent                                  NaN          NaN  \n",
       "geoNetwork_country                                    NaN          NaN  \n",
       "geoNetwork_metro                                      NaN          NaN  \n",
       "geoNetwork_networkDomain                              NaN          NaN  \n",
       "geoNetwork_region                                     NaN          NaN  \n",
       "geoNetwork_subContinent                               NaN          NaN  \n",
       "totals_bounces                                          1            1  \n",
       "totals_hits                                             4          500  \n",
       "totals_newVisits                                        1            1  \n",
       "totals_pageviews                                        4          469  \n",
       "trafficSource_adContent                               NaN          NaN  \n",
       "trafficSource_adwordsClickInfo.adNetworkType          NaN          NaN  \n",
       "trafficSource_adwordsClickInfo.gclId                  NaN          NaN  \n",
       "trafficSource_adwordsClickInfo.isVideoAd                0            0  \n",
       "trafficSource_adwordsClickInfo.page                     1           14  \n",
       "trafficSource_adwordsClickInfo.slot                   NaN          NaN  \n",
       "trafficSource_campaign                                NaN          NaN  \n",
       "trafficSource_isTrueDirect                              1            1  \n",
       "trafficSource_keyword                                 NaN          NaN  \n",
       "trafficSource_medium                                  NaN          NaN  \n",
       "trafficSource_referralPath                            NaN          NaN  \n",
       "trafficSource_source                                  NaN          NaN  \n",
       "totals_transactionRevenue                               0  2.31295e+10  "
      ]
     },
     "metadata": {},
     "output_type": "display_data"
    }
   ],
   "source": [
    "display_all(full_train.describe(include='all').T)"
   ]
  },
  {
   "cell_type": "code",
   "execution_count": 20,
   "metadata": {},
   "outputs": [],
   "source": [
    "# posix seconds to datetime\n",
    "full_train.visitStartTime = pd.to_datetime(full_train.visitStartTime, unit='s')"
   ]
  },
  {
   "cell_type": "code",
   "execution_count": 21,
   "metadata": {},
   "outputs": [],
   "source": [
    "test_df.visitStartTime = pd.to_datetime(test_df.visitStartTime, unit='s')"
   ]
  },
  {
   "cell_type": "code",
   "execution_count": 22,
   "metadata": {},
   "outputs": [],
   "source": [
    "# make time features\n",
    "add_datepart(full_train, 'visitStartTime', time=True)"
   ]
  },
  {
   "cell_type": "code",
   "execution_count": 23,
   "metadata": {},
   "outputs": [],
   "source": [
    "# make time features\n",
    "add_datepart(test_df, 'visitStartTime', time=True)"
   ]
  },
  {
   "cell_type": "code",
   "execution_count": 24,
   "metadata": {},
   "outputs": [
    {
     "data": {
      "text/plain": [
       "set()"
      ]
     },
     "execution_count": 24,
     "metadata": {},
     "output_type": "execute_result"
    }
   ],
   "source": [
    "set(full_train.drop('totals_transactionRevenue', axis=1).columns) - set(test_df.columns)"
   ]
  },
  {
   "cell_type": "code",
   "execution_count": 25,
   "metadata": {},
   "outputs": [],
   "source": [
    "full_train = full_train.sort_values(by='date', ascending=True)"
   ]
  },
  {
   "cell_type": "code",
   "execution_count": 26,
   "metadata": {},
   "outputs": [],
   "source": [
    "full_train.drop(columns=['date'], inplace=True)\n",
    "full_train.reset_index(inplace=True, drop=True)"
   ]
  },
  {
   "cell_type": "code",
   "execution_count": 27,
   "metadata": {},
   "outputs": [],
   "source": [
    "test_df.drop(columns=['date'], inplace=True)"
   ]
  },
  {
   "cell_type": "code",
   "execution_count": 28,
   "metadata": {},
   "outputs": [],
   "source": [
    "train_visitorIds = full_train.fullVisitorId\n",
    "test_visitorIds = test_df.fullVisitorId"
   ]
  },
  {
   "cell_type": "code",
   "execution_count": 29,
   "metadata": {},
   "outputs": [],
   "source": [
    "full_train.drop(columns=['fullVisitorId'], inplace=True)\n",
    "test_df.drop(columns=['fullVisitorId'], inplace=True)"
   ]
  },
  {
   "cell_type": "code",
   "execution_count": 30,
   "metadata": {},
   "outputs": [],
   "source": [
    "# make categorical data\n",
    "train_cats(full_train)"
   ]
  },
  {
   "cell_type": "code",
   "execution_count": 31,
   "metadata": {},
   "outputs": [],
   "source": [
    "apply_cats(test_df, full_train)"
   ]
  },
  {
   "cell_type": "code",
   "execution_count": 30,
   "metadata": {
    "scrolled": true
   },
   "outputs": [
    {
     "data": {
      "text/plain": [
       "channelGrouping                                 0.000000\n",
       "date                                            0.000000\n",
       "device_browser                                  0.000000\n",
       "device_deviceCategory                           0.000000\n",
       "device_isMobile                                 0.000000\n",
       "device_operatingSystem                          0.000000\n",
       "fullVisitorId                                   0.000000\n",
       "geoNetwork_city                                 0.000000\n",
       "geoNetwork_continent                            0.000000\n",
       "geoNetwork_country                              0.000000\n",
       "geoNetwork_metro                                0.000000\n",
       "geoNetwork_networkDomain                        0.000000\n",
       "geoNetwork_region                               0.000000\n",
       "geoNetwork_subContinent                         0.000000\n",
       "sessionId                                       0.000000\n",
       "totals_bounces                                  0.501324\n",
       "totals_hits                                     0.000000\n",
       "totals_newVisits                                0.221980\n",
       "totals_pageviews                                0.000111\n",
       "totals_transactionRevenue                       0.000000\n",
       "trafficSource_adContent                         0.987887\n",
       "trafficSource_adwordsClickInfo.adNetworkType    0.976252\n",
       "trafficSource_adwordsClickInfo.gclId            0.976140\n",
       "trafficSource_adwordsClickInfo.isVideoAd        0.976252\n",
       "trafficSource_adwordsClickInfo.page             0.976252\n",
       "trafficSource_adwordsClickInfo.slot             0.976252\n",
       "trafficSource_campaign                          0.000000\n",
       "trafficSource_isTrueDirect                      0.696781\n",
       "trafficSource_keyword                           0.556551\n",
       "trafficSource_medium                            0.000000\n",
       "trafficSource_referralPath                      0.633774\n",
       "trafficSource_source                            0.000000\n",
       "visitId                                         0.000000\n",
       "visitNumber                                     0.000000\n",
       "visitStartTimeDay                               0.000000\n",
       "visitStartTimeDayofweek                         0.000000\n",
       "visitStartTimeDayofyear                         0.000000\n",
       "visitStartTimeElapsed                           0.000000\n",
       "visitStartTimeHour                              0.000000\n",
       "visitStartTimeIs_month_end                      0.000000\n",
       "visitStartTimeIs_month_start                    0.000000\n",
       "visitStartTimeIs_quarter_end                    0.000000\n",
       "visitStartTimeIs_quarter_start                  0.000000\n",
       "visitStartTimeIs_year_end                       0.000000\n",
       "visitStartTimeIs_year_start                     0.000000\n",
       "visitStartTimeMinute                            0.000000\n",
       "visitStartTimeMonth                             0.000000\n",
       "visitStartTimeSecond                            0.000000\n",
       "visitStartTimeWeek                              0.000000\n",
       "visitStartTimeYear                              0.000000\n",
       "dtype: float64"
      ]
     },
     "metadata": {},
     "output_type": "display_data"
    }
   ],
   "source": [
    "display_all(full_train.isnull().sum().sort_index()/len(full_train))"
   ]
  },
  {
   "cell_type": "code",
   "execution_count": 31,
   "metadata": {
    "scrolled": true
   },
   "outputs": [
    {
     "data": {
      "text/plain": [
       "channelGrouping                                 0.000000\n",
       "date                                            0.000000\n",
       "device_browser                                  0.019764\n",
       "device_deviceCategory                           0.000000\n",
       "device_isMobile                                 0.000000\n",
       "device_operatingSystem                          0.001150\n",
       "fullVisitorId                                   0.974793\n",
       "geoNetwork_city                                 0.009569\n",
       "geoNetwork_continent                            0.000000\n",
       "geoNetwork_country                              0.000034\n",
       "geoNetwork_metro                                0.001099\n",
       "geoNetwork_networkDomain                        0.031993\n",
       "geoNetwork_region                               0.007047\n",
       "geoNetwork_subContinent                         0.000000\n",
       "sessionId                                       0.999994\n",
       "totals_bounces                                  0.476878\n",
       "totals_hits                                     0.000000\n",
       "totals_newVisits                                0.248935\n",
       "totals_pageviews                                0.000173\n",
       "trafficSource_adContent                         0.994974\n",
       "trafficSource_adwordsClickInfo.adNetworkType    0.985596\n",
       "trafficSource_adwordsClickInfo.gclId            0.999805\n",
       "trafficSource_adwordsClickInfo.isVideoAd        0.933124\n",
       "trafficSource_adwordsClickInfo.page             0.933124\n",
       "trafficSource_adwordsClickInfo.slot             0.933220\n",
       "trafficSource_campaign                          0.059222\n",
       "trafficSource_isTrueDirect                      0.676254\n",
       "trafficSource_keyword                           0.490421\n",
       "trafficSource_medium                            0.000000\n",
       "trafficSource_referralPath                      0.786297\n",
       "trafficSource_source                            0.000476\n",
       "visitId                                         0.000000\n",
       "visitNumber                                     0.000000\n",
       "visitStartTimeDay                               0.000000\n",
       "visitStartTimeDayofweek                         0.000000\n",
       "visitStartTimeDayofyear                         0.000000\n",
       "visitStartTimeElapsed                           0.000000\n",
       "visitStartTimeHour                              0.000000\n",
       "visitStartTimeIs_month_end                      0.000000\n",
       "visitStartTimeIs_month_start                    0.000000\n",
       "visitStartTimeIs_quarter_end                    0.000000\n",
       "visitStartTimeIs_quarter_start                  0.000000\n",
       "visitStartTimeIs_year_end                       0.000000\n",
       "visitStartTimeIs_year_start                     0.000000\n",
       "visitStartTimeMinute                            0.000000\n",
       "visitStartTimeMonth                             0.000000\n",
       "visitStartTimeSecond                            0.000000\n",
       "visitStartTimeWeek                              0.000000\n",
       "visitStartTimeYear                              0.000000\n",
       "dtype: float64"
      ]
     },
     "metadata": {},
     "output_type": "display_data"
    }
   ],
   "source": [
    "display_all(test_df.isnull().sum().sort_index()/len(test_df))"
   ]
  },
  {
   "cell_type": "code",
   "execution_count": 32,
   "metadata": {},
   "outputs": [
    {
     "name": "stdout",
     "output_type": "stream",
     "text": [
      "<class 'pandas.core.frame.DataFrame'>\n",
      "RangeIndex: 10000 entries, 0 to 9999\n",
      "Data columns (total 48 columns):\n",
      "channelGrouping                                 10000 non-null category\n",
      "sessionId                                       10000 non-null category\n",
      "visitId                                         10000 non-null int64\n",
      "visitNumber                                     10000 non-null int64\n",
      "device_browser                                  10000 non-null category\n",
      "device_deviceCategory                           10000 non-null category\n",
      "device_isMobile                                 10000 non-null bool\n",
      "device_operatingSystem                          10000 non-null category\n",
      "geoNetwork_city                                 10000 non-null category\n",
      "geoNetwork_continent                            10000 non-null category\n",
      "geoNetwork_country                              10000 non-null category\n",
      "geoNetwork_metro                                10000 non-null category\n",
      "geoNetwork_networkDomain                        10000 non-null category\n",
      "geoNetwork_region                               10000 non-null category\n",
      "geoNetwork_subContinent                         10000 non-null category\n",
      "totals_bounces                                  5318 non-null float64\n",
      "totals_hits                                     10000 non-null int64\n",
      "totals_newVisits                                7701 non-null float64\n",
      "totals_pageviews                                10000 non-null float64\n",
      "trafficSource_adContent                         151 non-null category\n",
      "trafficSource_adwordsClickInfo.adNetworkType    250 non-null category\n",
      "trafficSource_adwordsClickInfo.gclId            253 non-null category\n",
      "trafficSource_adwordsClickInfo.isVideoAd        250 non-null float64\n",
      "trafficSource_adwordsClickInfo.page             250 non-null float64\n",
      "trafficSource_adwordsClickInfo.slot             250 non-null category\n",
      "trafficSource_campaign                          10000 non-null category\n",
      "trafficSource_isTrueDirect                      3179 non-null float64\n",
      "trafficSource_keyword                           5004 non-null category\n",
      "trafficSource_medium                            10000 non-null category\n",
      "trafficSource_referralPath                      3041 non-null category\n",
      "trafficSource_source                            10000 non-null category\n",
      "totals_transactionRevenue                       10000 non-null float64\n",
      "visitStartTimeYear                              10000 non-null int64\n",
      "visitStartTimeMonth                             10000 non-null int64\n",
      "visitStartTimeWeek                              10000 non-null int64\n",
      "visitStartTimeDay                               10000 non-null int64\n",
      "visitStartTimeDayofweek                         10000 non-null int64\n",
      "visitStartTimeDayofyear                         10000 non-null int64\n",
      "visitStartTimeIs_month_end                      10000 non-null bool\n",
      "visitStartTimeIs_month_start                    10000 non-null bool\n",
      "visitStartTimeIs_quarter_end                    10000 non-null bool\n",
      "visitStartTimeIs_quarter_start                  10000 non-null bool\n",
      "visitStartTimeIs_year_end                       10000 non-null bool\n",
      "visitStartTimeIs_year_start                     10000 non-null bool\n",
      "visitStartTimeHour                              10000 non-null int64\n",
      "visitStartTimeMinute                            10000 non-null int64\n",
      "visitStartTimeSecond                            10000 non-null int64\n",
      "visitStartTimeElapsed                           10000 non-null int64\n",
      "dtypes: bool(7), category(21), float64(7), int64(13)\n",
      "memory usage: 2.3 MB\n"
     ]
    }
   ],
   "source": [
    "full_train.info()"
   ]
  },
  {
   "cell_type": "code",
   "execution_count": 33,
   "metadata": {},
   "outputs": [
    {
     "name": "stdout",
     "output_type": "stream",
     "text": [
      "<class 'pandas.core.frame.DataFrame'>\n",
      "RangeIndex: 10000 entries, 0 to 9999\n",
      "Data columns (total 47 columns):\n",
      "channelGrouping                                 10000 non-null category\n",
      "sessionId                                       0 non-null category\n",
      "visitId                                         10000 non-null int64\n",
      "visitNumber                                     10000 non-null int64\n",
      "device_browser                                  9841 non-null category\n",
      "device_deviceCategory                           10000 non-null category\n",
      "device_isMobile                                 10000 non-null bool\n",
      "device_operatingSystem                          9983 non-null category\n",
      "geoNetwork_city                                 9327 non-null category\n",
      "geoNetwork_continent                            10000 non-null category\n",
      "geoNetwork_country                              9977 non-null category\n",
      "geoNetwork_metro                                9765 non-null category\n",
      "geoNetwork_networkDomain                        8482 non-null category\n",
      "geoNetwork_region                               9255 non-null category\n",
      "geoNetwork_subContinent                         9999 non-null category\n",
      "totals_bounces                                  5025 non-null float64\n",
      "totals_hits                                     10000 non-null int64\n",
      "totals_newVisits                                7301 non-null float64\n",
      "totals_pageviews                                9999 non-null float64\n",
      "trafficSource_adContent                         16 non-null category\n",
      "trafficSource_adwordsClickInfo.adNetworkType    125 non-null category\n",
      "trafficSource_adwordsClickInfo.gclId            0 non-null category\n",
      "trafficSource_adwordsClickInfo.isVideoAd        515 non-null float64\n",
      "trafficSource_adwordsClickInfo.page             515 non-null float64\n",
      "trafficSource_adwordsClickInfo.slot             515 non-null category\n",
      "trafficSource_campaign                          9545 non-null category\n",
      "trafficSource_isTrueDirect                      3320 non-null float64\n",
      "trafficSource_keyword                           5327 non-null category\n",
      "trafficSource_medium                            10000 non-null category\n",
      "trafficSource_referralPath                      1819 non-null category\n",
      "trafficSource_source                            9970 non-null category\n",
      "visitStartTimeYear                              10000 non-null int64\n",
      "visitStartTimeMonth                             10000 non-null int64\n",
      "visitStartTimeWeek                              10000 non-null int64\n",
      "visitStartTimeDay                               10000 non-null int64\n",
      "visitStartTimeDayofweek                         10000 non-null int64\n",
      "visitStartTimeDayofyear                         10000 non-null int64\n",
      "visitStartTimeIs_month_end                      10000 non-null bool\n",
      "visitStartTimeIs_month_start                    10000 non-null bool\n",
      "visitStartTimeIs_quarter_end                    10000 non-null bool\n",
      "visitStartTimeIs_quarter_start                  10000 non-null bool\n",
      "visitStartTimeIs_year_end                       10000 non-null bool\n",
      "visitStartTimeIs_year_start                     10000 non-null bool\n",
      "visitStartTimeHour                              10000 non-null int64\n",
      "visitStartTimeMinute                            10000 non-null int64\n",
      "visitStartTimeSecond                            10000 non-null int64\n",
      "visitStartTimeElapsed                           10000 non-null int64\n",
      "dtypes: bool(7), category(21), float64(6), int64(13)\n",
      "memory usage: 2.3 MB\n"
     ]
    }
   ],
   "source": [
    "test_df.info()"
   ]
  },
  {
   "cell_type": "code",
   "execution_count": 34,
   "metadata": {},
   "outputs": [],
   "source": [
    "full_train['fullVisitorId'] = train_visitorIds\n",
    "test_df['fullVisitorId'] = test_visitorIds"
   ]
  },
  {
   "cell_type": "code",
   "execution_count": 35,
   "metadata": {},
   "outputs": [
    {
     "name": "stdout",
     "output_type": "stream",
     "text": [
      "CPU times: user 414 ms, sys: 184 ms, total: 598 ms\n",
      "Wall time: 1.19 s\n"
     ]
    }
   ],
   "source": [
    "%%time\n",
    "os.makedirs('../data/tmp', exist_ok=True)\n",
    "full_train.to_feather('../data/tmp/raw_train')"
   ]
  },
  {
   "cell_type": "code",
   "execution_count": 36,
   "metadata": {},
   "outputs": [
    {
     "name": "stdout",
     "output_type": "stream",
     "text": [
      "CPU times: user 288 ms, sys: 175 ms, total: 463 ms\n",
      "Wall time: 1.78 s\n"
     ]
    }
   ],
   "source": [
    "%%time\n",
    "os.makedirs('../data/tmp', exist_ok=True)\n",
    "test_df.to_feather('../data/tmp/raw_test')"
   ]
  },
  {
   "cell_type": "markdown",
   "metadata": {},
   "source": [
    "#### Preprocess"
   ]
  },
  {
   "cell_type": "code",
   "execution_count": 40,
   "metadata": {},
   "outputs": [
    {
     "name": "stderr",
     "output_type": "stream",
     "text": [
      "/home/ademyanchuk/.virtualenvs/kaggle_env/lib/python3.6/site-packages/pandas/io/feather_format.py:112: FutureWarning: `nthreads` argument is deprecated, pass `use_threads` instead\n",
      "  return feather.read_dataframe(path, nthreads=nthreads)\n"
     ]
    }
   ],
   "source": [
    "full_train = pd.read_feather('../data/tmp/raw_train')"
   ]
  },
  {
   "cell_type": "code",
   "execution_count": 69,
   "metadata": {},
   "outputs": [],
   "source": [
    "skip_columns = ['sessionId', 'visitId', 'visitNumber', 'device_deviceCategory', 'device_isMobile',\n",
    "                'device_operatingSystem', 'geoNetwork_metro', 'geoNetwork_networkDomain',\n",
    "                'geoNetwork_region', 'geoNetwork_subContinent', 'totals_bounces',\n",
    "                'totals_hits', 'totals_newVisits', 'totals_pageviews',\n",
    "                'trafficSource_adContent',\n",
    "                'trafficSource_adwordsClickInfo.adNetworkType',\n",
    "                'trafficSource_adwordsClickInfo.gclId',\n",
    "                'trafficSource_adwordsClickInfo.isVideoAd',\n",
    "                'trafficSource_adwordsClickInfo.page',\n",
    "                'trafficSource_adwordsClickInfo.slot', 'trafficSource_campaign',\n",
    "                'trafficSource_isTrueDirect', 'trafficSource_keyword',\n",
    "                'trafficSource_medium', 'trafficSource_referralPath',\n",
    "                'visitStartTimeMinute', 'visitStartTimeSecond',\n",
    "                'fullVisitorId']"
   ]
  },
  {
   "cell_type": "code",
   "execution_count": 71,
   "metadata": {},
   "outputs": [],
   "source": [
    "df, y, nas = proc_df(full_train, 'totals_transactionRevenue', skip_flds=skip_columns)"
   ]
  },
  {
   "cell_type": "code",
   "execution_count": 74,
   "metadata": {},
   "outputs": [],
   "source": [
    "skip_columns = ['sessionId', 'visitId', 'visitNumber', 'device_deviceCategory', 'device_isMobile',\n",
    "                'device_operatingSystem', 'geoNetwork_metro', 'geoNetwork_networkDomain',\n",
    "                'geoNetwork_region', 'geoNetwork_subContinent', 'totals_bounces',\n",
    "                'totals_hits', 'totals_newVisits', 'totals_pageviews',\n",
    "                'trafficSource_adContent',\n",
    "                'trafficSource_adwordsClickInfo.adNetworkType',\n",
    "                'trafficSource_adwordsClickInfo.gclId',\n",
    "                'trafficSource_adwordsClickInfo.isVideoAd',\n",
    "                'trafficSource_adwordsClickInfo.page',\n",
    "                'trafficSource_adwordsClickInfo.slot', 'trafficSource_campaign',\n",
    "                'trafficSource_isTrueDirect', 'trafficSource_keyword',\n",
    "                'trafficSource_medium', 'trafficSource_referralPath',\n",
    "                'visitStartTimeMinute', 'visitStartTimeSecond',\n",
    "                'fullVisitorId']"
   ]
  },
  {
   "cell_type": "code",
   "execution_count": 75,
   "metadata": {},
   "outputs": [],
   "source": [
    "test, _, _ = proc_df(test_df, skip_flds=skip_columns, na_dict=nas)"
   ]
  },
  {
   "cell_type": "code",
   "execution_count": 76,
   "metadata": {},
   "outputs": [
    {
     "data": {
      "text/plain": [
       "True"
      ]
     },
     "execution_count": 76,
     "metadata": {},
     "output_type": "execute_result"
    }
   ],
   "source": [
    "all(df.columns == test.columns)"
   ]
  },
  {
   "cell_type": "code",
   "execution_count": 77,
   "metadata": {},
   "outputs": [],
   "source": [
    "y = np.log1p(y)"
   ]
  },
  {
   "cell_type": "code",
   "execution_count": 78,
   "metadata": {},
   "outputs": [
    {
     "data": {
      "text/plain": [
       "0.7352450717291183"
      ]
     },
     "execution_count": 78,
     "metadata": {},
     "output_type": "execute_result"
    }
   ],
   "source": [
    "m = RandomForestRegressor(n_jobs=-1)\n",
    "m.fit(df, y)\n",
    "m.score(df,y)"
   ]
  },
  {
   "cell_type": "markdown",
   "metadata": {},
   "source": [
    "#### Train valid split"
   ]
  },
  {
   "cell_type": "code",
   "execution_count": 79,
   "metadata": {},
   "outputs": [
    {
     "data": {
      "text/plain": [
       "((9000, 20), (9000,), (1000, 20))"
      ]
     },
     "execution_count": 79,
     "metadata": {},
     "output_type": "execute_result"
    }
   ],
   "source": [
    "def split_vals(a,n):\n",
    "    return a[:n].copy(), a[n:].copy()\n",
    "\n",
    "n_valid = 1000\n",
    "n_trn = len(df)-n_valid\n",
    "raw_train, raw_valid = split_vals(full_train, n_trn)\n",
    "X_train, X_valid = split_vals(df, n_trn)\n",
    "y_train, y_valid = split_vals(y, n_trn)\n",
    "\n",
    "X_train.shape, y_train.shape, X_valid.shape"
   ]
  },
  {
   "cell_type": "markdown",
   "metadata": {},
   "source": [
    "#### Base Model "
   ]
  },
  {
   "cell_type": "code",
   "execution_count": 80,
   "metadata": {},
   "outputs": [],
   "source": [
    "def rmse(x, y):\n",
    "    return math.sqrt(((x-y)**2).mean())\n",
    "\n",
    "\n",
    "def print_score(m):\n",
    "    res = [rmse(m.predict(X_train), y_train), rmse(m.predict(X_valid), y_valid),\n",
    "           m.score(X_train, y_train), m.score(X_valid, y_valid)]\n",
    "    if hasattr(m, 'oob_score_'):\n",
    "        res.append(m.oob_score_)\n",
    "    print(res)"
   ]
  },
  {
   "cell_type": "code",
   "execution_count": 81,
   "metadata": {},
   "outputs": [
    {
     "name": "stdout",
     "output_type": "stream",
     "text": [
      "CPU times: user 66.7 ms, sys: 2.03 ms, total: 68.8 ms\n",
      "Wall time: 120 ms\n"
     ]
    },
    {
     "data": {
      "text/plain": [
       "RandomForestRegressor(bootstrap=True, criterion='mse', max_depth=None,\n",
       "           max_features='auto', max_leaf_nodes=None,\n",
       "           min_impurity_decrease=0.0, min_impurity_split=None,\n",
       "           min_samples_leaf=1, min_samples_split=2,\n",
       "           min_weight_fraction_leaf=0.0, n_estimators=10, n_jobs=-1,\n",
       "           oob_score=False, random_state=None, verbose=0, warm_start=False)"
      ]
     },
     "execution_count": 81,
     "metadata": {},
     "output_type": "execute_result"
    }
   ],
   "source": [
    "m_val = RandomForestRegressor(n_jobs=-1)\n",
    "%time m_val.fit(X_train, y_train)"
   ]
  },
  {
   "cell_type": "code",
   "execution_count": 82,
   "metadata": {},
   "outputs": [
    {
     "name": "stdout",
     "output_type": "stream",
     "text": [
      "[0.7930676096480118, 2.832662076265478, 0.7267493048479146, -0.027404290486198857]\n"
     ]
    }
   ],
   "source": [
    "print_score(m_val)"
   ]
  },
  {
   "cell_type": "code",
   "execution_count": 52,
   "metadata": {},
   "outputs": [],
   "source": [
    "val_preds = m_val.predict(X_valid)"
   ]
  },
  {
   "cell_type": "code",
   "execution_count": 56,
   "metadata": {},
   "outputs": [],
   "source": [
    "val_preds = np.exp(val_preds) - 1"
   ]
  },
  {
   "cell_type": "code",
   "execution_count": 57,
   "metadata": {},
   "outputs": [],
   "source": [
    "grouped = raw_valid[['fullVisitorId', 'totals_transactionRevenue']]"
   ]
  },
  {
   "cell_type": "code",
   "execution_count": 58,
   "metadata": {},
   "outputs": [
    {
     "name": "stderr",
     "output_type": "stream",
     "text": [
      "/Users/alexeydemyanchuk/.virtualenvs/kaggle_env/lib/python3.6/site-packages/ipykernel_launcher.py:1: SettingWithCopyWarning: \n",
      "A value is trying to be set on a copy of a slice from a DataFrame.\n",
      "Try using .loc[row_indexer,col_indexer] = value instead\n",
      "\n",
      "See the caveats in the documentation: http://pandas.pydata.org/pandas-docs/stable/indexing.html#indexing-view-versus-copy\n",
      "  \"\"\"Entry point for launching an IPython kernel.\n"
     ]
    }
   ],
   "source": [
    "grouped['pred_revenue'] = val_preds"
   ]
  },
  {
   "cell_type": "code",
   "execution_count": 59,
   "metadata": {},
   "outputs": [],
   "source": [
    "grouped = grouped.groupby('fullVisitorId', as_index=False).sum()"
   ]
  },
  {
   "cell_type": "code",
   "execution_count": 60,
   "metadata": {},
   "outputs": [],
   "source": [
    "grouped['pred_revenue'] = np.log1p(grouped['pred_revenue'])\n",
    "grouped['totals_transactionRevenue'] = np.log1p(grouped['totals_transactionRevenue'])"
   ]
  },
  {
   "cell_type": "code",
   "execution_count": 61,
   "metadata": {},
   "outputs": [
    {
     "data": {
      "text/plain": [
       "2.582040202690091"
      ]
     },
     "execution_count": 61,
     "metadata": {},
     "output_type": "execute_result"
    }
   ],
   "source": [
    "rmse(grouped.totals_transactionRevenue, grouped.pred_revenue)"
   ]
  },
  {
   "cell_type": "markdown",
   "metadata": {},
   "source": [
    "####  Test flow"
   ]
  },
  {
   "cell_type": "code",
   "execution_count": 43,
   "metadata": {},
   "outputs": [],
   "source": [
    "test_preds = m.predict(test)"
   ]
  },
  {
   "cell_type": "code",
   "execution_count": 44,
   "metadata": {},
   "outputs": [],
   "source": [
    "test_grouped = pd.DataFrame()\n",
    "test_grouped['fullVisitorId'] = test_visitorIds\n",
    "test_grouped['pred_revenue'] = test_preds"
   ]
  },
  {
   "cell_type": "code",
   "execution_count": 47,
   "metadata": {},
   "outputs": [],
   "source": [
    "test_grouped = test_grouped.groupby('fullVisitorId', as_index=False).sum()\n",
    "test_grouped['pred_revenue'] = np.log1p(test_grouped['pred_revenue'])"
   ]
  },
  {
   "cell_type": "code",
   "execution_count": 49,
   "metadata": {},
   "outputs": [],
   "source": [
    "submit = pd.read_csv('../data/sample_submission.csv')"
   ]
  },
  {
   "cell_type": "code",
   "execution_count": 52,
   "metadata": {},
   "outputs": [
    {
     "data": {
      "text/plain": [
       "True"
      ]
     },
     "execution_count": 52,
     "metadata": {},
     "output_type": "execute_result"
    }
   ],
   "source": [
    "test_grouped.fullVisitorId.tolist() == submit.fullVisitorId.tolist()"
   ]
  },
  {
   "cell_type": "code",
   "execution_count": 53,
   "metadata": {},
   "outputs": [],
   "source": [
    "submit['fullVisitorId'] = test_grouped['fullVisitorId']"
   ]
  },
  {
   "cell_type": "code",
   "execution_count": 54,
   "metadata": {},
   "outputs": [],
   "source": [
    "submit['PredictedLogRevenue'] = test_grouped['pred_revenue']"
   ]
  },
  {
   "cell_type": "code",
   "execution_count": 57,
   "metadata": {},
   "outputs": [],
   "source": [
    "os.makedirs('../submissions', exist_ok=True)"
   ]
  },
  {
   "cell_type": "code",
   "execution_count": 58,
   "metadata": {},
   "outputs": [],
   "source": [
    "submit.to_csv('../submissions/rf_baseline.csv', header=True, index=False)"
   ]
  },
  {
   "cell_type": "code",
   "execution_count": null,
   "metadata": {},
   "outputs": [],
   "source": []
  }
 ],
 "metadata": {
  "kernelspec": {
   "display_name": "Python 3",
   "language": "python",
   "name": "python3"
  },
  "language_info": {
   "codemirror_mode": {
    "name": "ipython",
    "version": 3
   },
   "file_extension": ".py",
   "mimetype": "text/x-python",
   "name": "python",
   "nbconvert_exporter": "python",
   "pygments_lexer": "ipython3",
   "version": "3.6.5"
  },
  "toc": {
   "base_numbering": 1,
   "nav_menu": {},
   "number_sections": true,
   "sideBar": true,
   "skip_h1_title": false,
   "title_cell": "Table of Contents",
   "title_sidebar": "Contents",
   "toc_cell": false,
   "toc_position": {},
   "toc_section_display": true,
   "toc_window_display": true
  }
 },
 "nbformat": 4,
 "nbformat_minor": 2
}
