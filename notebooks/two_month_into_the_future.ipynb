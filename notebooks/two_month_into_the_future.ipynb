{
 "cells": [
  {
   "cell_type": "markdown",
   "metadata": {},
   "source": [
    "#### Imports"
   ]
  },
  {
   "cell_type": "code",
   "execution_count": 1,
   "metadata": {},
   "outputs": [],
   "source": [
    "%load_ext autoreload\n",
    "%autoreload 2\n",
    "\n",
    "%matplotlib inline"
   ]
  },
  {
   "cell_type": "code",
   "execution_count": 10,
   "metadata": {},
   "outputs": [],
   "source": [
    "import os\n",
    "import math\n",
    "import pandas as pd\n",
    "import numpy as np\n",
    "import feather\n",
    "\n",
    "from IPython.display import display"
   ]
  },
  {
   "cell_type": "code",
   "execution_count": 5,
   "metadata": {},
   "outputs": [],
   "source": [
    "import sys\n",
    "sys.path.append('../src')"
   ]
  },
  {
   "cell_type": "code",
   "execution_count": 6,
   "metadata": {},
   "outputs": [],
   "source": [
    "from fastai.structured import add_datepart, train_cats, proc_df, apply_cats, set_rf_samples\n",
    "from workflow.log_utils import get_logger"
   ]
  },
  {
   "cell_type": "markdown",
   "metadata": {},
   "source": [
    "#### Functions and Constants"
   ]
  },
  {
   "cell_type": "code",
   "execution_count": 7,
   "metadata": {},
   "outputs": [],
   "source": [
    "def display_all(df):\n",
    "    with pd.option_context(\"display.max_rows\", 1000, \"display.max_columns\", 1000): \n",
    "        display(df)"
   ]
  },
  {
   "cell_type": "code",
   "execution_count": 8,
   "metadata": {},
   "outputs": [],
   "source": [
    "def check_columns_and_types_same_in(a,b):\n",
    "    same_names = all(a.columns == b.columns)\n",
    "    same_types = [a[col].dtype == b[col].dtype for col in a.columns]\n",
    "    return same_names, all(same_types)"
   ]
  },
  {
   "cell_type": "code",
   "execution_count": 9,
   "metadata": {},
   "outputs": [],
   "source": [
    "LN_SPLITTER ='\\n====\\n'\n",
    "LOGGER = get_logger('log')"
   ]
  },
  {
   "cell_type": "markdown",
   "metadata": {},
   "source": [
    "#### Load data"
   ]
  },
  {
   "cell_type": "code",
   "execution_count": 14,
   "metadata": {},
   "outputs": [
    {
     "name": "stdout",
     "output_type": "stream",
     "text": [
      "CPU times: user 156 ms, sys: 75.9 ms, total: 232 ms\n",
      "Wall time: 231 ms\n"
     ]
    }
   ],
   "source": [
    "%%time\n",
    "df_all = feather.read_dataframe('../data/tmp/raw_train')"
   ]
  },
  {
   "cell_type": "code",
   "execution_count": 15,
   "metadata": {
    "scrolled": true
   },
   "outputs": [
    {
     "name": "stdout",
     "output_type": "stream",
     "text": [
      "<class 'pandas.core.frame.DataFrame'>\n",
      "RangeIndex: 903653 entries, 0 to 903652\n",
      "Data columns (total 48 columns):\n",
      "channelGrouping                                 903653 non-null category\n",
      "visitNumber                                     903653 non-null int64\n",
      "visitStartTime                                  903653 non-null datetime64[ns]\n",
      "device_browser                                  903653 non-null category\n",
      "device_deviceCategory                           903653 non-null category\n",
      "device_isMobile                                 903653 non-null bool\n",
      "device_operatingSystem                          903653 non-null category\n",
      "geoNetwork_city                                 903653 non-null category\n",
      "geoNetwork_continent                            903653 non-null category\n",
      "geoNetwork_country                              903653 non-null category\n",
      "geoNetwork_metro                                903653 non-null category\n",
      "geoNetwork_networkDomain                        903653 non-null category\n",
      "geoNetwork_region                               903653 non-null category\n",
      "geoNetwork_subContinent                         903653 non-null category\n",
      "totals_bounces                                  450630 non-null float64\n",
      "totals_hits                                     903653 non-null int64\n",
      "totals_newVisits                                703060 non-null float64\n",
      "totals_pageviews                                903553 non-null float64\n",
      "trafficSource_adContent                         10946 non-null category\n",
      "trafficSource_adwordsClickInfo.adNetworkType    21460 non-null category\n",
      "trafficSource_adwordsClickInfo.gclId            21561 non-null category\n",
      "trafficSource_adwordsClickInfo.isVideoAd        21460 non-null float64\n",
      "trafficSource_adwordsClickInfo.page             21460 non-null float64\n",
      "trafficSource_adwordsClickInfo.slot             21460 non-null category\n",
      "trafficSource_campaign                          903653 non-null category\n",
      "trafficSource_isTrueDirect                      274005 non-null float64\n",
      "trafficSource_keyword                           400724 non-null category\n",
      "trafficSource_medium                            903653 non-null category\n",
      "trafficSource_referralPath                      330941 non-null category\n",
      "trafficSource_source                            903653 non-null category\n",
      "totals_transactionRevenue                       903653 non-null float64\n",
      "visitStartTimeYear                              903653 non-null int64\n",
      "visitStartTimeMonth                             903653 non-null int64\n",
      "visitStartTimeWeek                              903653 non-null int64\n",
      "visitStartTimeDay                               903653 non-null int64\n",
      "visitStartTimeDayofweek                         903653 non-null int64\n",
      "visitStartTimeDayofyear                         903653 non-null int64\n",
      "visitStartTimeIs_month_end                      903653 non-null bool\n",
      "visitStartTimeIs_month_start                    903653 non-null bool\n",
      "visitStartTimeIs_quarter_end                    903653 non-null bool\n",
      "visitStartTimeIs_quarter_start                  903653 non-null bool\n",
      "visitStartTimeIs_year_end                       903653 non-null bool\n",
      "visitStartTimeIs_year_start                     903653 non-null bool\n",
      "visitStartTimeHour                              903653 non-null int64\n",
      "visitStartTimeMinute                            903653 non-null int64\n",
      "visitStartTimeSecond                            903653 non-null int64\n",
      "visitStartTimeElapsed                           903653 non-null int64\n",
      "fullVisitorId                                   903653 non-null object\n",
      "dtypes: bool(7), category(20), datetime64[ns](1), float64(7), int64(12), object(1)\n",
      "memory usage: 177.5+ MB\n"
     ]
    }
   ],
   "source": [
    "df_all.info()"
   ]
  },
  {
   "cell_type": "markdown",
   "metadata": {},
   "source": [
    "#### Workflow"
   ]
  },
  {
   "cell_type": "markdown",
   "metadata": {},
   "source": [
    "##### Validation 2 months"
   ]
  },
  {
   "cell_type": "code",
   "execution_count": 22,
   "metadata": {},
   "outputs": [],
   "source": [
    "valid_start_ts = df_all.visitStartTime.max() - pd.DateOffset(months=2)"
   ]
  },
  {
   "cell_type": "code",
   "execution_count": 25,
   "metadata": {},
   "outputs": [],
   "source": [
    "df_valid = df_all[df_all.visitStartTime >= valid_start_ts].copy()"
   ]
  },
  {
   "cell_type": "code",
   "execution_count": 27,
   "metadata": {},
   "outputs": [
    {
     "data": {
      "text/plain": [
       "Index(['channelGrouping', 'visitNumber', 'visitStartTime', 'device_browser',\n",
       "       'device_deviceCategory', 'device_isMobile', 'device_operatingSystem',\n",
       "       'geoNetwork_city', 'geoNetwork_continent', 'geoNetwork_country',\n",
       "       'geoNetwork_metro', 'geoNetwork_networkDomain', 'geoNetwork_region',\n",
       "       'geoNetwork_subContinent', 'totals_bounces', 'totals_hits',\n",
       "       'totals_newVisits', 'totals_pageviews', 'trafficSource_adContent',\n",
       "       'trafficSource_adwordsClickInfo.adNetworkType',\n",
       "       'trafficSource_adwordsClickInfo.gclId',\n",
       "       'trafficSource_adwordsClickInfo.isVideoAd',\n",
       "       'trafficSource_adwordsClickInfo.page',\n",
       "       'trafficSource_adwordsClickInfo.slot', 'trafficSource_campaign',\n",
       "       'trafficSource_isTrueDirect', 'trafficSource_keyword',\n",
       "       'trafficSource_medium', 'trafficSource_referralPath',\n",
       "       'trafficSource_source', 'totals_transactionRevenue',\n",
       "       'visitStartTimeYear', 'visitStartTimeMonth', 'visitStartTimeWeek',\n",
       "       'visitStartTimeDay', 'visitStartTimeDayofweek',\n",
       "       'visitStartTimeDayofyear', 'visitStartTimeIs_month_end',\n",
       "       'visitStartTimeIs_month_start', 'visitStartTimeIs_quarter_end',\n",
       "       'visitStartTimeIs_quarter_start', 'visitStartTimeIs_year_end',\n",
       "       'visitStartTimeIs_year_start', 'visitStartTimeHour',\n",
       "       'visitStartTimeMinute', 'visitStartTimeSecond', 'visitStartTimeElapsed',\n",
       "       'fullVisitorId'],\n",
       "      dtype='object')"
      ]
     },
     "execution_count": 27,
     "metadata": {},
     "output_type": "execute_result"
    }
   ],
   "source": [
    "df_valid.columns"
   ]
  },
  {
   "cell_type": "code",
   "execution_count": 33,
   "metadata": {},
   "outputs": [],
   "source": [
    "valid_ids_targets = df_valid.groupby('fullVisitorId', as_index=False)\\\n",
    "                                    .agg({'totals_transactionRevenue':sum})"
   ]
  },
  {
   "cell_type": "code",
   "execution_count": 35,
   "metadata": {},
   "outputs": [],
   "source": [
    "valid_ids_targets['log_transactionRevenue'] = np.log1p(valid_ids_targets.totals_transactionRevenue)"
   ]
  },
  {
   "cell_type": "code",
   "execution_count": 58,
   "metadata": {},
   "outputs": [
    {
     "name": "stdout",
     "output_type": "stream",
     "text": [
      "<class 'pandas.core.frame.DataFrame'>\n",
      "Int64Index: 108033 entries, 0 to 108032\n",
      "Data columns (total 3 columns):\n",
      "fullVisitorId                108033 non-null object\n",
      "totals_transactionRevenue    108033 non-null float64\n",
      "log_transactionRevenue       108033 non-null float64\n",
      "dtypes: float64(2), object(1)\n",
      "memory usage: 3.3+ MB\n"
     ]
    }
   ],
   "source": [
    "valid_ids_targets.info()"
   ]
  },
  {
   "cell_type": "code",
   "execution_count": 39,
   "metadata": {
    "scrolled": true
   },
   "outputs": [
    {
     "data": {
      "text/plain": [
       "0.2957701490144469"
      ]
     },
     "execution_count": 39,
     "metadata": {},
     "output_type": "execute_result"
    }
   ],
   "source": [
    "valid_ids_targets.log_transactionRevenue.mean()"
   ]
  },
  {
   "cell_type": "markdown",
   "metadata": {},
   "source": [
    "##### Intermidiate 3 months "
   ]
  },
  {
   "cell_type": "code",
   "execution_count": 79,
   "metadata": {},
   "outputs": [],
   "source": [
    "intrmid_start_ts = valid_start_ts - pd.DateOffset(months=3)"
   ]
  },
  {
   "cell_type": "code",
   "execution_count": 80,
   "metadata": {},
   "outputs": [],
   "source": [
    "ids_to_predict = df_all.loc[(df_all.visitStartTime < valid_start_ts) &\\\n",
    "                            (df_all.visitStartTime >= intrmid_start_ts), 'fullVisitorId'].unique()"
   ]
  },
  {
   "cell_type": "code",
   "execution_count": 81,
   "metadata": {},
   "outputs": [
    {
     "data": {
      "text/plain": [
       "161057"
      ]
     },
     "execution_count": 81,
     "metadata": {},
     "output_type": "execute_result"
    }
   ],
   "source": [
    "len(pd.Series(ids_to_predict, name='fullVisitorId'))"
   ]
  },
  {
   "cell_type": "code",
   "execution_count": 82,
   "metadata": {},
   "outputs": [
    {
     "data": {
      "text/plain": [
       "3856"
      ]
     },
     "execution_count": 82,
     "metadata": {},
     "output_type": "execute_result"
    }
   ],
   "source": [
    "len(set(valid_ids_targets.fullVisitorId).intersection(ids_to_predict))"
   ]
  },
  {
   "cell_type": "code",
   "execution_count": 101,
   "metadata": {},
   "outputs": [
    {
     "data": {
      "text/plain": [
       "0.023941834257436807"
      ]
     },
     "execution_count": 101,
     "metadata": {},
     "output_type": "execute_result"
    }
   ],
   "source": [
    "3856 / 161057"
   ]
  },
  {
   "cell_type": "markdown",
   "metadata": {},
   "source": [
    "##### Validation Christmas Period"
   ]
  },
  {
   "cell_type": "code",
   "execution_count": 84,
   "metadata": {
    "scrolled": true
   },
   "outputs": [
    {
     "data": {
      "text/plain": [
       "(Timestamp('2016-08-01 07:00:12'), Timestamp('2017-08-02 06:59:53'))"
      ]
     },
     "execution_count": 84,
     "metadata": {},
     "output_type": "execute_result"
    }
   ],
   "source": [
    "df_all.visitStartTime.min(), df_all.visitStartTime.max()"
   ]
  },
  {
   "cell_type": "code",
   "execution_count": 85,
   "metadata": {},
   "outputs": [],
   "source": [
    "xmas_start_ts = '2016-12-01'\n",
    "xmas_ens_ts = '2017-01-31'"
   ]
  },
  {
   "cell_type": "code",
   "execution_count": 88,
   "metadata": {},
   "outputs": [],
   "source": [
    "xmas_df = df_all[(df_all.visitStartTime >= xmas_start_ts) & (df_all.visitStartTime < xmas_ens_ts)].copy()"
   ]
  },
  {
   "cell_type": "code",
   "execution_count": 89,
   "metadata": {},
   "outputs": [],
   "source": [
    "xmas_ids_targets = xmas_df.groupby('fullVisitorId', as_index=False)\\\n",
    "                                    .agg({'totals_transactionRevenue':sum})"
   ]
  },
  {
   "cell_type": "code",
   "execution_count": 91,
   "metadata": {},
   "outputs": [],
   "source": [
    "xmas_ids_targets['log_transactionRevenue'] = np.log1p(xmas_ids_targets.totals_transactionRevenue)"
   ]
  },
  {
   "cell_type": "code",
   "execution_count": 92,
   "metadata": {
    "scrolled": true
   },
   "outputs": [
    {
     "data": {
      "text/plain": [
       "0.2997448918926952"
      ]
     },
     "execution_count": 92,
     "metadata": {},
     "output_type": "execute_result"
    }
   ],
   "source": [
    "xmas_ids_targets.log_transactionRevenue.mean()"
   ]
  },
  {
   "cell_type": "markdown",
   "metadata": {},
   "source": [
    "##### Previous 3 months "
   ]
  },
  {
   "cell_type": "code",
   "execution_count": 108,
   "metadata": {},
   "outputs": [],
   "source": [
    "prev_start_ts = '2016-09-01'"
   ]
  },
  {
   "cell_type": "code",
   "execution_count": 109,
   "metadata": {},
   "outputs": [],
   "source": [
    "ids_to_predict = df_all.loc[(df_all.visitStartTime < xmas_start_ts) &\\\n",
    "                            (df_all.visitStartTime >= prev_start_ts), 'fullVisitorId'].unique()"
   ]
  },
  {
   "cell_type": "code",
   "execution_count": 110,
   "metadata": {},
   "outputs": [
    {
     "data": {
      "text/plain": [
       "236667"
      ]
     },
     "execution_count": 110,
     "metadata": {},
     "output_type": "execute_result"
    }
   ],
   "source": [
    "len(pd.Series(ids_to_predict, name='fullVisitorId'))"
   ]
  },
  {
   "cell_type": "code",
   "execution_count": 111,
   "metadata": {},
   "outputs": [
    {
     "data": {
      "text/plain": [
       "5136"
      ]
     },
     "execution_count": 111,
     "metadata": {},
     "output_type": "execute_result"
    }
   ],
   "source": [
    "len(set(xmas_ids_targets.fullVisitorId).intersection(ids_to_predict))"
   ]
  },
  {
   "cell_type": "code",
   "execution_count": 112,
   "metadata": {},
   "outputs": [
    {
     "data": {
      "text/plain": [
       "0.02170137788538326"
      ]
     },
     "execution_count": 112,
     "metadata": {},
     "output_type": "execute_result"
    }
   ],
   "source": [
    "5136 / 236667"
   ]
  },
  {
   "cell_type": "code",
   "execution_count": null,
   "metadata": {},
   "outputs": [],
   "source": []
  }
 ],
 "metadata": {
  "kernelspec": {
   "display_name": "Python 3",
   "language": "python",
   "name": "python3"
  },
  "language_info": {
   "codemirror_mode": {
    "name": "ipython",
    "version": 3
   },
   "file_extension": ".py",
   "mimetype": "text/x-python",
   "name": "python",
   "nbconvert_exporter": "python",
   "pygments_lexer": "ipython3",
   "version": "3.6.5"
  }
 },
 "nbformat": 4,
 "nbformat_minor": 2
}
